{
 "cells": [
  {
   "cell_type": "code",
   "execution_count": 1,
   "metadata": {},
   "outputs": [],
   "source": [
    "import numpy as np\n",
    "from glob import glob\n",
    "import os\n",
    "import matplotlib.pyplot as plt"
   ]
  },
  {
   "cell_type": "code",
   "execution_count": 2,
   "metadata": {},
   "outputs": [
    {
     "name": "stdout",
     "output_type": "stream",
     "text": [
      "\u001b[34mREGRESSION_nn_rhorho_Variant-All_Unweighted_False_NO\u001b[m\u001b[m/\r\n",
      "\u001b[34mnn_rhorho_Variant-All_Unweighted_False_NO_NUM_CLASSES_10\u001b[m\u001b[m/\r\n",
      "\u001b[34mnn_rhorho_Variant-All_Unweighted_False_NO_NUM_CLASSES_11\u001b[m\u001b[m/\r\n",
      "\u001b[34mnn_rhorho_Variant-All_Unweighted_False_NO_NUM_CLASSES_12\u001b[m\u001b[m/\r\n",
      "\u001b[34mnn_rhorho_Variant-All_Unweighted_False_NO_NUM_CLASSES_13\u001b[m\u001b[m/\r\n",
      "\u001b[34mnn_rhorho_Variant-All_Unweighted_False_NO_NUM_CLASSES_14\u001b[m\u001b[m/\r\n",
      "\u001b[34mnn_rhorho_Variant-All_Unweighted_False_NO_NUM_CLASSES_15\u001b[m\u001b[m/\r\n",
      "\u001b[34mnn_rhorho_Variant-All_Unweighted_False_NO_NUM_CLASSES_16\u001b[m\u001b[m/\r\n",
      "\u001b[34mnn_rhorho_Variant-All_Unweighted_False_NO_NUM_CLASSES_17\u001b[m\u001b[m/\r\n",
      "\u001b[34mnn_rhorho_Variant-All_Unweighted_False_NO_NUM_CLASSES_18\u001b[m\u001b[m/\r\n",
      "\u001b[34mnn_rhorho_Variant-All_Unweighted_False_NO_NUM_CLASSES_19\u001b[m\u001b[m/\r\n",
      "\u001b[34mnn_rhorho_Variant-All_Unweighted_False_NO_NUM_CLASSES_2\u001b[m\u001b[m/\r\n",
      "\u001b[34mnn_rhorho_Variant-All_Unweighted_False_NO_NUM_CLASSES_20\u001b[m\u001b[m/\r\n",
      "\u001b[34mnn_rhorho_Variant-All_Unweighted_False_NO_NUM_CLASSES_21\u001b[m\u001b[m/\r\n",
      "\u001b[34mnn_rhorho_Variant-All_Unweighted_False_NO_NUM_CLASSES_21_WEIGHTS_SUBS[0, 10]\u001b[m\u001b[m/\r\n",
      "\u001b[34mnn_rhorho_Variant-All_Unweighted_False_NO_NUM_CLASSES_21_WEIGHTS_SUBS[0, 2]\u001b[m\u001b[m/\r\n",
      "\u001b[34mnn_rhorho_Variant-All_Unweighted_False_NO_NUM_CLASSES_21_WEIGHTS_SUBS[0, 6]\u001b[m\u001b[m/\r\n",
      "\u001b[34mnn_rhorho_Variant-All_Unweighted_False_NO_NUM_CLASSES_21_WEIGHTS_SUBS[0, 8]\u001b[m\u001b[m/\r\n",
      "\u001b[34mnn_rhorho_Variant-All_Unweighted_False_NO_NUM_CLASSES_22\u001b[m\u001b[m/\r\n",
      "\u001b[34mnn_rhorho_Variant-All_Unweighted_False_NO_NUM_CLASSES_23\u001b[m\u001b[m/\r\n",
      "\u001b[34mnn_rhorho_Variant-All_Unweighted_False_NO_NUM_CLASSES_24\u001b[m\u001b[m/\r\n",
      "\u001b[34mnn_rhorho_Variant-All_Unweighted_False_NO_NUM_CLASSES_25\u001b[m\u001b[m/\r\n",
      "\u001b[34mnn_rhorho_Variant-All_Unweighted_False_NO_NUM_CLASSES_26\u001b[m\u001b[m/\r\n",
      "\u001b[34mnn_rhorho_Variant-All_Unweighted_False_NO_NUM_CLASSES_27\u001b[m\u001b[m/\r\n",
      "\u001b[34mnn_rhorho_Variant-All_Unweighted_False_NO_NUM_CLASSES_28\u001b[m\u001b[m/\r\n",
      "\u001b[34mnn_rhorho_Variant-All_Unweighted_False_NO_NUM_CLASSES_29\u001b[m\u001b[m/\r\n",
      "\u001b[34mnn_rhorho_Variant-All_Unweighted_False_NO_NUM_CLASSES_3\u001b[m\u001b[m/\r\n",
      "\u001b[34mnn_rhorho_Variant-All_Unweighted_False_NO_NUM_CLASSES_30\u001b[m\u001b[m/\r\n",
      "\u001b[34mnn_rhorho_Variant-All_Unweighted_False_NO_NUM_CLASSES_31\u001b[m\u001b[m/\r\n",
      "\u001b[34mnn_rhorho_Variant-All_Unweighted_False_NO_NUM_CLASSES_32\u001b[m\u001b[m/\r\n",
      "\u001b[34mnn_rhorho_Variant-All_Unweighted_False_NO_NUM_CLASSES_33\u001b[m\u001b[m/\r\n",
      "\u001b[34mnn_rhorho_Variant-All_Unweighted_False_NO_NUM_CLASSES_34\u001b[m\u001b[m/\r\n",
      "\u001b[34mnn_rhorho_Variant-All_Unweighted_False_NO_NUM_CLASSES_35\u001b[m\u001b[m/\r\n",
      "\u001b[34mnn_rhorho_Variant-All_Unweighted_False_NO_NUM_CLASSES_36\u001b[m\u001b[m/\r\n",
      "\u001b[34mnn_rhorho_Variant-All_Unweighted_False_NO_NUM_CLASSES_37\u001b[m\u001b[m/\r\n",
      "\u001b[34mnn_rhorho_Variant-All_Unweighted_False_NO_NUM_CLASSES_38\u001b[m\u001b[m/\r\n",
      "\u001b[34mnn_rhorho_Variant-All_Unweighted_False_NO_NUM_CLASSES_39\u001b[m\u001b[m/\r\n",
      "\u001b[34mnn_rhorho_Variant-All_Unweighted_False_NO_NUM_CLASSES_4\u001b[m\u001b[m/\r\n",
      "\u001b[34mnn_rhorho_Variant-All_Unweighted_False_NO_NUM_CLASSES_40\u001b[m\u001b[m/\r\n",
      "\u001b[34mnn_rhorho_Variant-All_Unweighted_False_NO_NUM_CLASSES_41\u001b[m\u001b[m/\r\n",
      "\u001b[34mnn_rhorho_Variant-All_Unweighted_False_NO_NUM_CLASSES_42\u001b[m\u001b[m/\r\n",
      "\u001b[34mnn_rhorho_Variant-All_Unweighted_False_NO_NUM_CLASSES_43\u001b[m\u001b[m/\r\n",
      "\u001b[34mnn_rhorho_Variant-All_Unweighted_False_NO_NUM_CLASSES_44\u001b[m\u001b[m/\r\n",
      "\u001b[34mnn_rhorho_Variant-All_Unweighted_False_NO_NUM_CLASSES_45\u001b[m\u001b[m/\r\n",
      "\u001b[34mnn_rhorho_Variant-All_Unweighted_False_NO_NUM_CLASSES_46\u001b[m\u001b[m/\r\n",
      "\u001b[34mnn_rhorho_Variant-All_Unweighted_False_NO_NUM_CLASSES_47\u001b[m\u001b[m/\r\n",
      "\u001b[34mnn_rhorho_Variant-All_Unweighted_False_NO_NUM_CLASSES_48\u001b[m\u001b[m/\r\n",
      "\u001b[34mnn_rhorho_Variant-All_Unweighted_False_NO_NUM_CLASSES_49\u001b[m\u001b[m/\r\n",
      "\u001b[34mnn_rhorho_Variant-All_Unweighted_False_NO_NUM_CLASSES_5\u001b[m\u001b[m/\r\n",
      "\u001b[34mnn_rhorho_Variant-All_Unweighted_False_NO_NUM_CLASSES_50\u001b[m\u001b[m/\r\n",
      "\u001b[34mnn_rhorho_Variant-All_Unweighted_False_NO_NUM_CLASSES_6\u001b[m\u001b[m/\r\n",
      "\u001b[34mnn_rhorho_Variant-All_Unweighted_False_NO_NUM_CLASSES_7\u001b[m\u001b[m/\r\n",
      "\u001b[34mnn_rhorho_Variant-All_Unweighted_False_NO_NUM_CLASSES_8\u001b[m\u001b[m/\r\n",
      "\u001b[34mnn_rhorho_Variant-All_Unweighted_False_NO_NUM_CLASSES_9\u001b[m\u001b[m/\r\n"
     ]
    }
   ],
   "source": [
    "ls ../monit_npy/"
   ]
  },
  {
   "cell_type": "code",
   "execution_count": 3,
   "metadata": {},
   "outputs": [],
   "source": [
    "filenames = [f'../monit_npy/nn_rhorho_Variant-All_Unweighted_False_NO_NUM_CLASSES_{i}' for i in range(2,51)]"
   ]
  },
  {
   "cell_type": "code",
   "execution_count": 4,
   "metadata": {},
   "outputs": [],
   "source": [
    "def get_filename_for_class(class_num, subset=None):\n",
    "    d = f'../monit_npy/nn_rhorho_Variant-All_Unweighted_False_NO_NUM_CLASSES_{class_num}'\n",
    "    if subset:\n",
    "        d += \"_WEIGHTS_SUBS\" + str(subset)\n",
    "    return d"
   ]
  },
  {
   "cell_type": "code",
   "execution_count": 5,
   "metadata": {},
   "outputs": [
    {
     "name": "stdout",
     "output_type": "stream",
     "text": [
      "softmax_calc_w.npy   softmax_preds_w.npy\r\n"
     ]
    }
   ],
   "source": [
    "ls ../monit_npy/nn_rhorho_Variant-All_Unweighted_False_NO_NUM_CLASSES_50"
   ]
  },
  {
   "cell_type": "code",
   "execution_count": 6,
   "metadata": {},
   "outputs": [
    {
     "data": {
      "text/plain": [
       "'../monit_npy/nn_rhorho_Variant-All_Unweighted_False_NO_NUM_CLASSES_2'"
      ]
     },
     "execution_count": 6,
     "metadata": {},
     "output_type": "execute_result"
    }
   ],
   "source": [
    "filenames[0]"
   ]
  },
  {
   "cell_type": "code",
   "execution_count": 52,
   "metadata": {},
   "outputs": [],
   "source": [
    "def calc_min_distances(pred_arg_maxs, calc_arg_maxs, num_class):\n",
    "    min_distances = np.zeros(len(calc_arg_maxs))\n",
    "    for i in range(len(calc_arg_maxs)):\n",
    "        dist = pred_arg_maxs[i] - calc_arg_maxs[i]\n",
    "        if np.abs(num_class - 1 + pred_arg_maxs[i] - calc_arg_maxs[i])<np.abs(dist):\n",
    "            dist = num_class - 1 + pred_arg_maxs[i] - calc_arg_maxs[i]\n",
    "        if np.abs(-num_class + 1 + pred_arg_maxs[i] - calc_arg_maxs[i])<np.abs(dist):\n",
    "            dist = -num_class + 1 + pred_arg_maxs[i] - calc_arg_maxs[i]\n",
    "        min_distances[i]  = dist\n",
    "    return min_distances"
   ]
  },
  {
   "cell_type": "code",
   "execution_count": 55,
   "metadata": {},
   "outputs": [],
   "source": [
    "def calculate_metrics(directory, num_class):\n",
    "    calc_w = np.load(os.path.join(directory, 'softmax_calc_w.npy'))\n",
    "    preds_w = np.load(os.path.join(directory, 'softmax_preds_w.npy'))\n",
    "    calc_w = calc_w / np.tile(np.reshape(np.sum(calc_w, axis=1), (-1, 1)), (1, num_class))\n",
    "    pred_arg_maxs = np.argmax(preds_w, axis=1)\n",
    "    calc_arg_maxs = np.argmax(calc_w, axis=1)\n",
    "    \n",
    "    min_distances = calc_min_distances(pred_arg_maxs, calc_arg_maxs, num_class)\n",
    "    \n",
    "    acc0 = (np.abs(min_distances) <= 0).mean()\n",
    "    acc1 = (np.abs(min_distances) <= 1).mean()\n",
    "    acc2 = (np.abs(min_distances) <= 2).mean()\n",
    "    acc3 = (np.abs(min_distances) <= 3).mean()\n",
    "    \n",
    "    mean_error = np.mean(np.abs(min_distances))\n",
    "    l1_delta_w = np.mean(np.abs(calc_w - preds_w))\n",
    "    l2_delta_w = np.sqrt(np.mean((calc_w - preds_w)**2))\n",
    "    \n",
    "    return np.array([acc0, acc1, acc2, acc3, mean_error, l1_delta_w, l2_delta_w])"
   ]
  },
  {
   "cell_type": "code",
   "execution_count": 56,
   "metadata": {},
   "outputs": [],
   "source": [
    "metrics = [calculate_metrics(filenames[i], i+2) for i in range(49)]"
   ]
  },
  {
   "cell_type": "code",
   "execution_count": null,
   "metadata": {},
   "outputs": [],
   "source": []
  },
  {
   "cell_type": "code",
   "execution_count": 57,
   "metadata": {},
   "outputs": [],
   "source": [
    "metrics = np.stack(metrics)"
   ]
  },
  {
   "cell_type": "markdown",
   "metadata": {},
   "source": [
    "# Accuracy"
   ]
  },
  {
   "cell_type": "code",
   "execution_count": 58,
   "metadata": {},
   "outputs": [
    {
     "data": {
      "text/plain": [
       "Text(0,0.5,'Accuracy')"
      ]
     },
     "execution_count": 58,
     "metadata": {},
     "output_type": "execute_result"
    },
    {
     "data": {
      "image/png": "[encoded data removed]",
      "text/plain": [
       "<Figure size 432x288 with 1 Axes>"
      ]
     },
     "metadata": {},
     "output_type": "display_data"
    }
   ],
   "source": [
    "plt.plot(metrics[:, 0],'+', label='Max distance 0')\n",
    "plt.plot(metrics[:, 1],'+', label='Max distance 1')\n",
    "plt.plot(metrics[:, 2],'+', label='Max distance 2')\n",
    "plt.plot(metrics[:, 3],'+', label='Max distance 3')\n",
    "plt.legend(loc='upper right')\n",
    "plt.xlabel('Number of classes')\n",
    "plt.ylabel('Accuracy')"
   ]
  },
  {
   "cell_type": "markdown",
   "metadata": {},
   "source": [
    "# Mean error"
   ]
  },
  {
   "cell_type": "code",
   "execution_count": 59,
   "metadata": {},
   "outputs": [
    {
     "data": {
      "text/plain": [
       "[<matplotlib.lines.Line2D at 0x1174a6898>]"
      ]
     },
     "execution_count": 59,
     "metadata": {},
     "output_type": "execute_result"
    },
    {
     "data": {
      "image/png": "[encoded data removed]",
      "text/plain": [
       "<Figure size 432x288 with 1 Axes>"
      ]
     },
     "metadata": {},
     "output_type": "display_data"
    }
   ],
   "source": [
    "plt.plot(metrics[1:, 4], 'o')\n",
    "\n"
   ]
  },
  {
   "cell_type": "markdown",
   "metadata": {},
   "source": [
    "# L1 Distance"
   ]
  },
  {
   "cell_type": "code",
   "execution_count": 60,
   "metadata": {},
   "outputs": [
    {
     "data": {
      "text/plain": [
       "Text(0,0.5,'l1')"
      ]
     },
     "execution_count": 60,
     "metadata": {},
     "output_type": "execute_result"
    },
    {
     "data": {
      "image/png": "[encoded data removed]",
      "text/plain": [
       "<Figure size 432x288 with 1 Axes>"
      ]
     },
     "metadata": {},
     "output_type": "display_data"
    }
   ],
   "source": [
    "plt.plot(metrics[1:, 5], '+')\n",
    "plt.xlabel(\"Number of classes\")\n",
    "plt.ylabel('l1')"
   ]
  },
  {
   "cell_type": "markdown",
   "metadata": {},
   "source": [
    "# L2 Distance"
   ]
  },
  {
   "cell_type": "code",
   "execution_count": 61,
   "metadata": {},
   "outputs": [
    {
     "data": {
      "text/plain": [
       "[<matplotlib.lines.Line2D at 0x11964b400>]"
      ]
     },
     "execution_count": 61,
     "metadata": {},
     "output_type": "execute_result"
    },
    {
     "data": {
      "image/png": "[encoded data removed]",
      "text/plain": [
       "<Figure size 432x288 with 1 Axes>"
      ]
     },
     "metadata": {},
     "output_type": "display_data"
    }
   ],
   "source": [
    "plt.plot(metrics[1:, 6])"
   ]
  },
  {
   "cell_type": "markdown",
   "metadata": {},
   "source": [
    "# ROC AUC score"
   ]
  },
  {
   "cell_type": "code",
   "execution_count": 14,
   "metadata": {},
   "outputs": [],
   "source": [
    "from sklearn.metrics import roc_auc_score\n",
    "def calculate_roc_auc(pred_w, calc_w, index_a, index_b):\n",
    "    n, num_classes = calc_w.shape\n",
    "    true_labels = np.concatenate([np.ones(n), np.zeros(n)])\n",
    "    preds = np.concatenate([pred_w[:, index_a], pred_w[:, index_a]])\n",
    "    weights = np.concatenate([calc_w[:, index_a], calc_w[:, index_b]])\n",
    "\n",
    "    return roc_auc_score(true_labels, preds, sample_weight=weights)"
   ]
  },
  {
   "cell_type": "code",
   "execution_count": 15,
   "metadata": {},
   "outputs": [],
   "source": [
    "def test_roc_auc(directory, num_class):\n",
    "    calc_w = np.load(os.path.join(directory, 'softmax_calc_w.npy'))\n",
    "    preds_w = np.load(os.path.join(directory, 'softmax_preds_w.npy'))\n",
    "    for i in range(0, num_class):\n",
    "         print(i, 'roc_auc: {}'.format(calculate_roc_auc(preds_w, calc_w, 0, i)), 'maxroc_auc: {}'.format(calculate_roc_auc(calc_w, calc_w, 0, i)))"
   ]
  },
  {
   "cell_type": "code",
   "execution_count": 16,
   "metadata": {},
   "outputs": [
    {
     "name": "stdout",
     "output_type": "stream",
     "text": [
      "0 roc_auc: 0.49999999999999567 maxroc_auc: 0.5000000000000064\n",
      "1 roc_auc: 0.5048067364824772 maxroc_auc: 0.5055437905866971\n",
      "2 roc_auc: 0.5193160890064648 maxroc_auc: 0.5213842940994315\n",
      "3 roc_auc: 0.542106919271242 maxroc_auc: 0.5459702471320407\n",
      "4 roc_auc: 0.5709580477161167 maxroc_auc: 0.5769055838179316\n",
      "5 roc_auc: 0.6030619663019495 maxroc_auc: 0.6111799506498055\n",
      "6 roc_auc: 0.6352933285011289 maxroc_auc: 0.6454566069027339\n",
      "7 roc_auc: 0.6645083290751571 maxroc_auc: 0.6763920917949123\n",
      "8 roc_auc: 0.687848152201201 maxroc_auc: 0.7009590049115344\n",
      "9 roc_auc: 0.7030184242088673 maxroc_auc: 0.7167420249191476\n",
      "10 roc_auc: 0.7085174844611754 maxroc_auc: 0.72217833564523\n",
      "11 roc_auc: 0.7037897456394488 maxroc_auc: 0.7167174215865095\n",
      "12 roc_auc: 0.6892867054269389 maxroc_auc: 0.7008819935460375\n",
      "13 roc_auc: 0.6664270908353371 maxroc_auc: 0.6762213760598018\n",
      "14 roc_auc: 0.6374583547421923 maxroc_auc: 0.6451601543254943\n",
      "15 roc_auc: 0.6052329275373992 maxroc_auc: 0.6107567659019254\n",
      "16 roc_auc: 0.5729225680091442 maxroc_auc: 0.5763972334785138\n",
      "17 roc_auc: 0.543701255524793 maxroc_auc: 0.545456673538584\n",
      "18 roc_auc: 0.5204302166417601 maxroc_auc: 0.520964424780411\n",
      "19 roc_auc: 0.5053775518294816 maxroc_auc: 0.5053072893379236\n",
      "20 roc_auc: 0.49999999999999556 maxroc_auc: 0.5000000000000064\n"
     ]
    }
   ],
   "source": [
    "i = 21\n",
    "test_roc_auc(get_filename_for_class(i), i)"
   ]
  },
  {
   "cell_type": "code",
   "execution_count": 17,
   "metadata": {},
   "outputs": [
    {
     "name": "stdout",
     "output_type": "stream",
     "text": [
      "0 roc_auc: 0.49999999999999567 maxroc_auc: 0.5000000000000064\n",
      "1 roc_auc: 0.5048067364824772 maxroc_auc: 0.5055437905866971\n",
      "2 roc_auc: 0.5193160890064648 maxroc_auc: 0.5213842940994315\n",
      "3 roc_auc: 0.542106919271242 maxroc_auc: 0.5459702471320407\n",
      "4 roc_auc: 0.5709580477161167 maxroc_auc: 0.5769055838179316\n",
      "5 roc_auc: 0.6030619663019495 maxroc_auc: 0.6111799506498055\n",
      "6 roc_auc: 0.6352933285011289 maxroc_auc: 0.6454566069027339\n",
      "7 roc_auc: 0.6645083290751571 maxroc_auc: 0.6763920917949123\n",
      "8 roc_auc: 0.687848152201201 maxroc_auc: 0.7009590049115344\n",
      "9 roc_auc: 0.7030184242088673 maxroc_auc: 0.7167420249191476\n",
      "10 roc_auc: 0.7085174844611754 maxroc_auc: 0.72217833564523\n",
      "11 roc_auc: 0.7037897456394488 maxroc_auc: 0.7167174215865095\n",
      "12 roc_auc: 0.6892867054269389 maxroc_auc: 0.7008819935460375\n",
      "13 roc_auc: 0.6664270908353371 maxroc_auc: 0.6762213760598018\n",
      "14 roc_auc: 0.6374583547421923 maxroc_auc: 0.6451601543254943\n",
      "15 roc_auc: 0.6052329275373992 maxroc_auc: 0.6107567659019254\n",
      "16 roc_auc: 0.5729225680091442 maxroc_auc: 0.5763972334785138\n",
      "17 roc_auc: 0.543701255524793 maxroc_auc: 0.545456673538584\n",
      "18 roc_auc: 0.5204302166417601 maxroc_auc: 0.520964424780411\n",
      "19 roc_auc: 0.5053775518294816 maxroc_auc: 0.5053072893379236\n",
      "20 roc_auc: 0.49999999999999556 maxroc_auc: 0.5000000000000064\n"
     ]
    }
   ],
   "source": [
    "i = 21\n",
    "test_roc_auc(get_filename_for_class(i), i)"
   ]
  },
  {
   "cell_type": "markdown",
   "metadata": {},
   "source": [
    "## Baseline"
   ]
  },
  {
   "cell_type": "code",
   "execution_count": 18,
   "metadata": {},
   "outputs": [
    {
     "name": "stdout",
     "output_type": "stream",
     "text": [
      "0 roc_auc: 0.4999999999999933 maxroc_auc: 0.5000000000000052\n",
      "1 roc_auc: 0.6639896560945292 maxroc_auc: 0.6454566069027331\n"
     ]
    }
   ],
   "source": [
    "i = 21\n",
    "subset = [0,6] # Run with option --WEIGHTS_SUBSET [0,6]\n",
    "test_roc_auc(get_filename_for_class(i, subset), 2)"
   ]
  },
  {
   "cell_type": "code",
   "execution_count": 19,
   "metadata": {},
   "outputs": [
    {
     "name": "stdout",
     "output_type": "stream",
     "text": [
      "0 roc_auc: 0.5000000000000063 maxroc_auc: 0.5000000000000052\n",
      "1 roc_auc: 0.701805957934322 maxroc_auc: 0.7221783356452286\n"
     ]
    }
   ],
   "source": [
    "i = 21\n",
    "subset = [0,10] # Run with option --WEIGHTS_SUBSET [0,10]\n",
    "test_roc_auc(get_filename_for_class(i, subset), 2)"
   ]
  },
  {
   "cell_type": "code",
   "execution_count": 20,
   "metadata": {},
   "outputs": [
    {
     "name": "stdout",
     "output_type": "stream",
     "text": [
      "0 roc_auc: 0.4999999999999986 maxroc_auc: 0.5000000000000052\n",
      "1 roc_auc: 0.5568512762550901 maxroc_auc: 0.521384294099431\n"
     ]
    }
   ],
   "source": [
    "i = 21\n",
    "subset = [0,2] # Run with option --WEIGHTS_SUBSET [0,2]\n",
    "test_roc_auc(get_filename_for_class(i, subset), 2)"
   ]
  },
  {
   "cell_type": "code",
   "execution_count": 21,
   "metadata": {},
   "outputs": [
    {
     "name": "stdout",
     "output_type": "stream",
     "text": [
      "0 roc_auc: 0.4999999999999992 maxroc_auc: 0.5000000000000052\n",
      "1 roc_auc: 0.6897154024886555 maxroc_auc: 0.7009590049115341\n"
     ]
    }
   ],
   "source": [
    "i = 21\n",
    "subset = [0,8] # Run with option --WEIGHTS_SUBSET [0,8]\n",
    "test_roc_auc(get_filename_for_class(i, subset), 2)"
   ]
  },
  {
   "cell_type": "markdown",
   "metadata": {},
   "source": [
    "# Accuracy distance"
   ]
  },
  {
   "cell_type": "code",
   "execution_count": 64,
   "metadata": {},
   "outputs": [],
   "source": [
    "def plot_distr(directory, num_class):\n",
    "    calc_w = np.load(os.path.join(directory, 'softmax_calc_w.npy'))\n",
    "    preds_w = np.load(os.path.join(directory, 'softmax_preds_w.npy'))\n",
    "    pred_arg_maxs = np.argmax(preds_w, axis=1)\n",
    "    calc_arg_maxs = np.argmax(calc_w, axis=1)\n",
    "    min_distances = calc_min_distances(pred_arg_maxs, calc_arg_maxs, num_class)\n",
    "    \n",
    "    plt.hist(min_distances, bins=num_class-1, histtype='step')\n",
    "    plt.xlabel('Prediction error distance')\n",
    "    "
   ]
  },
  {
   "cell_type": "code",
   "execution_count": 65,
   "metadata": {},
   "outputs": [
    {
     "data": {
      "image/png": "[encoded data removed]",
      "text/plain": [
       "<Figure size 432x288 with 1 Axes>"
      ]
     },
     "metadata": {},
     "output_type": "display_data"
    }
   ],
   "source": [
    "i = 30\n",
    "plot_distr(filenames[i], i+2)"
   ]
  },
  {
   "cell_type": "code",
   "execution_count": 66,
   "metadata": {},
   "outputs": [
    {
     "data": {
      "image/png": "[encoded data removed]",
      "text/plain": [
       "<Figure size 432x288 with 1 Axes>"
      ]
     },
     "metadata": {},
     "output_type": "display_data"
    }
   ],
   "source": [
    "i = 48\n",
    "plot_distr(filenames[i], i+2)"
   ]
  },
  {
   "cell_type": "code",
   "execution_count": 67,
   "metadata": {},
   "outputs": [
    {
     "data": {
      "image/png": "[encoded data removed]",
      "text/plain": [
       "<Figure size 432x288 with 1 Axes>"
      ]
     },
     "metadata": {},
     "output_type": "display_data"
    }
   ],
   "source": [
    "i = 6\n",
    "plot_distr(filenames[i], i+2)"
   ]
  },
  {
   "cell_type": "code",
   "execution_count": 68,
   "metadata": {},
   "outputs": [
    {
     "data": {
      "image/png": "[encoded data removed]",
      "text/plain": [
       "<Figure size 432x288 with 1 Axes>"
      ]
     },
     "metadata": {},
     "output_type": "display_data"
    }
   ],
   "source": [
    "i = 16\n",
    "plot_distr(filenames[i], i+2)"
   ]
  },
  {
   "cell_type": "code",
   "execution_count": null,
   "metadata": {},
   "outputs": [],
   "source": []
  },
  {
   "cell_type": "code",
   "execution_count": null,
   "metadata": {},
   "outputs": [],
   "source": []
  },
  {
   "cell_type": "code",
   "execution_count": null,
   "metadata": {},
   "outputs": [],
   "source": []
  }
 ],
 "metadata": {
  "kernelspec": {
   "display_name": "Python 3",
   "language": "python",
   "name": "python3"
  },
  "language_info": {
   "codemirror_mode": {
    "name": "ipython",
    "version": 3
   },
   "file_extension": ".py",
   "mimetype": "text/x-python",
   "name": "python",
   "nbconvert_exporter": "python",
   "pygments_lexer": "ipython3",
   "version": "3.6.5"
  }
 },
 "nbformat": 4,
 "nbformat_minor": 2
}
