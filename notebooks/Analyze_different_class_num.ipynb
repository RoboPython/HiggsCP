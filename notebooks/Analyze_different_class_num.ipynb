{
 "cells": [
  {
   "cell_type": "code",
   "execution_count": 5,
   "metadata": {},
   "outputs": [],
   "source": [
    "import numpy as np\n",
    "from glob import glob\n",
    "import os"
   ]
  },
  {
   "cell_type": "code",
   "execution_count": 6,
   "metadata": {},
   "outputs": [
    {
     "name": "stdout",
     "output_type": "stream",
     "text": [
      "\u001b[34mnn_rhorho_Variant-All_Unweighted_False_NO_NUM_CLASSES_10\u001b[m\u001b[m/\r\n",
      "\u001b[34mnn_rhorho_Variant-All_Unweighted_False_NO_NUM_CLASSES_11\u001b[m\u001b[m/\r\n",
      "\u001b[34mnn_rhorho_Variant-All_Unweighted_False_NO_NUM_CLASSES_12\u001b[m\u001b[m/\r\n",
      "\u001b[34mnn_rhorho_Variant-All_Unweighted_False_NO_NUM_CLASSES_13\u001b[m\u001b[m/\r\n",
      "\u001b[34mnn_rhorho_Variant-All_Unweighted_False_NO_NUM_CLASSES_14\u001b[m\u001b[m/\r\n",
      "\u001b[34mnn_rhorho_Variant-All_Unweighted_False_NO_NUM_CLASSES_15\u001b[m\u001b[m/\r\n",
      "\u001b[34mnn_rhorho_Variant-All_Unweighted_False_NO_NUM_CLASSES_16\u001b[m\u001b[m/\r\n",
      "\u001b[34mnn_rhorho_Variant-All_Unweighted_False_NO_NUM_CLASSES_17\u001b[m\u001b[m/\r\n",
      "\u001b[34mnn_rhorho_Variant-All_Unweighted_False_NO_NUM_CLASSES_18\u001b[m\u001b[m/\r\n",
      "\u001b[34mnn_rhorho_Variant-All_Unweighted_False_NO_NUM_CLASSES_19\u001b[m\u001b[m/\r\n",
      "\u001b[34mnn_rhorho_Variant-All_Unweighted_False_NO_NUM_CLASSES_2\u001b[m\u001b[m/\r\n",
      "\u001b[34mnn_rhorho_Variant-All_Unweighted_False_NO_NUM_CLASSES_20\u001b[m\u001b[m/\r\n",
      "\u001b[34mnn_rhorho_Variant-All_Unweighted_False_NO_NUM_CLASSES_21\u001b[m\u001b[m/\r\n",
      "\u001b[34mnn_rhorho_Variant-All_Unweighted_False_NO_NUM_CLASSES_22\u001b[m\u001b[m/\r\n",
      "\u001b[34mnn_rhorho_Variant-All_Unweighted_False_NO_NUM_CLASSES_23\u001b[m\u001b[m/\r\n",
      "\u001b[34mnn_rhorho_Variant-All_Unweighted_False_NO_NUM_CLASSES_24\u001b[m\u001b[m/\r\n",
      "\u001b[34mnn_rhorho_Variant-All_Unweighted_False_NO_NUM_CLASSES_25\u001b[m\u001b[m/\r\n",
      "\u001b[34mnn_rhorho_Variant-All_Unweighted_False_NO_NUM_CLASSES_26\u001b[m\u001b[m/\r\n",
      "\u001b[34mnn_rhorho_Variant-All_Unweighted_False_NO_NUM_CLASSES_27\u001b[m\u001b[m/\r\n",
      "\u001b[34mnn_rhorho_Variant-All_Unweighted_False_NO_NUM_CLASSES_28\u001b[m\u001b[m/\r\n",
      "\u001b[34mnn_rhorho_Variant-All_Unweighted_False_NO_NUM_CLASSES_29\u001b[m\u001b[m/\r\n",
      "\u001b[34mnn_rhorho_Variant-All_Unweighted_False_NO_NUM_CLASSES_3\u001b[m\u001b[m/\r\n",
      "\u001b[34mnn_rhorho_Variant-All_Unweighted_False_NO_NUM_CLASSES_30\u001b[m\u001b[m/\r\n",
      "\u001b[34mnn_rhorho_Variant-All_Unweighted_False_NO_NUM_CLASSES_31\u001b[m\u001b[m/\r\n",
      "\u001b[34mnn_rhorho_Variant-All_Unweighted_False_NO_NUM_CLASSES_32\u001b[m\u001b[m/\r\n",
      "\u001b[34mnn_rhorho_Variant-All_Unweighted_False_NO_NUM_CLASSES_33\u001b[m\u001b[m/\r\n",
      "\u001b[34mnn_rhorho_Variant-All_Unweighted_False_NO_NUM_CLASSES_34\u001b[m\u001b[m/\r\n",
      "\u001b[34mnn_rhorho_Variant-All_Unweighted_False_NO_NUM_CLASSES_35\u001b[m\u001b[m/\r\n",
      "\u001b[34mnn_rhorho_Variant-All_Unweighted_False_NO_NUM_CLASSES_36\u001b[m\u001b[m/\r\n",
      "\u001b[34mnn_rhorho_Variant-All_Unweighted_False_NO_NUM_CLASSES_37\u001b[m\u001b[m/\r\n",
      "\u001b[34mnn_rhorho_Variant-All_Unweighted_False_NO_NUM_CLASSES_38\u001b[m\u001b[m/\r\n",
      "\u001b[34mnn_rhorho_Variant-All_Unweighted_False_NO_NUM_CLASSES_39\u001b[m\u001b[m/\r\n",
      "\u001b[34mnn_rhorho_Variant-All_Unweighted_False_NO_NUM_CLASSES_4\u001b[m\u001b[m/\r\n",
      "\u001b[34mnn_rhorho_Variant-All_Unweighted_False_NO_NUM_CLASSES_40\u001b[m\u001b[m/\r\n",
      "\u001b[34mnn_rhorho_Variant-All_Unweighted_False_NO_NUM_CLASSES_41\u001b[m\u001b[m/\r\n",
      "\u001b[34mnn_rhorho_Variant-All_Unweighted_False_NO_NUM_CLASSES_42\u001b[m\u001b[m/\r\n",
      "\u001b[34mnn_rhorho_Variant-All_Unweighted_False_NO_NUM_CLASSES_43\u001b[m\u001b[m/\r\n",
      "\u001b[34mnn_rhorho_Variant-All_Unweighted_False_NO_NUM_CLASSES_44\u001b[m\u001b[m/\r\n",
      "\u001b[34mnn_rhorho_Variant-All_Unweighted_False_NO_NUM_CLASSES_45\u001b[m\u001b[m/\r\n",
      "\u001b[34mnn_rhorho_Variant-All_Unweighted_False_NO_NUM_CLASSES_46\u001b[m\u001b[m/\r\n",
      "\u001b[34mnn_rhorho_Variant-All_Unweighted_False_NO_NUM_CLASSES_47\u001b[m\u001b[m/\r\n",
      "\u001b[34mnn_rhorho_Variant-All_Unweighted_False_NO_NUM_CLASSES_48\u001b[m\u001b[m/\r\n",
      "\u001b[34mnn_rhorho_Variant-All_Unweighted_False_NO_NUM_CLASSES_49\u001b[m\u001b[m/\r\n",
      "\u001b[34mnn_rhorho_Variant-All_Unweighted_False_NO_NUM_CLASSES_5\u001b[m\u001b[m/\r\n",
      "\u001b[34mnn_rhorho_Variant-All_Unweighted_False_NO_NUM_CLASSES_50\u001b[m\u001b[m/\r\n",
      "\u001b[34mnn_rhorho_Variant-All_Unweighted_False_NO_NUM_CLASSES_6\u001b[m\u001b[m/\r\n",
      "\u001b[34mnn_rhorho_Variant-All_Unweighted_False_NO_NUM_CLASSES_7\u001b[m\u001b[m/\r\n",
      "\u001b[34mnn_rhorho_Variant-All_Unweighted_False_NO_NUM_CLASSES_8\u001b[m\u001b[m/\r\n",
      "\u001b[34mnn_rhorho_Variant-All_Unweighted_False_NO_NUM_CLASSES_9\u001b[m\u001b[m/\r\n"
     ]
    }
   ],
   "source": [
    "ls ../monit_npy/"
   ]
  },
  {
   "cell_type": "code",
   "execution_count": 7,
   "metadata": {},
   "outputs": [],
   "source": [
    "filenames = [f'../monit_npy/nn_rhorho_Variant-All_Unweighted_False_NO_NUM_CLASSES_{i}' for i in range(2,51)]"
   ]
  },
  {
   "cell_type": "code",
   "execution_count": 8,
   "metadata": {},
   "outputs": [
    {
     "name": "stdout",
     "output_type": "stream",
     "text": [
      "softmax_calc_w.npy   softmax_preds_w.npy\r\n"
     ]
    }
   ],
   "source": [
    "ls ../monit_npy/nn_rhorho_Variant-All_Unweighted_False_NO_NUM_CLASSES_50"
   ]
  },
  {
   "cell_type": "code",
   "execution_count": 9,
   "metadata": {},
   "outputs": [
    {
     "data": {
      "text/plain": [
       "'../monit_npy/nn_rhorho_Variant-All_Unweighted_False_NO_NUM_CLASSES_2'"
      ]
     },
     "execution_count": 9,
     "metadata": {},
     "output_type": "execute_result"
    }
   ],
   "source": [
    "filenames[0]"
   ]
  },
  {
   "cell_type": "code",
   "execution_count": 13,
   "metadata": {},
   "outputs": [],
   "source": [
    "def calculate_metrics(directory, num_class):\n",
    "    calc_w = np.load(os.path.join(directory, 'softmax_calc_w.npy'))\n",
    "    preds_w = np.load(os.path.join(directory, 'softmax_preds_w.npy'))\n",
    "    calc_w = calc_w / np.tile(np.reshape(np.sum(calc_w, axis=1), (-1, 1)), (1, num_class))\n",
    "    pred_arg_maxs = np.argmax(preds_w, axis=1)\n",
    "    calc_arg_maxs = np.argmax(calc_w, axis=1)\n",
    "    calc_pred_argmaxs_distances = np.min(\n",
    "       np.stack(\n",
    "           [np.abs(pred_arg_maxs-calc_arg_maxs), (num_class - np.abs(pred_arg_maxs-calc_arg_maxs))]\n",
    "       ), axis=0)\n",
    "    acc0 = (calc_pred_argmaxs_distances <= 0).mean()\n",
    "    acc1 = (calc_pred_argmaxs_distances <= 1).mean()\n",
    "    acc2 = (calc_pred_argmaxs_distances <= 2).mean()\n",
    "    acc3 = (calc_pred_argmaxs_distances <= 3).mean()\n",
    "    \n",
    "    mse = np.mean(calc_pred_argmaxs_distances)\n",
    "    l1_delta_w = np.mean(np.abs(calc_w - preds_w))/num_class\n",
    "    l2_delta_w = np.sqrt(np.mean((calc_w - preds_w)**2))/num_class\n",
    "    \n",
    "    return np.array([acc0, acc1, acc2, acc3, mse, l1_delta_w, l2_delta_w])"
   ]
  },
  {
   "cell_type": "code",
   "execution_count": 14,
   "metadata": {},
   "outputs": [],
   "source": [
    "metrics = [calculate_metrics(filenames[i], i+2) for i in range(49)]"
   ]
  },
  {
   "cell_type": "code",
   "execution_count": 15,
   "metadata": {},
   "outputs": [],
   "source": [
    "import matplotlib.pyplot as plt"
   ]
  },
  {
   "cell_type": "code",
   "execution_count": 16,
   "metadata": {},
   "outputs": [],
   "source": [
    "metrics = np.stack(metrics)"
   ]
  },
  {
   "cell_type": "markdown",
   "metadata": {},
   "source": [
    "# Accuracy"
   ]
  },
  {
   "cell_type": "code",
   "execution_count": 76,
   "metadata": {},
   "outputs": [
    {
     "data": {
      "text/plain": [
       "[<matplotlib.lines.Line2D at 0x11b1dfe48>]"
      ]
     },
     "execution_count": 76,
     "metadata": {},
     "output_type": "execute_result"
    },
    {
     "data": {
      "image/png": "[encoded data removed]",
      "text/plain": [
       "<Figure size 432x288 with 1 Axes>"
      ]
     },
     "metadata": {},
     "output_type": "display_data"
    }
   ],
   "source": [
    "plt.plot(metrics[:, 0],'+')\n",
    "plt.plot(metrics[:, 1],'+')\n",
    "plt.plot(metrics[:, 2],'+')\n",
    "plt.plot(metrics[:, 3],'+')\n"
   ]
  },
  {
   "cell_type": "markdown",
   "metadata": {},
   "source": [
    "# MSE"
   ]
  },
  {
   "cell_type": "code",
   "execution_count": 85,
   "metadata": {},
   "outputs": [
    {
     "data": {
      "text/plain": [
       "[<matplotlib.lines.Line2D at 0x11c6666a0>]"
      ]
     },
     "execution_count": 85,
     "metadata": {},
     "output_type": "execute_result"
    },
    {
     "data": {
      "image/png": "[encoded data removed]",
      "text/plain": [
       "<Figure size 432x288 with 1 Axes>"
      ]
     },
     "metadata": {},
     "output_type": "display_data"
    }
   ],
   "source": [
    "plt.plot(metrics[:, 5])\n",
    "\n"
   ]
  },
  {
   "cell_type": "markdown",
   "metadata": {},
   "source": [
    "# L1 Distance"
   ]
  },
  {
   "cell_type": "code",
   "execution_count": 88,
   "metadata": {},
   "outputs": [
    {
     "data": {
      "text/plain": [
       "Text(0,0.5,'l1')"
      ]
     },
     "execution_count": 88,
     "metadata": {},
     "output_type": "execute_result"
    },
    {
     "data": {
      "image/png": "[encoded data removed]",
      "text/plain": [
       "<Figure size 432x288 with 1 Axes>"
      ]
     },
     "metadata": {},
     "output_type": "display_data"
    }
   ],
   "source": [
    "plt.plot(metrics[1:, 6], '+')\n",
    "plt.xlabel(\"Number of classes\")\n",
    "plt.ylabel('l1')"
   ]
  },
  {
   "cell_type": "markdown",
   "metadata": {},
   "source": [
    "# L2 Distance"
   ]
  },
  {
   "cell_type": "code",
   "execution_count": 23,
   "metadata": {},
   "outputs": [
    {
     "data": {
      "text/plain": [
       "[<matplotlib.lines.Line2D at 0x11a604b70>]"
      ]
     },
     "execution_count": 23,
     "metadata": {},
     "output_type": "execute_result"
    },
    {
     "data": {
      "image/png": "[encoded data removed]",
      "text/plain": [
       "<Figure size 432x288 with 1 Axes>"
      ]
     },
     "metadata": {},
     "output_type": "display_data"
    }
   ],
   "source": [
    "plt.plot(metrics[1:, 7])"
   ]
  },
  {
   "cell_type": "markdown",
   "metadata": {},
   "source": [
    "# ROC AUC score"
   ]
  },
  {
   "cell_type": "code",
   "execution_count": 145,
   "metadata": {},
   "outputs": [],
   "source": [
    "from sklearn.metrics import roc_auc_score\n",
    "def calculate_roc_auc(pred_w, calc_w, index_a, index_b):\n",
    "    n, num_classes = calc_w.shape\n",
    "    true_labels = np.concatenate([np.ones(n), np.zeros(n)])\n",
    "    preds = np.concatenate([pred_w[:, index_a], pred_w[:, index_a]])\n",
    "    weights = np.concatenate([calc_w[:, index_a], calc_w[:, index_b]])\n",
    "\n",
    "    return roc_auc_score(true_labels, preds, sample_weight=weights)"
   ]
  },
  {
   "cell_type": "code",
   "execution_count": 159,
   "metadata": {},
   "outputs": [],
   "source": [
    "def test_roc_auc(directory, num_class):\n",
    "    calc_w = np.load(os.path.join(directory, 'softmax_calc_w.npy'))\n",
    "    preds_w = np.load(os.path.join(directory, 'softmax_preds_w.npy'))\n",
    "    for i in range(0, num_class):\n",
    "         print(i, 'roc_auc: {}'.format(calculate_roc_auc(preds_w, calc_w, 0, i)), 'maxroc_auc: {}'.format(calculate_roc_auc(calc_w, calc_w, 0, i)))"
   ]
  },
  {
   "cell_type": "code",
   "execution_count": 160,
   "metadata": {},
   "outputs": [
    {
     "name": "stdout",
     "output_type": "stream",
     "text": [
      "0 roc_auc: 0.5000000000000031 maxroc_auc: 0.5000000000000064\n",
      "1 roc_auc: 0.551783682890363 maxroc_auc: 0.5557151267562858\n",
      "2 roc_auc: 0.6563347427177485 maxroc_auc: 0.6666483139876462\n",
      "3 roc_auc: 0.709397709758139 maxroc_auc: 0.72217833564523\n",
      "4 roc_auc: 0.6575931969779887 maxroc_auc: 0.666438096842351\n",
      "5 roc_auc: 0.5527463138136285 maxroc_auc: 0.5551927056728906\n",
      "6 roc_auc: 0.5000000000000031 maxroc_auc: 0.5000000000000064\n"
     ]
    }
   ],
   "source": [
    "i = 5\n",
    "test_roc_auc(filenames[i], i+2)"
   ]
  },
  {
   "cell_type": "code",
   "execution_count": null,
   "metadata": {},
   "outputs": [],
   "source": []
  },
  {
   "cell_type": "markdown",
   "metadata": {},
   "source": [
    "# Accuracy distance"
   ]
  },
  {
   "cell_type": "code",
   "execution_count": 78,
   "metadata": {},
   "outputs": [],
   "source": [
    "def plot_distr(directory, num_class):\n",
    "    calc_w = np.load(os.path.join(directory, 'softmax_calc_w.npy'))\n",
    "    preds_w = np.load(os.path.join(directory, 'softmax_preds_w.npy'))\n",
    "    pred_arg_maxs = np.argmax(preds_w, axis=1)\n",
    "    calc_arg_maxs = np.argmax(calc_w, axis=1)\n",
    "    calc_pred_argmaxs_distances = np.min(\n",
    "       np.stack(\n",
    "           [np.abs(pred_arg_maxs-calc_arg_maxs), (num_class - np.abs(pred_arg_maxs-calc_arg_maxs))]\n",
    "       ), axis=0)\n",
    "    den = np.abs(pred_arg_maxs-calc_arg_maxs)\n",
    "    den[den==0]=1\n",
    "    direction = (pred_arg_maxs-calc_arg_maxs)/den\n",
    "    calc_pred_argmaxs_distances *= np.int32(direction)\n",
    "    plt.hist(calc_pred_argmaxs_distances, bins=num_class+1, histtype='step')\n",
    "    plt.xlabel('Prediction error distance')\n",
    "    "
   ]
  },
  {
   "cell_type": "code",
   "execution_count": 79,
   "metadata": {},
   "outputs": [
    {
     "data": {
      "image/png": "[encoded data removed]",
      "text/plain": [
       "<Figure size 432x288 with 1 Axes>"
      ]
     },
     "metadata": {},
     "output_type": "display_data"
    }
   ],
   "source": [
    "i = 30\n",
    "plot_distr(filenames[i], i+2)"
   ]
  },
  {
   "cell_type": "code",
   "execution_count": 80,
   "metadata": {},
   "outputs": [
    {
     "data": {
      "image/png": "[encoded data removed]",
      "text/plain": [
       "<Figure size 432x288 with 1 Axes>"
      ]
     },
     "metadata": {},
     "output_type": "display_data"
    }
   ],
   "source": [
    "i = 48\n",
    "plot_distr(filenames[i], i+2)"
   ]
  },
  {
   "cell_type": "code",
   "execution_count": 81,
   "metadata": {},
   "outputs": [
    {
     "data": {
      "image/png": "[encoded data removed]",
      "text/plain": [
       "<Figure size 432x288 with 1 Axes>"
      ]
     },
     "metadata": {},
     "output_type": "display_data"
    }
   ],
   "source": [
    "i = 6\n",
    "plot_distr(filenames[i], i+2)"
   ]
  },
  {
   "cell_type": "code",
   "execution_count": 82,
   "metadata": {},
   "outputs": [
    {
     "data": {
      "image/png": "[encoded data removed]",
      "text/plain": [
       "<Figure size 432x288 with 1 Axes>"
      ]
     },
     "metadata": {},
     "output_type": "display_data"
    }
   ],
   "source": [
    "i = 16\n",
    "plot_distr(filenames[i], i+2)"
   ]
  },
  {
   "cell_type": "code",
   "execution_count": null,
   "metadata": {},
   "outputs": [],
   "source": []
  }
 ],
 "metadata": {
  "kernelspec": {
   "display_name": "Python 3",
   "language": "python",
   "name": "python3"
  },
  "language_info": {
   "codemirror_mode": {
    "name": "ipython",
    "version": 3
   },
   "file_extension": ".py",
   "mimetype": "text/x-python",
   "name": "python",
   "nbconvert_exporter": "python",
   "pygments_lexer": "ipython3",
   "version": "3.6.5"
  }
 },
 "nbformat": 4,
 "nbformat_minor": 2
}
