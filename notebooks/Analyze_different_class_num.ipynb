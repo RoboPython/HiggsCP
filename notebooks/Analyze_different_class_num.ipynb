{
 "cells": [
  {
   "cell_type": "code",
   "execution_count": 76,
   "metadata": {},
   "outputs": [],
   "source": [
    "import numpy as np\n",
    "from glob import glob\n",
    "import os"
   ]
  },
  {
   "cell_type": "code",
   "execution_count": 77,
   "metadata": {},
   "outputs": [
    {
     "name": "stdout",
     "output_type": "stream",
     "text": [
      "\u001b[34mnn_rhorho_Variant-All_Unweighted_False_NO_NUM_CLASSES_10\u001b[m\u001b[m/\r\n",
      "\u001b[34mnn_rhorho_Variant-All_Unweighted_False_NO_NUM_CLASSES_11\u001b[m\u001b[m/\r\n",
      "\u001b[34mnn_rhorho_Variant-All_Unweighted_False_NO_NUM_CLASSES_12\u001b[m\u001b[m/\r\n",
      "\u001b[34mnn_rhorho_Variant-All_Unweighted_False_NO_NUM_CLASSES_13\u001b[m\u001b[m/\r\n",
      "\u001b[34mnn_rhorho_Variant-All_Unweighted_False_NO_NUM_CLASSES_14\u001b[m\u001b[m/\r\n",
      "\u001b[34mnn_rhorho_Variant-All_Unweighted_False_NO_NUM_CLASSES_15\u001b[m\u001b[m/\r\n",
      "\u001b[34mnn_rhorho_Variant-All_Unweighted_False_NO_NUM_CLASSES_16\u001b[m\u001b[m/\r\n",
      "\u001b[34mnn_rhorho_Variant-All_Unweighted_False_NO_NUM_CLASSES_17\u001b[m\u001b[m/\r\n",
      "\u001b[34mnn_rhorho_Variant-All_Unweighted_False_NO_NUM_CLASSES_18\u001b[m\u001b[m/\r\n",
      "\u001b[34mnn_rhorho_Variant-All_Unweighted_False_NO_NUM_CLASSES_19\u001b[m\u001b[m/\r\n",
      "\u001b[34mnn_rhorho_Variant-All_Unweighted_False_NO_NUM_CLASSES_2\u001b[m\u001b[m/\r\n",
      "\u001b[34mnn_rhorho_Variant-All_Unweighted_False_NO_NUM_CLASSES_20\u001b[m\u001b[m/\r\n",
      "\u001b[34mnn_rhorho_Variant-All_Unweighted_False_NO_NUM_CLASSES_21\u001b[m\u001b[m/\r\n",
      "\u001b[34mnn_rhorho_Variant-All_Unweighted_False_NO_NUM_CLASSES_22\u001b[m\u001b[m/\r\n",
      "\u001b[34mnn_rhorho_Variant-All_Unweighted_False_NO_NUM_CLASSES_23\u001b[m\u001b[m/\r\n",
      "\u001b[34mnn_rhorho_Variant-All_Unweighted_False_NO_NUM_CLASSES_24\u001b[m\u001b[m/\r\n",
      "\u001b[34mnn_rhorho_Variant-All_Unweighted_False_NO_NUM_CLASSES_25\u001b[m\u001b[m/\r\n",
      "\u001b[34mnn_rhorho_Variant-All_Unweighted_False_NO_NUM_CLASSES_26\u001b[m\u001b[m/\r\n",
      "\u001b[34mnn_rhorho_Variant-All_Unweighted_False_NO_NUM_CLASSES_27\u001b[m\u001b[m/\r\n",
      "\u001b[34mnn_rhorho_Variant-All_Unweighted_False_NO_NUM_CLASSES_28\u001b[m\u001b[m/\r\n",
      "\u001b[34mnn_rhorho_Variant-All_Unweighted_False_NO_NUM_CLASSES_29\u001b[m\u001b[m/\r\n",
      "\u001b[34mnn_rhorho_Variant-All_Unweighted_False_NO_NUM_CLASSES_3\u001b[m\u001b[m/\r\n",
      "\u001b[34mnn_rhorho_Variant-All_Unweighted_False_NO_NUM_CLASSES_30\u001b[m\u001b[m/\r\n",
      "\u001b[34mnn_rhorho_Variant-All_Unweighted_False_NO_NUM_CLASSES_31\u001b[m\u001b[m/\r\n",
      "\u001b[34mnn_rhorho_Variant-All_Unweighted_False_NO_NUM_CLASSES_32\u001b[m\u001b[m/\r\n",
      "\u001b[34mnn_rhorho_Variant-All_Unweighted_False_NO_NUM_CLASSES_33\u001b[m\u001b[m/\r\n",
      "\u001b[34mnn_rhorho_Variant-All_Unweighted_False_NO_NUM_CLASSES_34\u001b[m\u001b[m/\r\n",
      "\u001b[34mnn_rhorho_Variant-All_Unweighted_False_NO_NUM_CLASSES_35\u001b[m\u001b[m/\r\n",
      "\u001b[34mnn_rhorho_Variant-All_Unweighted_False_NO_NUM_CLASSES_36\u001b[m\u001b[m/\r\n",
      "\u001b[34mnn_rhorho_Variant-All_Unweighted_False_NO_NUM_CLASSES_37\u001b[m\u001b[m/\r\n",
      "\u001b[34mnn_rhorho_Variant-All_Unweighted_False_NO_NUM_CLASSES_38\u001b[m\u001b[m/\r\n",
      "\u001b[34mnn_rhorho_Variant-All_Unweighted_False_NO_NUM_CLASSES_39\u001b[m\u001b[m/\r\n",
      "\u001b[34mnn_rhorho_Variant-All_Unweighted_False_NO_NUM_CLASSES_4\u001b[m\u001b[m/\r\n",
      "\u001b[34mnn_rhorho_Variant-All_Unweighted_False_NO_NUM_CLASSES_40\u001b[m\u001b[m/\r\n",
      "\u001b[34mnn_rhorho_Variant-All_Unweighted_False_NO_NUM_CLASSES_41\u001b[m\u001b[m/\r\n",
      "\u001b[34mnn_rhorho_Variant-All_Unweighted_False_NO_NUM_CLASSES_42\u001b[m\u001b[m/\r\n",
      "\u001b[34mnn_rhorho_Variant-All_Unweighted_False_NO_NUM_CLASSES_43\u001b[m\u001b[m/\r\n",
      "\u001b[34mnn_rhorho_Variant-All_Unweighted_False_NO_NUM_CLASSES_44\u001b[m\u001b[m/\r\n",
      "\u001b[34mnn_rhorho_Variant-All_Unweighted_False_NO_NUM_CLASSES_45\u001b[m\u001b[m/\r\n",
      "\u001b[34mnn_rhorho_Variant-All_Unweighted_False_NO_NUM_CLASSES_46\u001b[m\u001b[m/\r\n",
      "\u001b[34mnn_rhorho_Variant-All_Unweighted_False_NO_NUM_CLASSES_47\u001b[m\u001b[m/\r\n",
      "\u001b[34mnn_rhorho_Variant-All_Unweighted_False_NO_NUM_CLASSES_48\u001b[m\u001b[m/\r\n",
      "\u001b[34mnn_rhorho_Variant-All_Unweighted_False_NO_NUM_CLASSES_49\u001b[m\u001b[m/\r\n",
      "\u001b[34mnn_rhorho_Variant-All_Unweighted_False_NO_NUM_CLASSES_5\u001b[m\u001b[m/\r\n",
      "\u001b[34mnn_rhorho_Variant-All_Unweighted_False_NO_NUM_CLASSES_50\u001b[m\u001b[m/\r\n",
      "\u001b[34mnn_rhorho_Variant-All_Unweighted_False_NO_NUM_CLASSES_6\u001b[m\u001b[m/\r\n",
      "\u001b[34mnn_rhorho_Variant-All_Unweighted_False_NO_NUM_CLASSES_7\u001b[m\u001b[m/\r\n",
      "\u001b[34mnn_rhorho_Variant-All_Unweighted_False_NO_NUM_CLASSES_8\u001b[m\u001b[m/\r\n",
      "\u001b[34mnn_rhorho_Variant-All_Unweighted_False_NO_NUM_CLASSES_9\u001b[m\u001b[m/\r\n"
     ]
    }
   ],
   "source": [
    "ls ../monit_npy/"
   ]
  },
  {
   "cell_type": "code",
   "execution_count": 25,
   "metadata": {},
   "outputs": [],
   "source": [
    "filenames = [f'../monit_npy/nn_rhorho_Variant-All_Unweighted_False_NO_NUM_CLASSES_{i}' for i in range(2,51)]"
   ]
  },
  {
   "cell_type": "code",
   "execution_count": 21,
   "metadata": {},
   "outputs": [
    {
     "name": "stdout",
     "output_type": "stream",
     "text": [
      "softmax_calc_w.npy   softmax_preds_w.npy\r\n"
     ]
    }
   ],
   "source": [
    "ls ../monit_npy/nn_rhorho_Variant-All_Unweighted_False_NO_NUM_CLASSES_50"
   ]
  },
  {
   "cell_type": "code",
   "execution_count": 22,
   "metadata": {},
   "outputs": [
    {
     "data": {
      "text/plain": [
       "'../nn_rhorho_Variant-All_Unweighted_False_NO_NUM_CLASSES_2'"
      ]
     },
     "execution_count": 22,
     "metadata": {},
     "output_type": "execute_result"
    }
   ],
   "source": [
    "filenames[0]"
   ]
  },
  {
   "cell_type": "code",
   "execution_count": 100,
   "metadata": {},
   "outputs": [],
   "source": [
    "def calculate_metrics(directory, num_class):\n",
    "    calc_w = np.load(os.path.join(directory, 'softmax_calc_w.npy'))\n",
    "    preds_w = np.load(os.path.join(directory, 'softmax_preds_w.npy'))\n",
    "    pred_arg_maxs = np.argmax(preds_w, axis=1)\n",
    "    calc_arg_maxs = np.argmax(calc_w, axis=1)\n",
    "    calc_pred_argmaxs_distances = np.min(\n",
    "       np.stack(\n",
    "           [np.abs(pred_arg_maxs-calc_arg_maxs), (num_class - np.abs(pred_arg_maxs-calc_arg_maxs))]\n",
    "       ), axis=0)\n",
    "    acc0 = (calc_pred_argmaxs_distances <= 0).mean()\n",
    "    acc1 = (calc_pred_argmaxs_distances <= 1).mean()\n",
    "    acc2 = (calc_pred_argmaxs_distances <= 2).mean()\n",
    "    acc3 = (calc_pred_argmaxs_distances <= 3).mean()\n",
    "    \n",
    "    mse = np.mean(calc_pred_argmaxs_distances)\n",
    "    l1_delta_w = np.mean(np.abs(calc_w - preds_w))/num_class\n",
    "    l2_delta_w = np.sqrt(np.mean((calc_w - preds_w)**2))/num_class\n",
    "    \n",
    "    return np.array([acc0, acc1, acc2, acc3, mse, l1_delta_w, l2_delta_w])"
   ]
  },
  {
   "cell_type": "code",
   "execution_count": 101,
   "metadata": {},
   "outputs": [],
   "source": [
    "metrics = [calculate_metrics(filenames[i], i+2) for i in range(49)]"
   ]
  },
  {
   "cell_type": "code",
   "execution_count": 102,
   "metadata": {},
   "outputs": [],
   "source": [
    "import matplotlib.pyplot as plt"
   ]
  },
  {
   "cell_type": "code",
   "execution_count": 103,
   "metadata": {},
   "outputs": [],
   "source": [
    "metrics = np.stack(metrics)"
   ]
  },
  {
   "cell_type": "markdown",
   "metadata": {},
   "source": [
    "# Accuracy"
   ]
  },
  {
   "cell_type": "code",
   "execution_count": 70,
   "metadata": {},
   "outputs": [
    {
     "data": {
      "text/plain": [
       "[<matplotlib.lines.Line2D at 0x106422080>]"
      ]
     },
     "execution_count": 70,
     "metadata": {},
     "output_type": "execute_result"
    },
    {
     "data": {
      "image/png": "[encoded data removed]",
      "text/plain": [
       "<Figure size 432x288 with 1 Axes>"
      ]
     },
     "metadata": {},
     "output_type": "display_data"
    }
   ],
   "source": [
    "plt.plot(metrics[:, 0])\n",
    "plt.plot(metrics[:, 1])\n",
    "plt.plot(metrics[:, 2])\n",
    "plt.plot(metrics[:, 3])\n"
   ]
  },
  {
   "cell_type": "markdown",
   "metadata": {},
   "source": [
    "# MSE"
   ]
  },
  {
   "cell_type": "code",
   "execution_count": 71,
   "metadata": {},
   "outputs": [
    {
     "data": {
      "text/plain": [
       "[<matplotlib.lines.Line2D at 0x1087e9240>]"
      ]
     },
     "execution_count": 71,
     "metadata": {},
     "output_type": "execute_result"
    },
    {
     "data": {
      "image/png": "[encoded data removed]",
      "text/plain": [
       "<Figure size 432x288 with 1 Axes>"
      ]
     },
     "metadata": {},
     "output_type": "display_data"
    }
   ],
   "source": [
    "plt.plot(metrics[:, 4])\n",
    "\n"
   ]
  },
  {
   "cell_type": "markdown",
   "metadata": {},
   "source": [
    "# L1 Distance"
   ]
  },
  {
   "cell_type": "code",
   "execution_count": 104,
   "metadata": {},
   "outputs": [
    {
     "data": {
      "text/plain": [
       "[<matplotlib.lines.Line2D at 0x1162e5cc0>]"
      ]
     },
     "execution_count": 104,
     "metadata": {},
     "output_type": "execute_result"
    },
    {
     "data": {
      "image/png": "[encoded data removed]",
      "text/plain": [
       "<Figure size 432x288 with 1 Axes>"
      ]
     },
     "metadata": {},
     "output_type": "display_data"
    }
   ],
   "source": [
    "plt.plot(metrics[:, 5])"
   ]
  },
  {
   "cell_type": "markdown",
   "metadata": {},
   "source": [
    "# L2 Distance"
   ]
  },
  {
   "cell_type": "code",
   "execution_count": 105,
   "metadata": {},
   "outputs": [
    {
     "data": {
      "text/plain": [
       "[<matplotlib.lines.Line2D at 0x115b4aa90>]"
      ]
     },
     "execution_count": 105,
     "metadata": {},
     "output_type": "execute_result"
    },
    {
     "data": {
      "image/png": "[encoded data removed]",
      "text/plain": [
       "<Figure size 432x288 with 1 Axes>"
      ]
     },
     "metadata": {},
     "output_type": "display_data"
    }
   ],
   "source": [
    "plt.plot(metrics[:, 6])"
   ]
  },
  {
   "cell_type": "code",
   "execution_count": null,
   "metadata": {},
   "outputs": [],
   "source": []
  },
  {
   "cell_type": "code",
   "execution_count": null,
   "metadata": {},
   "outputs": [],
   "source": []
  },
  {
   "cell_type": "code",
   "execution_count": 95,
   "metadata": {},
   "outputs": [],
   "source": [
    "def plot_distr(directory, num_class):\n",
    "    calc_w = np.load(os.path.join(directory, 'softmax_calc_w.npy'))\n",
    "    preds_w = np.load(os.path.join(directory, 'softmax_preds_w.npy'))\n",
    "    pred_arg_maxs = np.argmax(preds_w, axis=1)\n",
    "    calc_arg_maxs = np.argmax(calc_w, axis=1)\n",
    "    calc_pred_argmaxs_distances = np.min(\n",
    "       np.stack(\n",
    "           [np.abs(pred_arg_maxs-calc_arg_maxs), (num_class - np.abs(pred_arg_maxs-calc_arg_maxs))]\n",
    "       ), axis=0)\n",
    "    plt.hist(calc_pred_argmaxs_distances, bins=100)\n",
    "    "
   ]
  },
  {
   "cell_type": "code",
   "execution_count": 99,
   "metadata": {},
   "outputs": [
    {
     "data": {
      "image/png": "[encoded data removed]",
      "text/plain": [
       "<Figure size 432x288 with 1 Axes>"
      ]
     },
     "metadata": {},
     "output_type": "display_data"
    }
   ],
   "source": [
    "i = 30\n",
    "plot_distr(filenames[i], i+2)"
   ]
  },
  {
   "cell_type": "code",
   "execution_count": null,
   "metadata": {},
   "outputs": [],
   "source": []
  }
 ],
 "metadata": {
  "kernelspec": {
   "display_name": "Python 3",
   "language": "python",
   "name": "python3"
  },
  "language_info": {
   "codemirror_mode": {
    "name": "ipython",
    "version": 3
   },
   "file_extension": ".py",
   "mimetype": "text/x-python",
   "name": "python",
   "nbconvert_exporter": "python",
   "pygments_lexer": "ipython3",
   "version": "3.6.5"
  }
 },
 "nbformat": 4,
 "nbformat_minor": 2
}
