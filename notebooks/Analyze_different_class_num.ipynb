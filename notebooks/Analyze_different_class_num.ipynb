{
 "cells": [
  {
   "cell_type": "code",
   "execution_count": 1,
   "metadata": {},
   "outputs": [],
   "source": [
    "import numpy as np\n",
    "from glob import glob\n",
    "import os\n",
    "import matplotlib.pyplot as plt"
   ]
  },
  {
   "cell_type": "code",
   "execution_count": 2,
   "metadata": {},
   "outputs": [],
   "source": [
    "import sys\n",
    "sys.path.append(\"..\") # Adds higher directory to python modules path.\n",
    "from cpmix_utils import weight_fun, calc_weights, calc_min_distances_discrete, calculate_metrics"
   ]
  },
  {
   "cell_type": "code",
   "execution_count": 3,
   "metadata": {},
   "outputs": [
    {
     "name": "stdout",
     "output_type": "stream",
     "text": [
      "\u001b[34mREGRESSION_nn_rhorho_Variant-All_Unweighted_False_NO\u001b[m\u001b[m/\r\n",
      "\u001b[34mnn_rhorho_Variant-All_Unweighted_False_NO_NUM_CLASSES_10\u001b[m\u001b[m/\r\n",
      "\u001b[34mnn_rhorho_Variant-All_Unweighted_False_NO_NUM_CLASSES_11\u001b[m\u001b[m/\r\n",
      "\u001b[34mnn_rhorho_Variant-All_Unweighted_False_NO_NUM_CLASSES_12\u001b[m\u001b[m/\r\n",
      "\u001b[34mnn_rhorho_Variant-All_Unweighted_False_NO_NUM_CLASSES_13\u001b[m\u001b[m/\r\n",
      "\u001b[34mnn_rhorho_Variant-All_Unweighted_False_NO_NUM_CLASSES_14\u001b[m\u001b[m/\r\n",
      "\u001b[34mnn_rhorho_Variant-All_Unweighted_False_NO_NUM_CLASSES_15\u001b[m\u001b[m/\r\n",
      "\u001b[34mnn_rhorho_Variant-All_Unweighted_False_NO_NUM_CLASSES_16\u001b[m\u001b[m/\r\n",
      "\u001b[34mnn_rhorho_Variant-All_Unweighted_False_NO_NUM_CLASSES_17\u001b[m\u001b[m/\r\n",
      "\u001b[34mnn_rhorho_Variant-All_Unweighted_False_NO_NUM_CLASSES_18\u001b[m\u001b[m/\r\n",
      "\u001b[34mnn_rhorho_Variant-All_Unweighted_False_NO_NUM_CLASSES_19\u001b[m\u001b[m/\r\n",
      "\u001b[34mnn_rhorho_Variant-All_Unweighted_False_NO_NUM_CLASSES_2\u001b[m\u001b[m/\r\n",
      "\u001b[34mnn_rhorho_Variant-All_Unweighted_False_NO_NUM_CLASSES_20\u001b[m\u001b[m/\r\n",
      "\u001b[34mnn_rhorho_Variant-All_Unweighted_False_NO_NUM_CLASSES_21\u001b[m\u001b[m/\r\n",
      "\u001b[34mnn_rhorho_Variant-All_Unweighted_False_NO_NUM_CLASSES_21_WEIGHTS_SUBS[0, 10]\u001b[m\u001b[m/\r\n",
      "\u001b[34mnn_rhorho_Variant-All_Unweighted_False_NO_NUM_CLASSES_21_WEIGHTS_SUBS[0, 2]\u001b[m\u001b[m/\r\n",
      "\u001b[34mnn_rhorho_Variant-All_Unweighted_False_NO_NUM_CLASSES_21_WEIGHTS_SUBS[0, 6]\u001b[m\u001b[m/\r\n",
      "\u001b[34mnn_rhorho_Variant-All_Unweighted_False_NO_NUM_CLASSES_21_WEIGHTS_SUBS[0, 8]\u001b[m\u001b[m/\r\n",
      "\u001b[34mnn_rhorho_Variant-All_Unweighted_False_NO_NUM_CLASSES_22\u001b[m\u001b[m/\r\n",
      "\u001b[34mnn_rhorho_Variant-All_Unweighted_False_NO_NUM_CLASSES_23\u001b[m\u001b[m/\r\n",
      "\u001b[34mnn_rhorho_Variant-All_Unweighted_False_NO_NUM_CLASSES_24\u001b[m\u001b[m/\r\n",
      "\u001b[34mnn_rhorho_Variant-All_Unweighted_False_NO_NUM_CLASSES_25\u001b[m\u001b[m/\r\n",
      "\u001b[34mnn_rhorho_Variant-All_Unweighted_False_NO_NUM_CLASSES_26\u001b[m\u001b[m/\r\n",
      "\u001b[34mnn_rhorho_Variant-All_Unweighted_False_NO_NUM_CLASSES_27\u001b[m\u001b[m/\r\n",
      "\u001b[34mnn_rhorho_Variant-All_Unweighted_False_NO_NUM_CLASSES_28\u001b[m\u001b[m/\r\n",
      "\u001b[34mnn_rhorho_Variant-All_Unweighted_False_NO_NUM_CLASSES_29\u001b[m\u001b[m/\r\n",
      "\u001b[34mnn_rhorho_Variant-All_Unweighted_False_NO_NUM_CLASSES_3\u001b[m\u001b[m/\r\n",
      "\u001b[34mnn_rhorho_Variant-All_Unweighted_False_NO_NUM_CLASSES_30\u001b[m\u001b[m/\r\n",
      "\u001b[34mnn_rhorho_Variant-All_Unweighted_False_NO_NUM_CLASSES_31\u001b[m\u001b[m/\r\n",
      "\u001b[34mnn_rhorho_Variant-All_Unweighted_False_NO_NUM_CLASSES_32\u001b[m\u001b[m/\r\n",
      "\u001b[34mnn_rhorho_Variant-All_Unweighted_False_NO_NUM_CLASSES_33\u001b[m\u001b[m/\r\n",
      "\u001b[34mnn_rhorho_Variant-All_Unweighted_False_NO_NUM_CLASSES_34\u001b[m\u001b[m/\r\n",
      "\u001b[34mnn_rhorho_Variant-All_Unweighted_False_NO_NUM_CLASSES_35\u001b[m\u001b[m/\r\n",
      "\u001b[34mnn_rhorho_Variant-All_Unweighted_False_NO_NUM_CLASSES_36\u001b[m\u001b[m/\r\n",
      "\u001b[34mnn_rhorho_Variant-All_Unweighted_False_NO_NUM_CLASSES_37\u001b[m\u001b[m/\r\n",
      "\u001b[34mnn_rhorho_Variant-All_Unweighted_False_NO_NUM_CLASSES_38\u001b[m\u001b[m/\r\n",
      "\u001b[34mnn_rhorho_Variant-All_Unweighted_False_NO_NUM_CLASSES_39\u001b[m\u001b[m/\r\n",
      "\u001b[34mnn_rhorho_Variant-All_Unweighted_False_NO_NUM_CLASSES_4\u001b[m\u001b[m/\r\n",
      "\u001b[34mnn_rhorho_Variant-All_Unweighted_False_NO_NUM_CLASSES_40\u001b[m\u001b[m/\r\n",
      "\u001b[34mnn_rhorho_Variant-All_Unweighted_False_NO_NUM_CLASSES_41\u001b[m\u001b[m/\r\n",
      "\u001b[34mnn_rhorho_Variant-All_Unweighted_False_NO_NUM_CLASSES_42\u001b[m\u001b[m/\r\n",
      "\u001b[34mnn_rhorho_Variant-All_Unweighted_False_NO_NUM_CLASSES_43\u001b[m\u001b[m/\r\n",
      "\u001b[34mnn_rhorho_Variant-All_Unweighted_False_NO_NUM_CLASSES_44\u001b[m\u001b[m/\r\n",
      "\u001b[34mnn_rhorho_Variant-All_Unweighted_False_NO_NUM_CLASSES_45\u001b[m\u001b[m/\r\n",
      "\u001b[34mnn_rhorho_Variant-All_Unweighted_False_NO_NUM_CLASSES_46\u001b[m\u001b[m/\r\n",
      "\u001b[34mnn_rhorho_Variant-All_Unweighted_False_NO_NUM_CLASSES_47\u001b[m\u001b[m/\r\n",
      "\u001b[34mnn_rhorho_Variant-All_Unweighted_False_NO_NUM_CLASSES_48\u001b[m\u001b[m/\r\n",
      "\u001b[34mnn_rhorho_Variant-All_Unweighted_False_NO_NUM_CLASSES_49\u001b[m\u001b[m/\r\n",
      "\u001b[34mnn_rhorho_Variant-All_Unweighted_False_NO_NUM_CLASSES_5\u001b[m\u001b[m/\r\n",
      "\u001b[34mnn_rhorho_Variant-All_Unweighted_False_NO_NUM_CLASSES_50\u001b[m\u001b[m/\r\n",
      "\u001b[34mnn_rhorho_Variant-All_Unweighted_False_NO_NUM_CLASSES_6\u001b[m\u001b[m/\r\n",
      "\u001b[34mnn_rhorho_Variant-All_Unweighted_False_NO_NUM_CLASSES_7\u001b[m\u001b[m/\r\n",
      "\u001b[34mnn_rhorho_Variant-All_Unweighted_False_NO_NUM_CLASSES_8\u001b[m\u001b[m/\r\n",
      "\u001b[34mnn_rhorho_Variant-All_Unweighted_False_NO_NUM_CLASSES_9\u001b[m\u001b[m/\r\n"
     ]
    }
   ],
   "source": [
    "ls ../monit_npy/"
   ]
  },
  {
   "cell_type": "code",
   "execution_count": 4,
   "metadata": {},
   "outputs": [],
   "source": [
    "filenames = [f'../monit_npy/nn_rhorho_Variant-All_Unweighted_False_NO_NUM_CLASSES_{i}' for i in range(2,51)]"
   ]
  },
  {
   "cell_type": "code",
   "execution_count": 5,
   "metadata": {},
   "outputs": [],
   "source": [
    "def get_filename_for_class(class_num, subset=None):\n",
    "    d = f'../monit_npy/nn_rhorho_Variant-All_Unweighted_False_NO_NUM_CLASSES_{class_num}'\n",
    "    if subset:\n",
    "        d += \"_WEIGHTS_SUBS\" + str(subset)\n",
    "    return d"
   ]
  },
  {
   "cell_type": "code",
   "execution_count": 6,
   "metadata": {},
   "outputs": [
    {
     "name": "stdout",
     "output_type": "stream",
     "text": [
      "softmax_calc_w.npy   softmax_preds_w.npy\r\n"
     ]
    }
   ],
   "source": [
    "ls ../monit_npy/nn_rhorho_Variant-All_Unweighted_False_NO_NUM_CLASSES_50"
   ]
  },
  {
   "cell_type": "code",
   "execution_count": 7,
   "metadata": {},
   "outputs": [
    {
     "data": {
      "text/plain": [
       "'../monit_npy/nn_rhorho_Variant-All_Unweighted_False_NO_NUM_CLASSES_2'"
      ]
     },
     "execution_count": 7,
     "metadata": {},
     "output_type": "execute_result"
    }
   ],
   "source": [
    "filenames[0]"
   ]
  },
  {
   "cell_type": "code",
   "execution_count": null,
   "metadata": {},
   "outputs": [],
   "source": []
  },
  {
   "cell_type": "code",
   "execution_count": 8,
   "metadata": {},
   "outputs": [],
   "source": [
    "def calculate_metrics_for_numclass(directory, num_class):\n",
    "    calc_w = np.load(os.path.join(directory, 'softmax_calc_w.npy'))\n",
    "    preds_w = np.load(os.path.join(directory, 'softmax_preds_w.npy'))\n",
    "    return calculate_metrics(num_class, calc_w, preds_w)"
   ]
  },
  {
   "cell_type": "code",
   "execution_count": 9,
   "metadata": {},
   "outputs": [],
   "source": [
    "metrics = [calculate_metrics_for_numclass(filenames[i], i+2) for i in range(49)]"
   ]
  },
  {
   "cell_type": "code",
   "execution_count": null,
   "metadata": {},
   "outputs": [],
   "source": []
  },
  {
   "cell_type": "code",
   "execution_count": 10,
   "metadata": {},
   "outputs": [],
   "source": [
    "metrics = np.stack(metrics)"
   ]
  },
  {
   "cell_type": "code",
   "execution_count": 11,
   "metadata": {},
   "outputs": [],
   "source": [
    "np.save( 'metrics_multiclass.npy', metrics,)"
   ]
  },
  {
   "cell_type": "markdown",
   "metadata": {},
   "source": [
    "# Accuracy"
   ]
  },
  {
   "cell_type": "code",
   "execution_count": 12,
   "metadata": {},
   "outputs": [
    {
     "data": {
      "text/plain": [
       "Text(0,0.5,'Accuracy')"
      ]
     },
     "execution_count": 12,
     "metadata": {},
     "output_type": "execute_result"
    },
    {
     "data": {
      "image/png": "[encoded data removed]",
      "text/plain": [
       "<Figure size 432x288 with 1 Axes>"
      ]
     },
     "metadata": {},
     "output_type": "display_data"
    }
   ],
   "source": [
    "plt.plot(metrics[:, 0],'+', label='Max distance 0')\n",
    "plt.plot(metrics[:, 1],'+', label='Max distance 1')\n",
    "plt.plot(metrics[:, 2],'+', label='Max distance 2')\n",
    "plt.plot(metrics[:, 3],'+', label='Max distance 3')\n",
    "plt.legend(loc='upper right')\n",
    "plt.xlabel('Number of classes')\n",
    "plt.ylabel('Accuracy')"
   ]
  },
  {
   "cell_type": "markdown",
   "metadata": {},
   "source": [
    "# Mean error"
   ]
  },
  {
   "cell_type": "code",
   "execution_count": 13,
   "metadata": {},
   "outputs": [
    {
     "data": {
      "text/plain": [
       "[<matplotlib.lines.Line2D at 0x117026c18>]"
      ]
     },
     "execution_count": 13,
     "metadata": {},
     "output_type": "execute_result"
    },
    {
     "data": {
      "image/png": "[encoded data removed]",
      "text/plain": [
       "<Figure size 432x288 with 1 Axes>"
      ]
     },
     "metadata": {},
     "output_type": "display_data"
    }
   ],
   "source": [
    "plt.plot(metrics[1:, 4], 'o')\n",
    "\n"
   ]
  },
  {
   "cell_type": "markdown",
   "metadata": {},
   "source": [
    "# L1 Distance"
   ]
  },
  {
   "cell_type": "code",
   "execution_count": 14,
   "metadata": {},
   "outputs": [
    {
     "data": {
      "text/plain": [
       "Text(0,0.5,'l1')"
      ]
     },
     "execution_count": 14,
     "metadata": {},
     "output_type": "execute_result"
    },
    {
     "data": {
      "image/png": "[encoded data removed]",
      "text/plain": [
       "<Figure size 432x288 with 1 Axes>"
      ]
     },
     "metadata": {},
     "output_type": "display_data"
    }
   ],
   "source": [
    "plt.plot(metrics[1:, 5], '+')\n",
    "plt.xlabel(\"Number of classes\")\n",
    "plt.ylabel('l1')"
   ]
  },
  {
   "cell_type": "markdown",
   "metadata": {},
   "source": [
    "# L2 Distance"
   ]
  },
  {
   "cell_type": "code",
   "execution_count": 15,
   "metadata": {},
   "outputs": [
    {
     "data": {
      "text/plain": [
       "Text(0,0.5,'l2')"
      ]
     },
     "execution_count": 15,
     "metadata": {},
     "output_type": "execute_result"
    },
    {
     "data": {
      "image/png": "[encoded data removed]",
      "text/plain": [
       "<Figure size 432x288 with 1 Axes>"
      ]
     },
     "metadata": {},
     "output_type": "display_data"
    }
   ],
   "source": [
    "plt.plot(metrics[1:, 6], '+')\n",
    "plt.xlabel(\"Number of classes\")\n",
    "plt.ylabel('l2')"
   ]
  },
  {
   "cell_type": "markdown",
   "metadata": {},
   "source": [
    "# ROC AUC score"
   ]
  },
  {
   "cell_type": "code",
   "execution_count": 16,
   "metadata": {},
   "outputs": [],
   "source": [
    "from sklearn.metrics import roc_auc_score\n",
    "def calculate_roc_auc(pred_w, calc_w, index_a, index_b):\n",
    "    n, num_classes = calc_w.shape\n",
    "    true_labels = np.concatenate([np.ones(n), np.zeros(n)])\n",
    "    preds = np.concatenate([pred_w[:, index_a], pred_w[:, index_a]])\n",
    "    weights = np.concatenate([calc_w[:, index_a], calc_w[:, index_b]])\n",
    "\n",
    "    return roc_auc_score(true_labels, preds, sample_weight=weights)"
   ]
  },
  {
   "cell_type": "code",
   "execution_count": 17,
   "metadata": {},
   "outputs": [],
   "source": [
    "def test_roc_auc(directory, num_class):\n",
    "    calc_w = np.load(os.path.join(directory, 'softmax_calc_w.npy'))\n",
    "    preds_w = np.load(os.path.join(directory, 'softmax_preds_w.npy'))\n",
    "    for i in range(0, num_class):\n",
    "         print(i, 'roc_auc: {}'.format(calculate_roc_auc(preds_w, calc_w, 0, i)), 'maxroc_auc: {}'.format(calculate_roc_auc(calc_w, calc_w, 0, i)))"
   ]
  },
  {
   "cell_type": "code",
   "execution_count": 18,
   "metadata": {},
   "outputs": [
    {
     "name": "stdout",
     "output_type": "stream",
     "text": [
      "0 roc_auc: 0.5000000000000004 maxroc_auc: 0.5000000000000102\n",
      "1 roc_auc: 0.5043273048019564 maxroc_auc: 0.505715103706892\n",
      "2 roc_auc: 0.5157686018206398 maxroc_auc: 0.5224470536108253\n",
      "3 roc_auc: 0.5331939212487248 maxroc_auc: 0.5485427621387747\n",
      "4 roc_auc: 0.5548875781537895 maxroc_auc: 0.5814323630193214\n",
      "5 roc_auc: 0.578719927419587 maxroc_auc: 0.6178866679725444\n",
      "6 roc_auc: 0.6023581559599771 maxroc_auc: 0.6543369626140604\n",
      "7 roc_auc: 0.6234945971232256 maxroc_auc: 0.6872244359864048\n",
      "8 roc_auc: 0.6400702436905967 maxroc_auc: 0.7133450183653228\n",
      "9 roc_auc: 0.6504724937460067 maxroc_auc: 0.7301572263494819\n",
      "10 roc_auc: 0.6536892207764278 maxroc_auc: 0.7360250862136876\n",
      "11 roc_auc: 0.6494055204246585 maxroc_auc: 0.7303745760743253\n",
      "12 roc_auc: 0.6380345446021924 maxroc_auc: 0.7137496733185276\n",
      "13 roc_auc: 0.6206794027803705 maxroc_auc: 0.6877625770992603\n",
      "14 roc_auc: 0.5990289744981194 maxroc_auc: 0.6549416675781581\n",
      "15 roc_auc: 0.5751963930775128 maxroc_auc: 0.6184898953805829\n",
      "16 roc_auc: 0.5515145602566612 maxroc_auc: 0.5819750074317985\n",
      "17 roc_auc: 0.5303077979555111 maxroc_auc: 0.5489804870070762\n",
      "18 roc_auc: 0.5136619736482003 maxroc_auc: 0.5227512921184143\n",
      "19 roc_auc: 0.5032164948290334 maxroc_auc: 0.5058703925547597\n",
      "20 roc_auc: 0.5000000000000006 maxroc_auc: 0.5000000000000102\n"
     ]
    }
   ],
   "source": [
    "i = 21\n",
    "test_roc_auc(get_filename_for_class(i), i)"
   ]
  },
  {
   "cell_type": "code",
   "execution_count": 19,
   "metadata": {},
   "outputs": [
    {
     "name": "stdout",
     "output_type": "stream",
     "text": [
      "0 roc_auc: 0.5000000000000004 maxroc_auc: 0.5000000000000102\n",
      "1 roc_auc: 0.5043273048019564 maxroc_auc: 0.505715103706892\n",
      "2 roc_auc: 0.5157686018206398 maxroc_auc: 0.5224470536108253\n",
      "3 roc_auc: 0.5331939212487248 maxroc_auc: 0.5485427621387747\n",
      "4 roc_auc: 0.5548875781537895 maxroc_auc: 0.5814323630193214\n",
      "5 roc_auc: 0.578719927419587 maxroc_auc: 0.6178866679725444\n",
      "6 roc_auc: 0.6023581559599771 maxroc_auc: 0.6543369626140604\n",
      "7 roc_auc: 0.6234945971232256 maxroc_auc: 0.6872244359864048\n",
      "8 roc_auc: 0.6400702436905967 maxroc_auc: 0.7133450183653228\n",
      "9 roc_auc: 0.6504724937460067 maxroc_auc: 0.7301572263494819\n",
      "10 roc_auc: 0.6536892207764278 maxroc_auc: 0.7360250862136876\n",
      "11 roc_auc: 0.6494055204246585 maxroc_auc: 0.7303745760743253\n",
      "12 roc_auc: 0.6380345446021924 maxroc_auc: 0.7137496733185276\n",
      "13 roc_auc: 0.6206794027803705 maxroc_auc: 0.6877625770992603\n",
      "14 roc_auc: 0.5990289744981194 maxroc_auc: 0.6549416675781581\n",
      "15 roc_auc: 0.5751963930775128 maxroc_auc: 0.6184898953805829\n",
      "16 roc_auc: 0.5515145602566612 maxroc_auc: 0.5819750074317985\n",
      "17 roc_auc: 0.5303077979555111 maxroc_auc: 0.5489804870070762\n",
      "18 roc_auc: 0.5136619736482003 maxroc_auc: 0.5227512921184143\n",
      "19 roc_auc: 0.5032164948290334 maxroc_auc: 0.5058703925547597\n",
      "20 roc_auc: 0.5000000000000006 maxroc_auc: 0.5000000000000102\n"
     ]
    }
   ],
   "source": [
    "i = 21\n",
    "test_roc_auc(get_filename_for_class(i), i)"
   ]
  },
  {
   "cell_type": "markdown",
   "metadata": {},
   "source": [
    "## Baseline"
   ]
  },
  {
   "cell_type": "code",
   "execution_count": 20,
   "metadata": {},
   "outputs": [
    {
     "name": "stdout",
     "output_type": "stream",
     "text": [
      "0 roc_auc: 0.4999999999999933 maxroc_auc: 0.5000000000000052\n",
      "1 roc_auc: 0.6639896560945292 maxroc_auc: 0.6454566069027331\n"
     ]
    }
   ],
   "source": [
    "i = 21\n",
    "subset = [0,6] # Run with option --WEIGHTS_SUBSET [0,6]\n",
    "test_roc_auc(get_filename_for_class(i, subset), 2)"
   ]
  },
  {
   "cell_type": "code",
   "execution_count": 21,
   "metadata": {},
   "outputs": [
    {
     "name": "stdout",
     "output_type": "stream",
     "text": [
      "0 roc_auc: 0.5000000000000063 maxroc_auc: 0.5000000000000052\n",
      "1 roc_auc: 0.701805957934322 maxroc_auc: 0.7221783356452286\n"
     ]
    }
   ],
   "source": [
    "i = 21\n",
    "subset = [0,10] # Run with option --WEIGHTS_SUBSET [0,10]\n",
    "test_roc_auc(get_filename_for_class(i, subset), 2)"
   ]
  },
  {
   "cell_type": "code",
   "execution_count": 22,
   "metadata": {},
   "outputs": [
    {
     "name": "stdout",
     "output_type": "stream",
     "text": [
      "0 roc_auc: 0.4999999999999986 maxroc_auc: 0.5000000000000052\n",
      "1 roc_auc: 0.5568512762550901 maxroc_auc: 0.521384294099431\n"
     ]
    }
   ],
   "source": [
    "i = 21\n",
    "subset = [0,2] # Run with option --WEIGHTS_SUBSET [0,2]\n",
    "test_roc_auc(get_filename_for_class(i, subset), 2)"
   ]
  },
  {
   "cell_type": "code",
   "execution_count": 23,
   "metadata": {},
   "outputs": [
    {
     "name": "stdout",
     "output_type": "stream",
     "text": [
      "0 roc_auc: 0.4999999999999992 maxroc_auc: 0.5000000000000052\n",
      "1 roc_auc: 0.6897154024886555 maxroc_auc: 0.7009590049115341\n"
     ]
    }
   ],
   "source": [
    "i = 21\n",
    "subset = [0,8] # Run with option --WEIGHTS_SUBSET [0,8]\n",
    "test_roc_auc(get_filename_for_class(i, subset), 2)"
   ]
  },
  {
   "cell_type": "markdown",
   "metadata": {},
   "source": [
    "# Accuracy distance"
   ]
  },
  {
   "cell_type": "code",
   "execution_count": 24,
   "metadata": {},
   "outputs": [],
   "source": [
    "def plot_distr(directory, num_class):\n",
    "    calc_w = np.load(os.path.join(directory, 'softmax_calc_w.npy'))\n",
    "    preds_w = np.load(os.path.join(directory, 'softmax_preds_w.npy'))\n",
    "    pred_arg_maxs = np.argmax(preds_w, axis=1)\n",
    "    calc_arg_maxs = np.argmax(calc_w, axis=1)\n",
    "    min_distances = calc_min_distances_discrete(pred_arg_maxs, calc_arg_maxs, num_class)\n",
    "    \n",
    "    bins = np.array(list(range(int(np.min(min_distances)), int(np.max(min_distances)+2)))) -0.5\n",
    "    plt.hist(min_distances, bins=bins, histtype='step')\n",
    "    plt.xlabel('Prediction error distance')\n",
    "    "
   ]
  },
  {
   "cell_type": "code",
   "execution_count": 25,
   "metadata": {},
   "outputs": [
    {
     "data": {
      "image/png": "[encoded data removed]",
      "text/plain": [
       "<Figure size 432x288 with 1 Axes>"
      ]
     },
     "metadata": {},
     "output_type": "display_data"
    }
   ],
   "source": [
    "i = 30\n",
    "plot_distr(get_filename_for_class(i), i)"
   ]
  },
  {
   "cell_type": "code",
   "execution_count": 26,
   "metadata": {},
   "outputs": [
    {
     "data": {
      "image/png": "[encoded data removed]",
      "text/plain": [
       "<Figure size 432x288 with 1 Axes>"
      ]
     },
     "metadata": {},
     "output_type": "display_data"
    }
   ],
   "source": [
    "i = 48\n",
    "plot_distr(get_filename_for_class(i), i)"
   ]
  },
  {
   "cell_type": "code",
   "execution_count": 27,
   "metadata": {},
   "outputs": [
    {
     "data": {
      "image/png": "[encoded data removed]",
      "text/plain": [
       "<Figure size 432x288 with 1 Axes>"
      ]
     },
     "metadata": {},
     "output_type": "display_data"
    }
   ],
   "source": [
    "i = 6\n",
    "plot_distr(get_filename_for_class(i), i)"
   ]
  },
  {
   "cell_type": "code",
   "execution_count": 28,
   "metadata": {},
   "outputs": [
    {
     "data": {
      "image/png": "[encoded data removed]",
      "text/plain": [
       "<Figure size 432x288 with 1 Axes>"
      ]
     },
     "metadata": {},
     "output_type": "display_data"
    }
   ],
   "source": [
    "i = 32\n",
    "plot_distr(get_filename_for_class(i), i)"
   ]
  },
  {
   "cell_type": "code",
   "execution_count": 29,
   "metadata": {},
   "outputs": [
    {
     "data": {
      "image/png": "[encoded data removed]",
      "text/plain": [
       "<Figure size 432x288 with 1 Axes>"
      ]
     },
     "metadata": {},
     "output_type": "display_data"
    }
   ],
   "source": [
    "i = 39\n",
    "plot_distr(get_filename_for_class(i), i)"
   ]
  },
  {
   "cell_type": "code",
   "execution_count": null,
   "metadata": {},
   "outputs": [],
   "source": []
  },
  {
   "cell_type": "code",
   "execution_count": null,
   "metadata": {},
   "outputs": [],
   "source": []
  }
 ],
 "metadata": {
  "kernelspec": {
   "display_name": "Python 3",
   "language": "python",
   "name": "python3"
  },
  "language_info": {
   "codemirror_mode": {
    "name": "ipython",
    "version": 3
   },
   "file_extension": ".py",
   "mimetype": "text/x-python",
   "name": "python",
   "nbconvert_exporter": "python",
   "pygments_lexer": "ipython3",
   "version": "3.6.5"
  }
 },
 "nbformat": 4,
 "nbformat_minor": 2
}
