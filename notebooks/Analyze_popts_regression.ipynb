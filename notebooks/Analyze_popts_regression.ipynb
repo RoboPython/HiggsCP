{
 "cells": [
  {
   "cell_type": "code",
   "execution_count": 1,
   "metadata": {},
   "outputs": [],
   "source": [
    "import numpy as np"
   ]
  },
  {
   "cell_type": "code",
   "execution_count": 3,
   "metadata": {},
   "outputs": [],
   "source": [
    "import matplotlib.pyplot as plt"
   ]
  },
  {
   "cell_type": "code",
   "execution_count": 4,
   "metadata": {},
   "outputs": [],
   "source": [
    "calc_popts = np.load('../monit_npy/nn_rhorho_Variant-All_Unweighted_False_NO_NUM_CLASSES_21/regression_calc_popts.npy')"
   ]
  },
  {
   "cell_type": "code",
   "execution_count": 5,
   "metadata": {},
   "outputs": [],
   "source": [
    "pred_popts = np.load('../monit_npy/nn_rhorho_Variant-All_Unweighted_False_NO_NUM_CLASSES_21/regression_preds_popts.npy')"
   ]
  },
  {
   "cell_type": "code",
   "execution_count": 8,
   "metadata": {},
   "outputs": [],
   "source": [
    "def weight_fun(x, a, b, c):\n",
    "    return a + b * np.cos(x) + c * np.sin(x)"
   ]
  },
  {
   "cell_type": "code",
   "execution_count": 9,
   "metadata": {},
   "outputs": [
    {
     "data": {
      "text/plain": [
       "(100000, 3)"
      ]
     },
     "execution_count": 9,
     "metadata": {},
     "output_type": "execute_result"
    }
   ],
   "source": [
    "calc_popts.shape"
   ]
  },
  {
   "cell_type": "code",
   "execution_count": 13,
   "metadata": {},
   "outputs": [],
   "source": [
    "def generate_predicted_classes(num_classes, popts):\n",
    "    classes = np.linspace(0, 2, num_classes) * np.pi\n",
    "    data_len = popts.shape[0]\n",
    "    weights = np.zeros((data_len, num_classes))\n",
    "    for i in range(data_len):\n",
    "        weights[i] = weight_fun(classes, *popts[i])\n",
    "    return weights"
   ]
  },
  {
   "cell_type": "code",
   "execution_count": 16,
   "metadata": {},
   "outputs": [],
   "source": []
  },
  {
   "cell_type": "code",
   "execution_count": 21,
   "metadata": {},
   "outputs": [],
   "source": [
    "def calculate_metrics(num_class, calc_popts, pred_popts):\n",
    "    calc_w = generate_predicted_classes(num_class, calc_popts)\n",
    "    preds_w = generate_predicted_classes(num_class, pred_popts)\n",
    "    #calc_w = calc_w / np.tile(np.reshape(np.sum(calc_w, axis=1), (-1, 1)), (1, num_class))\n",
    "    #preds_w = calc_w / np.tile(np.reshape(np.sum(preds_w, axis=1), (-1, 1)), (1, num_class))\n",
    "    pred_arg_maxs = np.argmax(preds_w, axis=1)\n",
    "    calc_arg_maxs = np.argmax(calc_w, axis=1)\n",
    "    calc_pred_argmaxs_distances = np.min(\n",
    "       np.stack(\n",
    "           [np.abs(pred_arg_maxs-calc_arg_maxs), (num_class - np.abs(pred_arg_maxs-calc_arg_maxs))]\n",
    "       ), axis=0)\n",
    "    den = np.abs(pred_arg_maxs-calc_arg_maxs)\n",
    "    den[den==0]=1\n",
    "    direction = (pred_arg_maxs-calc_arg_maxs)/den\n",
    "    calc_pred_argmaxs_distances *= np.int32(direction)\n",
    "    acc0 = (calc_pred_argmaxs_distances <= 0).mean()\n",
    "    acc1 = (calc_pred_argmaxs_distances <= 1).mean()\n",
    "    acc2 = (calc_pred_argmaxs_distances <= 2).mean()\n",
    "    acc3 = (calc_pred_argmaxs_distances <= 3).mean()\n",
    "    \n",
    "    mean_error = np.mean(calc_pred_argmaxs_distances)\n",
    "    l1_delta_w = np.mean(np.abs(calc_w - preds_w))\n",
    "    l2_delta_w = np.sqrt(np.mean((calc_w - preds_w)**2))\n",
    "    \n",
    "    return np.array([acc0, acc1, acc2, acc3, mean_error, l1_delta_w, l2_delta_w])"
   ]
  },
  {
   "cell_type": "code",
   "execution_count": 22,
   "metadata": {},
   "outputs": [],
   "source": [
    "metrics = [calculate_metrics(i+2, calc_popts, pred_popts) for i in range(49)]"
   ]
  },
  {
   "cell_type": "code",
   "execution_count": 23,
   "metadata": {},
   "outputs": [],
   "source": [
    "metrics = np.stack(metrics)"
   ]
  },
  {
   "cell_type": "markdown",
   "metadata": {},
   "source": [
    "# Accuracy"
   ]
  },
  {
   "cell_type": "code",
   "execution_count": 24,
   "metadata": {},
   "outputs": [
    {
     "data": {
      "text/plain": [
       "[<matplotlib.lines.Line2D at 0x1050acc18>]"
      ]
     },
     "execution_count": 24,
     "metadata": {},
     "output_type": "execute_result"
    },
    {
     "data": {
      "image/png": "[encoded data removed]",
      "text/plain": [
       "<Figure size 432x288 with 1 Axes>"
      ]
     },
     "metadata": {},
     "output_type": "display_data"
    }
   ],
   "source": [
    "plt.plot(metrics[:, 0],'+')\n",
    "plt.plot(metrics[:, 1],'+')\n",
    "plt.plot(metrics[:, 2],'+')\n",
    "plt.plot(metrics[:, 3],'+')\n",
    "\n"
   ]
  },
  {
   "cell_type": "markdown",
   "metadata": {},
   "source": [
    "# L1 Distance"
   ]
  },
  {
   "cell_type": "code",
   "execution_count": 34,
   "metadata": {},
   "outputs": [
    {
     "data": {
      "text/plain": [
       "Text(0,0.5,'l1')"
      ]
     },
     "execution_count": 34,
     "metadata": {},
     "output_type": "execute_result"
    },
    {
     "data": {
      "image/png": "[encoded data removed]",
      "text/plain": [
       "<Figure size 432x288 with 1 Axes>"
      ]
     },
     "metadata": {},
     "output_type": "display_data"
    }
   ],
   "source": [
    "plt.plot(metrics[:, 5], '+')\n",
    "plt.xlabel(\"Number of classes\")\n",
    "plt.ylabel('l1')"
   ]
  },
  {
   "cell_type": "markdown",
   "metadata": {},
   "source": [
    "# L2 distance"
   ]
  },
  {
   "cell_type": "code",
   "execution_count": 33,
   "metadata": {},
   "outputs": [
    {
     "data": {
      "text/plain": [
       "Text(0,0.5,'l1')"
      ]
     },
     "execution_count": 33,
     "metadata": {},
     "output_type": "execute_result"
    },
    {
     "data": {
      "image/png": "[encoded data removed]",
      "text/plain": [
       "<Figure size 432x288 with 1 Axes>"
      ]
     },
     "metadata": {},
     "output_type": "display_data"
    }
   ],
   "source": [
    "plt.plot(metrics[:, 6], '+')\n",
    "plt.xlabel(\"Number of classes\")\n",
    "plt.ylabel('l1')"
   ]
  },
  {
   "cell_type": "code",
   "execution_count": 37,
   "metadata": {},
   "outputs": [],
   "source": [
    "    def plot_distr(num_class, calc_popts, pred_popts):\n",
    "\n",
    "    calc_w = generate_predicted_classes(num_class, calc_popts)\n",
    "    preds_w = generate_predicted_classes(num_class, pred_popts)\n",
    "    pred_arg_maxs = np.argmax(preds_w, axis=1)\n",
    "    calc_arg_maxs = np.argmax(calc_w, axis=1)\n",
    "    \n",
    "    distances_in_both_directions = np.stack(\n",
    "        [(pred_arg_maxs-calc_arg_maxs), (num_class-calc_arg_maxs+pred_arg_maxs -1), (num_class-calc_arg_maxs+pred_arg_maxs+1)], axis=0)\n",
    "    \n",
    "    choice_of_direction = np.argmin(np.abs(distances_in_both_directions), axis=0)\n",
    "    calc_pred_argmaxs_distances = distances_in_both_directions[choice_of_direction]\n",
    "       \n",
    "    \n",
    "    plt.hist(calc_pred_argmaxs_distances, histtype='step')\n",
    "    \n",
    "    plt.xlabel('Prediction error distance')\n",
    "    "
   ]
  },
  {
   "cell_type": "code",
   "execution_count": 38,
   "metadata": {},
   "outputs": [
    {
     "data": {
      "image/png": "[encoded data removed]",
      "text/plain": [
       "<Figure size 432x288 with 1 Axes>"
      ]
     },
     "metadata": {},
     "output_type": "display_data"
    }
   ],
   "source": [
    "i = 30\n",
    "plot_distr(i, calc_popts, pred_popts)"
   ]
  },
  {
   "cell_type": "code",
   "execution_count": 39,
   "metadata": {},
   "outputs": [
    {
     "data": {
      "image/png": "[encoded data removed]",
      "text/plain": [
       "<Figure size 432x288 with 1 Axes>"
      ]
     },
     "metadata": {},
     "output_type": "display_data"
    }
   ],
   "source": [
    "i = 48\n",
    "plot_distr(i, calc_popts, pred_popts)"
   ]
  },
  {
   "cell_type": "code",
   "execution_count": 40,
   "metadata": {},
   "outputs": [
    {
     "data": {
      "image/png": "[encoded data removed]",
      "text/plain": [
       "<Figure size 432x288 with 1 Axes>"
      ]
     },
     "metadata": {},
     "output_type": "display_data"
    }
   ],
   "source": [
    "i = 6\n",
    "plot_distr(i, calc_popts, pred_popts)"
   ]
  },
  {
   "cell_type": "code",
   "execution_count": 41,
   "metadata": {},
   "outputs": [
    {
     "data": {
      "image/png": "[encoded data removed]",
      "text/plain": [
       "<Figure size 432x288 with 1 Axes>"
      ]
     },
     "metadata": {},
     "output_type": "display_data"
    }
   ],
   "source": [
    "i = 16\n",
    "plot_distr(i, calc_popts, pred_popts)"
   ]
  },
  {
   "cell_type": "code",
   "execution_count": 42,
   "metadata": {},
   "outputs": [],
   "source": [
    "# dorobić wykresy jak wygladaja przebiegi funkcji (a, b, c)"
   ]
  },
  {
   "cell_type": "code",
   "execution_count": null,
   "metadata": {},
   "outputs": [],
   "source": [
    "# odległośc miedzy maksimum calculated, i predicted"
   ]
  }
 ],
 "metadata": {
  "kernelspec": {
   "display_name": "Python 3",
   "language": "python",
   "name": "python3"
  },
  "language_info": {
   "codemirror_mode": {
    "name": "ipython",
    "version": 3
   },
   "file_extension": ".py",
   "mimetype": "text/x-python",
   "name": "python",
   "nbconvert_exporter": "python",
   "pygments_lexer": "ipython3",
   "version": "3.6.5"
  }
 },
 "nbformat": 4,
 "nbformat_minor": 2
}
