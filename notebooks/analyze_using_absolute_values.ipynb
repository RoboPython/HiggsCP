{
 "cells": [
  {
   "cell_type": "code",
   "execution_count": 1,
   "metadata": {},
   "outputs": [],
   "source": [
    "import numpy as np\n",
    "from glob import glob\n",
    "import os\n",
    "import matplotlib.pyplot as plt"
   ]
  },
  {
   "cell_type": "code",
   "execution_count": 2,
   "metadata": {},
   "outputs": [],
   "source": [
    "import sys\n",
    "sys.path.append(\"..\") # Adds higher directory to python modules path.\n",
    "from cpmix_utils import weight_fun, calc_weights, calc_min_distances_discrete, calculate_metrics"
   ]
  },
  {
   "cell_type": "code",
   "execution_count": 3,
   "metadata": {},
   "outputs": [
    {
     "name": "stdout",
     "output_type": "stream",
     "text": [
      "\u001b[0m\u001b[01;34mnn_rhorho_Variant-All_Unweighted_False_NO_NUM_CLASSES_1\u001b[0m/\r\n",
      "\u001b[01;34mnn_rhorho_Variant-All_Unweighted_False_NO_NUM_CLASSES_10\u001b[0m/\r\n",
      "\u001b[01;34mnn_rhorho_Variant-All_Unweighted_False_NO_NUM_CLASSES_11\u001b[0m/\r\n",
      "\u001b[01;34mnn_rhorho_Variant-All_Unweighted_False_NO_NUM_CLASSES_12\u001b[0m/\r\n",
      "\u001b[01;34mnn_rhorho_Variant-All_Unweighted_False_NO_NUM_CLASSES_13\u001b[0m/\r\n",
      "\u001b[01;34mnn_rhorho_Variant-All_Unweighted_False_NO_NUM_CLASSES_14\u001b[0m/\r\n",
      "\u001b[01;34mnn_rhorho_Variant-All_Unweighted_False_NO_NUM_CLASSES_15\u001b[0m/\r\n",
      "\u001b[01;34mnn_rhorho_Variant-All_Unweighted_False_NO_NUM_CLASSES_16\u001b[0m/\r\n",
      "\u001b[01;34mnn_rhorho_Variant-All_Unweighted_False_NO_NUM_CLASSES_17\u001b[0m/\r\n",
      "\u001b[01;34mnn_rhorho_Variant-All_Unweighted_False_NO_NUM_CLASSES_18\u001b[0m/\r\n",
      "\u001b[01;34mnn_rhorho_Variant-All_Unweighted_False_NO_NUM_CLASSES_19\u001b[0m/\r\n",
      "\u001b[01;34mnn_rhorho_Variant-All_Unweighted_False_NO_NUM_CLASSES_2\u001b[0m/\r\n",
      "\u001b[01;34mnn_rhorho_Variant-All_Unweighted_False_NO_NUM_CLASSES_20\u001b[0m/\r\n",
      "\u001b[01;34mnn_rhorho_Variant-All_Unweighted_False_NO_NUM_CLASSES_21\u001b[0m/\r\n",
      "\u001b[01;34mnn_rhorho_Variant-All_Unweighted_False_NO_NUM_CLASSES_22\u001b[0m/\r\n",
      "\u001b[01;34mnn_rhorho_Variant-All_Unweighted_False_NO_NUM_CLASSES_23\u001b[0m/\r\n",
      "\u001b[01;34mnn_rhorho_Variant-All_Unweighted_False_NO_NUM_CLASSES_24\u001b[0m/\r\n",
      "\u001b[01;34mnn_rhorho_Variant-All_Unweighted_False_NO_NUM_CLASSES_25\u001b[0m/\r\n",
      "\u001b[01;34mnn_rhorho_Variant-All_Unweighted_False_NO_NUM_CLASSES_26\u001b[0m/\r\n",
      "\u001b[01;34mnn_rhorho_Variant-All_Unweighted_False_NO_NUM_CLASSES_27\u001b[0m/\r\n",
      "\u001b[01;34mnn_rhorho_Variant-All_Unweighted_False_NO_NUM_CLASSES_28\u001b[0m/\r\n",
      "\u001b[01;34mnn_rhorho_Variant-All_Unweighted_False_NO_NUM_CLASSES_29\u001b[0m/\r\n",
      "\u001b[01;34mnn_rhorho_Variant-All_Unweighted_False_NO_NUM_CLASSES_3\u001b[0m/\r\n",
      "\u001b[01;34mnn_rhorho_Variant-All_Unweighted_False_NO_NUM_CLASSES_30\u001b[0m/\r\n",
      "\u001b[01;34mnn_rhorho_Variant-All_Unweighted_False_NO_NUM_CLASSES_31\u001b[0m/\r\n",
      "\u001b[01;34mnn_rhorho_Variant-All_Unweighted_False_NO_NUM_CLASSES_32\u001b[0m/\r\n",
      "\u001b[01;34mnn_rhorho_Variant-All_Unweighted_False_NO_NUM_CLASSES_33\u001b[0m/\r\n",
      "\u001b[01;34mnn_rhorho_Variant-All_Unweighted_False_NO_NUM_CLASSES_34\u001b[0m/\r\n",
      "\u001b[01;34mnn_rhorho_Variant-All_Unweighted_False_NO_NUM_CLASSES_35\u001b[0m/\r\n",
      "\u001b[01;34mnn_rhorho_Variant-All_Unweighted_False_NO_NUM_CLASSES_36\u001b[0m/\r\n",
      "\u001b[01;34mnn_rhorho_Variant-All_Unweighted_False_NO_NUM_CLASSES_37\u001b[0m/\r\n",
      "\u001b[01;34mnn_rhorho_Variant-All_Unweighted_False_NO_NUM_CLASSES_38\u001b[0m/\r\n",
      "\u001b[01;34mnn_rhorho_Variant-All_Unweighted_False_NO_NUM_CLASSES_39\u001b[0m/\r\n",
      "\u001b[01;34mnn_rhorho_Variant-All_Unweighted_False_NO_NUM_CLASSES_4\u001b[0m/\r\n",
      "\u001b[01;34mnn_rhorho_Variant-All_Unweighted_False_NO_NUM_CLASSES_40\u001b[0m/\r\n",
      "\u001b[01;34mnn_rhorho_Variant-All_Unweighted_False_NO_NUM_CLASSES_42\u001b[0m/\r\n",
      "\u001b[01;34mnn_rhorho_Variant-All_Unweighted_False_NO_NUM_CLASSES_45\u001b[0m/\r\n",
      "\u001b[01;34mnn_rhorho_Variant-All_Unweighted_False_NO_NUM_CLASSES_46\u001b[0m/\r\n",
      "\u001b[01;34mnn_rhorho_Variant-All_Unweighted_False_NO_NUM_CLASSES_47\u001b[0m/\r\n",
      "\u001b[01;34mnn_rhorho_Variant-All_Unweighted_False_NO_NUM_CLASSES_48\u001b[0m/\r\n",
      "\u001b[01;34mnn_rhorho_Variant-All_Unweighted_False_NO_NUM_CLASSES_49\u001b[0m/\r\n",
      "\u001b[01;34mnn_rhorho_Variant-All_Unweighted_False_NO_NUM_CLASSES_5\u001b[0m/\r\n",
      "\u001b[01;34mnn_rhorho_Variant-All_Unweighted_False_NO_NUM_CLASSES_50\u001b[0m/\r\n",
      "\u001b[01;34mnn_rhorho_Variant-All_Unweighted_False_NO_NUM_CLASSES_6\u001b[0m/\r\n",
      "\u001b[01;34mnn_rhorho_Variant-All_Unweighted_False_NO_NUM_CLASSES_7\u001b[0m/\r\n",
      "\u001b[01;34mnn_rhorho_Variant-All_Unweighted_False_NO_NUM_CLASSES_8\u001b[0m/\r\n",
      "\u001b[01;34mnn_rhorho_Variant-All_Unweighted_False_NO_NUM_CLASSES_9\u001b[0m/\r\n"
     ]
    }
   ],
   "source": [
    "ls ../monit_npy/"
   ]
  },
  {
   "cell_type": "code",
   "execution_count": 5,
   "metadata": {
    "scrolled": true
   },
   "outputs": [],
   "source": [
    "filenames = ['../monit_npy/nn_rhorho_Variant-All_Unweighted_False_NO_NUM_CLASSES_{}'.format(i) for i in range(2,51)]"
   ]
  },
  {
   "cell_type": "code",
   "execution_count": 6,
   "metadata": {},
   "outputs": [],
   "source": [
    "def get_filename_for_class(class_num, subset=None):\n",
    "    d = '../monit_npy/nn_rhorho_Variant-All_Unweighted_False_NO_NUM_CLASSES_{}'.format(class_num)\n",
    "    if subset:\n",
    "        d += \"_WEIGHTS_SUBS\" + str(subset)\n",
    "    return d"
   ]
  },
  {
   "cell_type": "code",
   "execution_count": 7,
   "metadata": {},
   "outputs": [
    {
     "name": "stdout",
     "output_type": "stream",
     "text": [
      "softmax_calc_w.npy  softmax_preds_w.npy\r\n"
     ]
    }
   ],
   "source": [
    "ls ../monit_npy/nn_rhorho_Variant-All_Unweighted_False_NO_NUM_CLASSES_50"
   ]
  },
  {
   "cell_type": "code",
   "execution_count": 8,
   "metadata": {},
   "outputs": [
    {
     "data": {
      "text/plain": [
       "'../monit_npy/nn_rhorho_Variant-All_Unweighted_False_NO_NUM_CLASSES_2'"
      ]
     },
     "execution_count": 8,
     "metadata": {},
     "output_type": "execute_result"
    }
   ],
   "source": [
    "filenames[0]"
   ]
  },
  {
   "cell_type": "code",
   "execution_count": null,
   "metadata": {},
   "outputs": [],
   "source": []
  },
  {
   "cell_type": "code",
   "execution_count": 10,
   "metadata": {},
   "outputs": [],
   "source": [
    "def calculate_metrics_for_numclass(directory, num_class):\n",
    "    try:\n",
    "        calc_w = np.load(os.path.join(directory, 'softmax_calc_w.npy'))\n",
    "        preds_w = np.load(os.path.join(directory, 'softmax_preds_w.npy'))\n",
    "        return calculate_metrics(num_class, calc_w, preds_w)\n",
    "    except Exception:\n",
    "        return None"
   ]
  },
  {
   "cell_type": "code",
   "execution_count": 11,
   "metadata": {},
   "outputs": [],
   "source": [
    "metrics = [calculate_metrics_for_numclass(filenames[i], i+2) for i in range(49)]"
   ]
  },
  {
   "cell_type": "code",
   "execution_count": 12,
   "metadata": {},
   "outputs": [
    {
     "name": "stdout",
     "output_type": "stream",
     "text": [
      "[array([1.00000000e+00, 1.00000000e+00, 1.00000000e+00, 1.00000000e+00,\n",
      "       0.00000000e+00, 3.33338981e-09, 3.20514452e-07]), array([0.80355   , 1.        , 1.        , 1.        , 0.19645   ,\n",
      "       0.08372909, 0.11921725]), array([0.72748   , 1.        , 1.        , 1.        , 0.27252   ,\n",
      "       0.06311178, 0.08447197]), array([0.66552   , 0.96428   , 1.        , 1.        , 0.3702    ,\n",
      "       0.05048819, 0.06713378]), array([0.61338   , 0.9413    , 1.        , 1.        , 0.44532   ,\n",
      "       0.04188546, 0.05515874]), array([0.56065   , 0.91737   , 0.98059   , 1.        , 0.54139   ,\n",
      "       0.0358934 , 0.04724399]), array([0.51258   , 0.88632   , 0.96048   , 1.        , 0.64062   ,\n",
      "       0.03194998, 0.0418371 ]), array([0.47127   , 0.8642    , 0.94761   , 0.98514   , 0.73178   ,\n",
      "       0.02830128, 0.03690547]), array([0.43821   , 0.83474   , 0.93032   , 0.97181   , 0.82492   ,\n",
      "       0.02576307, 0.03355283]), array([0.40501   , 0.804     , 0.91306   , 0.958     , 0.93255   ,\n",
      "       0.02336415, 0.03055451]), array([0.37307   , 0.7826    , 0.90025   , 0.94861   , 1.01823   ,\n",
      "       0.02155834, 0.02802577]), array([0.35007   , 0.75298   , 0.88348   , 0.93522   , 1.12287   ,\n",
      "       0.01994648, 0.02589541]), array([0.33885   , 0.73925   , 0.8741    , 0.92943   , 1.17718   ,\n",
      "       0.0182918 , 0.02377852]), array([0.31496   , 0.70978   , 0.85649   , 0.91694   , 1.28881   ,\n",
      "       0.01717973, 0.02233219]), array([0.29698   , 0.68555   , 0.83785   , 0.90387   , 1.39044   ,\n",
      "       0.01610649, 0.02096916]), array([0.27842   , 0.6612    , 0.82497   , 0.89628   , 1.47847   ,\n",
      "       0.01504087, 0.0196633 ]), array([0.26307   , 0.63882   , 0.80744   , 0.88375   , 1.57624   ,\n",
      "       0.01437539, 0.0186823 ]), array([0.24899   , 0.61215   , 0.78872   , 0.87041   , 1.68984   ,\n",
      "       0.01362478, 0.01773598]), array([0.24226   , 0.60189   , 0.7783    , 0.86025   , 1.76171   ,\n",
      "       0.01294276, 0.01677253]), array([0.2257    , 0.57662   , 0.75761   , 0.84715   , 1.88411   ,\n",
      "       0.01230865, 0.01603514]), array([0.22202   , 0.56736   , 0.75375   , 0.84575   , 1.91673   ,\n",
      "       0.01154967, 0.01508354]), array([0.2127    , 0.54751   , 0.73873   , 0.83591   , 2.01231   ,\n",
      "       0.011105  , 0.01445537]), array([0.19546   , 0.51709   , 0.7122    , 0.81613   , 2.15377   ,\n",
      "       0.01098928, 0.01421475]), array([0.19021   , 0.50242   , 0.69709   , 0.80254   , 2.26611   ,\n",
      "       0.010303  , 0.01345144]), array([0.18327   , 0.48944   , 0.68438   , 0.79333   , 2.33907   ,\n",
      "       0.00991011, 0.01293989]), array([0.16916   , 0.45904   , 0.6509    , 0.76291   , 2.59417   ,\n",
      "       0.00992509, 0.01286696]), None, array([0.1525    , 0.42109   , 0.61074   , 0.72718   , 2.87256   ,\n",
      "       0.00949007, 0.01225766]), array([0.16115   , 0.44314   , 0.6375    , 0.75525   , 2.67425   ,\n",
      "       0.00853067, 0.0111115 ]), array([0.10966   , 0.31138   , 0.47335   , 0.59359   , 4.01173   ,\n",
      "       0.01019221, 0.0129909 ]), array([0.15538   , 0.42786   , 0.61972   , 0.74007   , 2.81803   ,\n",
      "       0.00801127, 0.01041531]), array([0.14665   , 0.40985   , 0.60049   , 0.72187   , 2.96927   ,\n",
      "       0.00777903, 0.01014448]), array([0.14164   , 0.39795   , 0.58708   , 0.71049   , 3.07782   ,\n",
      "       0.00759128, 0.00987383]), array([0.0976    , 0.28315   , 0.43961   , 0.55949   , 4.4753    ,\n",
      "       0.00895392, 0.01142423]), None, array([0.13037   , 0.37111   , 0.55175   , 0.67741   , 3.39498   ,\n",
      "       0.00705131, 0.00915221]), array([0.1248    , 0.34708   , 0.5226    , 0.64834   , 3.6397    ,\n",
      "       0.00699994, 0.00908486]), array([0.12394   , 0.35156   , 0.536     , 0.6638    , 3.53578   ,\n",
      "       0.00656635, 0.00858516]), array([0.12179   , 0.34668   , 0.52382   , 0.65369   , 3.60006   ,\n",
      "       0.00642973, 0.00836845]), None, array([0.08461   , 0.24727   , 0.39072   , 0.50907   , 5.12118   ,\n",
      "       0.00728368, 0.00930208]), None, None, array([0.1116    , 0.31562   , 0.48598   , 0.61459   , 4.01586   ,\n",
      "       0.00573245, 0.0074307 ]), None, array([0.1028    , 0.29826   , 0.46184   , 0.59053   , 4.27279   ,\n",
      "       0.00547675, 0.00712734]), array([0.10054   , 0.28979   , 0.45265   , 0.57809   , 4.4087    ,\n",
      "       0.00535965, 0.00699976]), array([0.10124   , 0.28942   , 0.45073   , 0.57902   , 4.39897   ,\n",
      "       0.00521001, 0.00677237]), array([0.09621   , 0.27913   , 0.4374    , 0.56258   , 4.59613   ,\n",
      "       0.00515983, 0.0067314 ])]\n"
     ]
    }
   ],
   "source": [
    "print metrics"
   ]
  },
  {
   "cell_type": "code",
   "execution_count": 14,
   "metadata": {},
   "outputs": [],
   "source": [
    "metrics = np.stack([np.zeros(7, dtype=float) if x is None else x for x in metrics])"
   ]
  },
  {
   "cell_type": "code",
   "execution_count": 11,
   "metadata": {},
   "outputs": [],
   "source": [
    "np.save( 'metrics_multiclass.npy', metrics,)"
   ]
  },
  {
   "cell_type": "markdown",
   "metadata": {},
   "source": [
    "# Accuracy"
   ]
  },
  {
   "cell_type": "code",
   "execution_count": 15,
   "metadata": {
    "scrolled": true
   },
   "outputs": [
    {
     "data": {
      "text/plain": [
       "Text(0,0.5,'Accuracy')"
      ]
     },
     "execution_count": 15,
     "metadata": {},
     "output_type": "execute_result"
    },
    {
     "data": {
      "image/png": "[encoded data removed]",
      "text/plain": [
       "<Figure size 432x288 with 1 Axes>"
      ]
     },
     "metadata": {
      "needs_background": "light"
     },
     "output_type": "display_data"
    }
   ],
   "source": [
    "plt.plot(metrics[:, 0],'+', label='Max distance 0')\n",
    "plt.plot(metrics[:, 1],'+', label='Max distance 1')\n",
    "plt.plot(metrics[:, 2],'+', label='Max distance 2')\n",
    "plt.plot(metrics[:, 3],'+', label='Max distance 3')\n",
    "plt.legend(loc='upper right')\n",
    "plt.xlabel('Number of classes')\n",
    "plt.ylabel('Accuracy')"
   ]
  },
  {
   "cell_type": "code",
   "execution_count": 22,
   "metadata": {},
   "outputs": [
    {
     "data": {
      "text/plain": [
       "Text(0,0.5,'Accuracy in distance of pi/5')"
      ]
     },
     "execution_count": 22,
     "metadata": {},
     "output_type": "execute_result"
    },
    {
     "data": {
      "image/png": "[encoded data removed]",
      "text/plain": [
       "<Figure size 432x288 with 1 Axes>"
      ]
     },
     "metadata": {
      "needs_background": "light"
     },
     "output_type": "display_data"
    }
   ],
   "source": [
    "# Accuracy in terms of absolute distance.\n",
    "number_of_classes = [5, 15, 25, 35, 45]\n",
    "in_dist_0 = [metrics[x, x // 10] for x in number_of_classes]\n",
    "plt.plot(number_of_classes, in_dist_0, '+')\n",
    "plt.xlabel('Number of classes')\n",
    "plt.ylabel('Accuracy in distance of pi/5')\n",
    "\n",
    "# Looks like number of classes does not help in terms of this metric."
   ]
  },
  {
   "cell_type": "markdown",
   "metadata": {},
   "source": [
    "# Mean error"
   ]
  },
  {
   "cell_type": "code",
   "execution_count": 13,
   "metadata": {},
   "outputs": [
    {
     "data": {
      "text/plain": [
       "[<matplotlib.lines.Line2D at 0x117026c18>]"
      ]
     },
     "execution_count": 13,
     "metadata": {},
     "output_type": "execute_result"
    },
    {
     "data": {
      "image/png": "[encoded data removed]",
      "text/plain": [
       "<Figure size 432x288 with 1 Axes>"
      ]
     },
     "metadata": {},
     "output_type": "display_data"
    }
   ],
   "source": [
    "plt.plot(metrics[1:, 4], 'o')\n",
    "\n"
   ]
  },
  {
   "cell_type": "markdown",
   "metadata": {},
   "source": [
    "# L1 Distance"
   ]
  },
  {
   "cell_type": "code",
   "execution_count": 14,
   "metadata": {},
   "outputs": [
    {
     "data": {
      "text/plain": [
       "Text(0,0.5,'l1')"
      ]
     },
     "execution_count": 14,
     "metadata": {},
     "output_type": "execute_result"
    },
    {
     "data": {
      "image/png": "[encoded data removed]",
      "text/plain": [
       "<Figure size 432x288 with 1 Axes>"
      ]
     },
     "metadata": {},
     "output_type": "display_data"
    }
   ],
   "source": [
    "plt.plot(metrics[1:, 5], '+')\n",
    "plt.xlabel(\"Number of classes\")\n",
    "plt.ylabel('l1')"
   ]
  },
  {
   "cell_type": "markdown",
   "metadata": {},
   "source": [
    "# L2 Distance"
   ]
  },
  {
   "cell_type": "code",
   "execution_count": 15,
   "metadata": {},
   "outputs": [
    {
     "data": {
      "text/plain": [
       "Text(0,0.5,'l2')"
      ]
     },
     "execution_count": 15,
     "metadata": {},
     "output_type": "execute_result"
    },
    {
     "data": {
      "image/png": "[encoded data removed]",
      "text/plain": [
       "<Figure size 432x288 with 1 Axes>"
      ]
     },
     "metadata": {},
     "output_type": "display_data"
    }
   ],
   "source": [
    "plt.plot(metrics[1:, 6], '+')\n",
    "plt.xlabel(\"Number of classes\")\n",
    "plt.ylabel('l2')"
   ]
  },
  {
   "cell_type": "markdown",
   "metadata": {},
   "source": [
    "# ROC AUC score"
   ]
  },
  {
   "cell_type": "code",
   "execution_count": 16,
   "metadata": {},
   "outputs": [],
   "source": [
    "from sklearn.metrics import roc_auc_score\n",
    "def calculate_roc_auc(pred_w, calc_w, index_a, index_b):\n",
    "    n, num_classes = calc_w.shape\n",
    "    true_labels = np.concatenate([np.ones(n), np.zeros(n)])\n",
    "    preds = np.concatenate([pred_w[:, index_a], pred_w[:, index_a]])\n",
    "    weights = np.concatenate([calc_w[:, index_a], calc_w[:, index_b]])\n",
    "\n",
    "    return roc_auc_score(true_labels, preds, sample_weight=weights)"
   ]
  },
  {
   "cell_type": "code",
   "execution_count": 17,
   "metadata": {},
   "outputs": [],
   "source": [
    "def test_roc_auc(directory, num_class):\n",
    "    calc_w = np.load(os.path.join(directory, 'softmax_calc_w.npy'))\n",
    "    preds_w = np.load(os.path.join(directory, 'softmax_preds_w.npy'))\n",
    "    for i in range(0, num_class):\n",
    "         print(i, 'roc_auc: {}'.format(calculate_roc_auc(preds_w, calc_w, 0, i)), 'maxroc_auc: {}'.format(calculate_roc_auc(calc_w, calc_w, 0, i)))"
   ]
  },
  {
   "cell_type": "code",
   "execution_count": 18,
   "metadata": {},
   "outputs": [
    {
     "name": "stdout",
     "output_type": "stream",
     "text": [
      "0 roc_auc: 0.5000000000000004 maxroc_auc: 0.5000000000000102\n",
      "1 roc_auc: 0.5043273048019564 maxroc_auc: 0.505715103706892\n",
      "2 roc_auc: 0.5157686018206398 maxroc_auc: 0.5224470536108253\n",
      "3 roc_auc: 0.5331939212487248 maxroc_auc: 0.5485427621387747\n",
      "4 roc_auc: 0.5548875781537895 maxroc_auc: 0.5814323630193214\n",
      "5 roc_auc: 0.578719927419587 maxroc_auc: 0.6178866679725444\n",
      "6 roc_auc: 0.6023581559599771 maxroc_auc: 0.6543369626140604\n",
      "7 roc_auc: 0.6234945971232256 maxroc_auc: 0.6872244359864048\n",
      "8 roc_auc: 0.6400702436905967 maxroc_auc: 0.7133450183653228\n",
      "9 roc_auc: 0.6504724937460067 maxroc_auc: 0.7301572263494819\n",
      "10 roc_auc: 0.6536892207764278 maxroc_auc: 0.7360250862136876\n",
      "11 roc_auc: 0.6494055204246585 maxroc_auc: 0.7303745760743253\n",
      "12 roc_auc: 0.6380345446021924 maxroc_auc: 0.7137496733185276\n",
      "13 roc_auc: 0.6206794027803705 maxroc_auc: 0.6877625770992603\n",
      "14 roc_auc: 0.5990289744981194 maxroc_auc: 0.6549416675781581\n",
      "15 roc_auc: 0.5751963930775128 maxroc_auc: 0.6184898953805829\n",
      "16 roc_auc: 0.5515145602566612 maxroc_auc: 0.5819750074317985\n",
      "17 roc_auc: 0.5303077979555111 maxroc_auc: 0.5489804870070762\n",
      "18 roc_auc: 0.5136619736482003 maxroc_auc: 0.5227512921184143\n",
      "19 roc_auc: 0.5032164948290334 maxroc_auc: 0.5058703925547597\n",
      "20 roc_auc: 0.5000000000000006 maxroc_auc: 0.5000000000000102\n"
     ]
    }
   ],
   "source": [
    "i = 21\n",
    "test_roc_auc(get_filename_for_class(i), i)"
   ]
  },
  {
   "cell_type": "code",
   "execution_count": 19,
   "metadata": {},
   "outputs": [
    {
     "name": "stdout",
     "output_type": "stream",
     "text": [
      "0 roc_auc: 0.5000000000000004 maxroc_auc: 0.5000000000000102\n",
      "1 roc_auc: 0.5043273048019564 maxroc_auc: 0.505715103706892\n",
      "2 roc_auc: 0.5157686018206398 maxroc_auc: 0.5224470536108253\n",
      "3 roc_auc: 0.5331939212487248 maxroc_auc: 0.5485427621387747\n",
      "4 roc_auc: 0.5548875781537895 maxroc_auc: 0.5814323630193214\n",
      "5 roc_auc: 0.578719927419587 maxroc_auc: 0.6178866679725444\n",
      "6 roc_auc: 0.6023581559599771 maxroc_auc: 0.6543369626140604\n",
      "7 roc_auc: 0.6234945971232256 maxroc_auc: 0.6872244359864048\n",
      "8 roc_auc: 0.6400702436905967 maxroc_auc: 0.7133450183653228\n",
      "9 roc_auc: 0.6504724937460067 maxroc_auc: 0.7301572263494819\n",
      "10 roc_auc: 0.6536892207764278 maxroc_auc: 0.7360250862136876\n",
      "11 roc_auc: 0.6494055204246585 maxroc_auc: 0.7303745760743253\n",
      "12 roc_auc: 0.6380345446021924 maxroc_auc: 0.7137496733185276\n",
      "13 roc_auc: 0.6206794027803705 maxroc_auc: 0.6877625770992603\n",
      "14 roc_auc: 0.5990289744981194 maxroc_auc: 0.6549416675781581\n",
      "15 roc_auc: 0.5751963930775128 maxroc_auc: 0.6184898953805829\n",
      "16 roc_auc: 0.5515145602566612 maxroc_auc: 0.5819750074317985\n",
      "17 roc_auc: 0.5303077979555111 maxroc_auc: 0.5489804870070762\n",
      "18 roc_auc: 0.5136619736482003 maxroc_auc: 0.5227512921184143\n",
      "19 roc_auc: 0.5032164948290334 maxroc_auc: 0.5058703925547597\n",
      "20 roc_auc: 0.5000000000000006 maxroc_auc: 0.5000000000000102\n"
     ]
    }
   ],
   "source": [
    "i = 21\n",
    "test_roc_auc(get_filename_for_class(i), i)"
   ]
  },
  {
   "cell_type": "markdown",
   "metadata": {},
   "source": [
    "## Baseline"
   ]
  },
  {
   "cell_type": "code",
   "execution_count": 20,
   "metadata": {},
   "outputs": [
    {
     "name": "stdout",
     "output_type": "stream",
     "text": [
      "0 roc_auc: 0.4999999999999933 maxroc_auc: 0.5000000000000052\n",
      "1 roc_auc: 0.6639896560945292 maxroc_auc: 0.6454566069027331\n"
     ]
    }
   ],
   "source": [
    "i = 21\n",
    "subset = [0,6] # Run with option --WEIGHTS_SUBSET [0,6]\n",
    "test_roc_auc(get_filename_for_class(i, subset), 2)"
   ]
  },
  {
   "cell_type": "code",
   "execution_count": 21,
   "metadata": {},
   "outputs": [
    {
     "name": "stdout",
     "output_type": "stream",
     "text": [
      "0 roc_auc: 0.5000000000000063 maxroc_auc: 0.5000000000000052\n",
      "1 roc_auc: 0.701805957934322 maxroc_auc: 0.7221783356452286\n"
     ]
    }
   ],
   "source": [
    "i = 21\n",
    "subset = [0,10] # Run with option --WEIGHTS_SUBSET [0,10]\n",
    "test_roc_auc(get_filename_for_class(i, subset), 2)"
   ]
  },
  {
   "cell_type": "code",
   "execution_count": 22,
   "metadata": {},
   "outputs": [
    {
     "name": "stdout",
     "output_type": "stream",
     "text": [
      "0 roc_auc: 0.4999999999999986 maxroc_auc: 0.5000000000000052\n",
      "1 roc_auc: 0.5568512762550901 maxroc_auc: 0.521384294099431\n"
     ]
    }
   ],
   "source": [
    "i = 21\n",
    "subset = [0,2] # Run with option --WEIGHTS_SUBSET [0,2]\n",
    "test_roc_auc(get_filename_for_class(i, subset), 2)"
   ]
  },
  {
   "cell_type": "code",
   "execution_count": 23,
   "metadata": {},
   "outputs": [
    {
     "name": "stdout",
     "output_type": "stream",
     "text": [
      "0 roc_auc: 0.4999999999999992 maxroc_auc: 0.5000000000000052\n",
      "1 roc_auc: 0.6897154024886555 maxroc_auc: 0.7009590049115341\n"
     ]
    }
   ],
   "source": [
    "i = 21\n",
    "subset = [0,8] # Run with option --WEIGHTS_SUBSET [0,8]\n",
    "test_roc_auc(get_filename_for_class(i, subset), 2)"
   ]
  },
  {
   "cell_type": "markdown",
   "metadata": {},
   "source": [
    "# Accuracy distance"
   ]
  },
  {
   "cell_type": "code",
   "execution_count": 42,
   "metadata": {},
   "outputs": [],
   "source": [
    "def plot_distr(directory, num_class):\n",
    "    from scipy.stats import norm\n",
    "    calc_w = np.load(os.path.join(directory, 'softmax_calc_w.npy'))\n",
    "    preds_w = np.load(os.path.join(directory, 'softmax_preds_w.npy'))\n",
    "    pred_arg_maxs = np.argmax(preds_w, axis=1)\n",
    "    calc_arg_maxs = np.argmax(calc_w, axis=1)\n",
    "    min_distances = calc_min_distances_discrete(pred_arg_maxs, calc_arg_maxs, num_class)\n",
    "    bins = np.array(list(range(int(np.min(min_distances)), int(np.max(min_distances)+2)))) -0.5\n",
    "    mu, std = norm.fit(zip(bins, min_distances))\n",
    "    print \"mu = {} ::: std = {}\".format(mu, std)\n",
    "    plt.hist(min_distances, bins=bins, histtype='step')\n",
    "    # xmin, xmax = plt.xlim()\n",
    "    # x = np.linspace(xmin, xmax, 100)\n",
    "    # p = norm.pdf(x, mu, std)\n",
    "    # plt.plot(x, p, 'k', linewidth=2)\n",
    "    plt.xlabel('Prediction error distance')\n",
    "    "
   ]
  },
  {
   "cell_type": "code",
   "execution_count": null,
   "metadata": {},
   "outputs": [],
   "source": []
  },
  {
   "cell_type": "code",
   "execution_count": 43,
   "metadata": {
    "scrolled": true
   },
   "outputs": [
    {
     "name": "stdout",
     "output_type": "stream",
     "text": [
      "mu = 0.9 ::: std = 6.91001688372\n"
     ]
    },
    {
     "data": {
      "image/png": "[encoded data removed]",
      "text/plain": [
       "<Figure size 432x288 with 1 Axes>"
      ]
     },
     "metadata": {
      "needs_background": "light"
     },
     "output_type": "display_data"
    }
   ],
   "source": [
    "i = 30\n",
    "plot_distr(get_filename_for_class(i), i)"
   ]
  },
  {
   "cell_type": "code",
   "execution_count": 44,
   "metadata": {
    "scrolled": true
   },
   "outputs": [
    {
     "name": "stdout",
     "output_type": "stream",
     "text": [
      "mu = 0.895833333333 ::: std = 10.4557392201\n"
     ]
    },
    {
     "data": {
      "image/png": "[encoded data removed]",
      "text/plain": [
       "<Figure size 432x288 with 1 Axes>"
      ]
     },
     "metadata": {
      "needs_background": "light"
     },
     "output_type": "display_data"
    }
   ],
   "source": [
    "i = 48\n",
    "plot_distr(get_filename_for_class(i), i)"
   ]
  },
  {
   "cell_type": "code",
   "execution_count": 48,
   "metadata": {
    "scrolled": true
   },
   "outputs": [
    {
     "name": "stdout",
     "output_type": "stream",
     "text": [
      "mu = 0.0833333333333 ::: std = 1.3667682889\n"
     ]
    },
    {
     "data": {
      "image/png": "[encoded data removed]",
      "text/plain": [
       "<Figure size 432x288 with 1 Axes>"
      ]
     },
     "metadata": {
      "needs_background": "light"
     },
     "output_type": "display_data"
    }
   ],
   "source": [
    "i = 6\n",
    "plot_distr(get_filename_for_class(i), i)"
   ]
  },
  {
   "cell_type": "code",
   "execution_count": 46,
   "metadata": {},
   "outputs": [
    {
     "name": "stdout",
     "output_type": "stream",
     "text": [
      "mu = -0.578125 ::: std = 7.08388286778\n"
     ]
    },
    {
     "data": {
      "image/png": "[encoded data removed]",
      "text/plain": [
       "<Figure size 432x288 with 1 Axes>"
      ]
     },
     "metadata": {
      "needs_background": "light"
     },
     "output_type": "display_data"
    }
   ],
   "source": [
    "i = 32\n",
    "plot_distr(get_filename_for_class(i), i)"
   ]
  },
  {
   "cell_type": "code",
   "execution_count": 47,
   "metadata": {
    "scrolled": true
   },
   "outputs": [
    {
     "name": "stdout",
     "output_type": "stream",
     "text": [
      "mu = -0.0625 ::: std = 9.26329281357\n"
     ]
    },
    {
     "data": {
      "image/png": "[encoded data removed]",
      "text/plain": [
       "<Figure size 432x288 with 1 Axes>"
      ]
     },
     "metadata": {
      "needs_background": "light"
     },
     "output_type": "display_data"
    }
   ],
   "source": [
    "i = 39\n",
    "plot_distr(get_filename_for_class(i), i)"
   ]
  },
  {
   "cell_type": "code",
   "execution_count": null,
   "metadata": {},
   "outputs": [],
   "source": []
  },
  {
   "cell_type": "code",
   "execution_count": null,
   "metadata": {},
   "outputs": [],
   "source": []
  }
 ],
 "metadata": {
  "kernelspec": {
   "display_name": "Python 2",
   "language": "python",
   "name": "python2"
  },
  "language_info": {
   "codemirror_mode": {
    "name": "ipython",
    "version": 2
   },
   "file_extension": ".py",
   "mimetype": "text/x-python",
   "name": "python",
   "nbconvert_exporter": "python",
   "pygments_lexer": "ipython2",
   "version": "2.7.16"
  }
 },
 "nbformat": 4,
 "nbformat_minor": 2
}
