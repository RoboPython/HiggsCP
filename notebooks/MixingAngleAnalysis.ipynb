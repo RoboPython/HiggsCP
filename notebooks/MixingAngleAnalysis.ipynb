{
 "cells": [
  {
   "cell_type": "code",
   "execution_count": 1,
   "metadata": {},
   "outputs": [],
   "source": [
    "import numpy as np\n",
    "import matplotlib.pyplot as plt\n",
    "import random\n"
   ]
  },
  {
   "cell_type": "markdown",
   "metadata": {},
   "source": [
    "# Load weights to visualize"
   ]
  },
  {
   "cell_type": "code",
   "execution_count": 9,
   "metadata": {},
   "outputs": [],
   "source": [
    "weights = np.load('../data/rhorho_raw.w.npy')"
   ]
  },
  {
   "cell_type": "code",
   "execution_count": 10,
   "metadata": {},
   "outputs": [
    {
     "data": {
      "text/plain": [
       "(11, 1000000)"
      ]
     },
     "execution_count": 10,
     "metadata": {},
     "output_type": "execute_result"
    }
   ],
   "source": [
    "weights.shape"
   ]
  },
  {
   "cell_type": "code",
   "execution_count": 15,
   "metadata": {},
   "outputs": [
    {
     "data": {
      "text/plain": [
       "[<matplotlib.lines.Line2D at 0x11f5a84a8>]"
      ]
     },
     "execution_count": 15,
     "metadata": {},
     "output_type": "execute_result"
    },
    {
     "data": {
      "image/png": "[encoded data removed]",
      "text/plain": [
       "<Figure size 432x288 with 1 Axes>"
      ]
     },
     "metadata": {},
     "output_type": "display_data"
    }
   ],
   "source": [
    "plt.plot(np.linspace(0, 2*np.pi, 11),weights[:,1], 'o')"
   ]
  },
  {
   "cell_type": "code",
   "execution_count": null,
   "metadata": {},
   "outputs": [],
   "source": []
  },
  {
   "cell_type": "code",
   "execution_count": null,
   "metadata": {},
   "outputs": [],
   "source": []
  },
  {
   "cell_type": "markdown",
   "metadata": {},
   "source": [
    "# Load data for different classification bins (max-args)"
   ]
  },
  {
   "cell_type": "code",
   "execution_count": 190,
   "metadata": {},
   "outputs": [],
   "source": [
    "vec_labels1 = np.load('../results/res_vec_labels1.npy')\n",
    "vec_pred1 = np.load('../results/res_vec_pred1.npy')\n",
    "vec_labels3 = np.load('../results/res_vec_labels3.npy')\n",
    "vec_pred3 = np.load('../results/res_vec_pred3.npy')\n",
    "vec_labels5 = np.load('../results/res_vec_labels5.npy')\n",
    "vec_pred5 = np.load('../results/res_vec_pred5.npy')\n",
    "vec_labels7 = np.load('../results/res_vec_labels7.npy')\n",
    "vec_pred7 = np.load('../results/res_vec_pred7.npy')\n",
    "vec_labels9 = np.load('../results/res_vec_labels9.npy')\n",
    "vec_pred9 = np.load('../results/res_vec_pred9.npy')\n"
   ]
  },
  {
   "cell_type": "markdown",
   "metadata": {},
   "source": [
    "## Unweighted"
   ]
  },
  {
   "cell_type": "code",
   "execution_count": 191,
   "metadata": {},
   "outputs": [],
   "source": [
    "vec_labels = np.load('../results/res_vec_labels.npy')\n",
    "vec_pred = np.load('../results/res_vec_pred.npy')"
   ]
  },
  {
   "cell_type": "markdown",
   "metadata": {},
   "source": [
    "## Compare labels"
   ]
  },
  {
   "cell_type": "code",
   "execution_count": 192,
   "metadata": {},
   "outputs": [
    {
     "data": {
      "text/plain": [
       "(array([207., 210., 210., 192., 208., 219., 207., 222., 215., 207., 233.,\n",
       "        224., 231., 249., 261., 251., 234., 243., 226., 281., 258., 308.,\n",
       "        264., 315., 309., 305., 294., 318., 299., 316., 356., 327., 324.,\n",
       "        357., 379., 383., 395., 408., 393., 385., 432., 439., 427., 441.,\n",
       "        423., 475., 469., 496., 462., 508., 492., 503., 506., 545., 574.,\n",
       "        561., 579., 505., 573., 594., 582., 579., 653., 605., 639., 682.,\n",
       "        617., 684., 664., 671., 652., 716., 674., 714., 722., 724., 730.,\n",
       "        753., 733., 745., 788., 750., 702., 773., 770., 739., 771., 818.,\n",
       "        755., 791., 747., 755., 733., 772., 794., 798., 802., 804., 784.,\n",
       "        759.]),\n",
       " array([2.87234379e-04, 3.16999695e-02, 6.31127047e-02, 9.45254398e-02,\n",
       "        1.25938175e-01, 1.57350910e-01, 1.88763645e-01, 2.20176380e-01,\n",
       "        2.51589116e-01, 2.83001851e-01, 3.14414586e-01, 3.45827321e-01,\n",
       "        3.77240056e-01, 4.08652791e-01, 4.40065526e-01, 4.71478262e-01,\n",
       "        5.02890997e-01, 5.34303732e-01, 5.65716467e-01, 5.97129202e-01,\n",
       "        6.28541937e-01, 6.59954672e-01, 6.91367408e-01, 7.22780143e-01,\n",
       "        7.54192878e-01, 7.85605613e-01, 8.17018348e-01, 8.48431083e-01,\n",
       "        8.79843818e-01, 9.11256554e-01, 9.42669289e-01, 9.74082024e-01,\n",
       "        1.00549476e+00, 1.03690749e+00, 1.06832023e+00, 1.09973296e+00,\n",
       "        1.13114570e+00, 1.16255843e+00, 1.19397117e+00, 1.22538391e+00,\n",
       "        1.25679664e+00, 1.28820938e+00, 1.31962211e+00, 1.35103485e+00,\n",
       "        1.38244758e+00, 1.41386032e+00, 1.44527305e+00, 1.47668579e+00,\n",
       "        1.50809852e+00, 1.53951126e+00, 1.57092399e+00, 1.60233673e+00,\n",
       "        1.63374946e+00, 1.66516220e+00, 1.69657493e+00, 1.72798767e+00,\n",
       "        1.75940040e+00, 1.79081314e+00, 1.82222587e+00, 1.85363861e+00,\n",
       "        1.88505134e+00, 1.91646408e+00, 1.94787681e+00, 1.97928955e+00,\n",
       "        2.01070228e+00, 2.04211502e+00, 2.07352775e+00, 2.10494049e+00,\n",
       "        2.13635322e+00, 2.16776596e+00, 2.19917869e+00, 2.23059143e+00,\n",
       "        2.26200416e+00, 2.29341690e+00, 2.32482964e+00, 2.35624237e+00,\n",
       "        2.38765511e+00, 2.41906784e+00, 2.45048058e+00, 2.48189331e+00,\n",
       "        2.51330605e+00, 2.54471878e+00, 2.57613152e+00, 2.60754425e+00,\n",
       "        2.63895699e+00, 2.67036972e+00, 2.70178246e+00, 2.73319519e+00,\n",
       "        2.76460793e+00, 2.79602066e+00, 2.82743340e+00, 2.85884613e+00,\n",
       "        2.89025887e+00, 2.92167160e+00, 2.95308434e+00, 2.98449707e+00,\n",
       "        3.01590981e+00, 3.04732254e+00, 3.07873528e+00, 3.11014801e+00,\n",
       "        3.14156075e+00]),\n",
       " <a list of 1 Patch objects>)"
      ]
     },
     "execution_count": 192,
     "metadata": {},
     "output_type": "execute_result"
    },
    {
     "data": {
      "image/png": "[encoded data removed]",
      "text/plain": [
       "<Figure size 432x288 with 1 Axes>"
      ]
     },
     "metadata": {},
     "output_type": "display_data"
    }
   ],
   "source": [
    "plt.hist(vec_labels1, histtype='step', bins=100)\n",
    "#plt.hist(vec_labels3, histtype='step', bins=100)\n",
    "plt.hist(vec_labels5, histtype='step', bins=100)\n",
    "#plt.hist(vec_labels7, histtype='step', bins=100)\n",
    "plt.hist(vec_labels9, histtype='step', bins=100)\n"
   ]
  },
  {
   "cell_type": "code",
   "execution_count": 193,
   "metadata": {},
   "outputs": [
    {
     "data": {
      "text/plain": [
       "(array([650., 695., 705., 670., 668., 714., 685., 656., 727., 692., 672.,\n",
       "        657., 689., 667., 686., 624., 653., 635., 579., 660., 656., 695.,\n",
       "        614., 677., 676., 648., 600., 605., 587., 618., 620., 594., 594.,\n",
       "        575., 578., 562., 564., 567., 580., 525., 538., 586., 529., 502.,\n",
       "        497., 520., 550., 511., 480., 488., 488., 465., 464., 469., 506.,\n",
       "        459., 445., 419., 460., 442., 443., 425., 465., 431., 418., 448.,\n",
       "        389., 437., 417., 380., 415., 431., 392., 378., 376., 387., 387.,\n",
       "        380., 349., 362., 391., 333., 315., 336., 372., 333., 336., 351.,\n",
       "        296., 334., 313., 310., 321., 332., 310., 294., 336., 342., 327.,\n",
       "        313.]),\n",
       " array([1.76750624e-04, 3.15886217e-02, 6.30004927e-02, 9.44123638e-02,\n",
       "        1.25824235e-01, 1.57236106e-01, 1.88647977e-01, 2.20059848e-01,\n",
       "        2.51471719e-01, 2.82883590e-01, 3.14295461e-01, 3.45707332e-01,\n",
       "        3.77119203e-01, 4.08531074e-01, 4.39942945e-01, 4.71354816e-01,\n",
       "        5.02766687e-01, 5.34178558e-01, 5.65590430e-01, 5.97002301e-01,\n",
       "        6.28414172e-01, 6.59826043e-01, 6.91237914e-01, 7.22649785e-01,\n",
       "        7.54061656e-01, 7.85473527e-01, 8.16885398e-01, 8.48297269e-01,\n",
       "        8.79709140e-01, 9.11121011e-01, 9.42532882e-01, 9.73944753e-01,\n",
       "        1.00535662e+00, 1.03676850e+00, 1.06818037e+00, 1.09959224e+00,\n",
       "        1.13100411e+00, 1.16241598e+00, 1.19382785e+00, 1.22523972e+00,\n",
       "        1.25665159e+00, 1.28806346e+00, 1.31947533e+00, 1.35088721e+00,\n",
       "        1.38229908e+00, 1.41371095e+00, 1.44512282e+00, 1.47653469e+00,\n",
       "        1.50794656e+00, 1.53935843e+00, 1.57077030e+00, 1.60218217e+00,\n",
       "        1.63359405e+00, 1.66500592e+00, 1.69641779e+00, 1.72782966e+00,\n",
       "        1.75924153e+00, 1.79065340e+00, 1.82206527e+00, 1.85347714e+00,\n",
       "        1.88488901e+00, 1.91630088e+00, 1.94771276e+00, 1.97912463e+00,\n",
       "        2.01053650e+00, 2.04194837e+00, 2.07336024e+00, 2.10477211e+00,\n",
       "        2.13618398e+00, 2.16759585e+00, 2.19900772e+00, 2.23041960e+00,\n",
       "        2.26183147e+00, 2.29324334e+00, 2.32465521e+00, 2.35606708e+00,\n",
       "        2.38747895e+00, 2.41889082e+00, 2.45030269e+00, 2.48171456e+00,\n",
       "        2.51312643e+00, 2.54453831e+00, 2.57595018e+00, 2.60736205e+00,\n",
       "        2.63877392e+00, 2.67018579e+00, 2.70159766e+00, 2.73300953e+00,\n",
       "        2.76442140e+00, 2.79583327e+00, 2.82724515e+00, 2.85865702e+00,\n",
       "        2.89006889e+00, 2.92148076e+00, 2.95289263e+00, 2.98430450e+00,\n",
       "        3.01571637e+00, 3.04712824e+00, 3.07854011e+00, 3.10995198e+00,\n",
       "        3.14136386e+00]),\n",
       " <a list of 1 Patch objects>)"
      ]
     },
     "execution_count": 193,
     "metadata": {},
     "output_type": "execute_result"
    },
    {
     "data": {
      "image/png": "[encoded data removed]",
      "text/plain": [
       "<Figure size 432x288 with 1 Axes>"
      ]
     },
     "metadata": {},
     "output_type": "display_data"
    }
   ],
   "source": [
    "plt.hist(vec_labels3, histtype='step', bins=100)\n",
    "\n"
   ]
  },
  {
   "cell_type": "code",
   "execution_count": 194,
   "metadata": {},
   "outputs": [
    {
     "data": {
      "text/plain": [
       "-0.9999987317275395"
      ]
     },
     "execution_count": 194,
     "metadata": {},
     "output_type": "execute_result"
    }
   ],
   "source": [
    "np.cos(3.14)"
   ]
  },
  {
   "cell_type": "code",
   "execution_count": 195,
   "metadata": {},
   "outputs": [
    {
     "data": {
      "text/plain": [
       "(array([10007.,  9989., 10157.,  9890.,  9987.,  9932., 10028., 10143.,\n",
       "        10021.,  9846.]),\n",
       " array([9.40225131e-05, 3.14240695e-01, 6.28387368e-01, 9.42534040e-01,\n",
       "        1.25668071e+00, 1.57082739e+00, 1.88497406e+00, 2.19912073e+00,\n",
       "        2.51326740e+00, 2.82741408e+00, 3.14156075e+00]),\n",
       " <a list of 1 Patch objects>)"
      ]
     },
     "execution_count": 195,
     "metadata": {},
     "output_type": "execute_result"
    },
    {
     "data": {
      "image/png": "[encoded data removed]",
      "text/plain": [
       "<Figure size 432x288 with 1 Axes>"
      ]
     },
     "metadata": {},
     "output_type": "display_data"
    }
   ],
   "source": [
    "plt.hist(vec_labels, histtype='step')"
   ]
  },
  {
   "cell_type": "markdown",
   "metadata": {},
   "source": [
    "### Compare preds"
   ]
  },
  {
   "cell_type": "code",
   "execution_count": 197,
   "metadata": {},
   "outputs": [
    {
     "data": {
      "text/plain": [
       "(array([  2.,   3.,   4.,  22.,  41.,  60., 130., 225., 292., 358., 429.,\n",
       "        464., 539., 506., 502., 544., 537., 516., 526., 547., 519., 526.,\n",
       "        529., 555., 565., 589., 571., 597., 547., 592., 626., 573., 609.,\n",
       "        619., 606., 616., 569., 630., 600., 619., 666., 642., 583., 657.,\n",
       "        624., 661., 611., 634., 657., 666., 668., 662., 670., 672., 692.,\n",
       "        661., 667., 699., 732., 748., 794., 751., 805., 767., 797., 806.,\n",
       "        808., 874., 831., 894., 959., 954., 936., 868., 851., 889., 727.,\n",
       "        734., 639., 578., 535., 435., 367., 298., 249., 212., 173., 125.,\n",
       "         92.,  68.,  44.,  53.,  27.,  12.,  17.,  10.,   6.,   2.,   4.,\n",
       "          4.]),\n",
       " array([0.11708727, 0.14606034, 0.1750334 , 0.20400646, 0.23297952,\n",
       "        0.26195258, 0.29092564, 0.3198987 , 0.34887176, 0.37784482,\n",
       "        0.40681788, 0.43579094, 0.464764  , 0.49373706, 0.52271012,\n",
       "        0.55168318, 0.58065624, 0.6096293 , 0.63860236, 0.66757543,\n",
       "        0.69654849, 0.72552155, 0.75449461, 0.78346767, 0.81244073,\n",
       "        0.84141379, 0.87038685, 0.89935991, 0.92833297, 0.95730603,\n",
       "        0.98627909, 1.01525215, 1.04422521, 1.07319827, 1.10217133,\n",
       "        1.13114439, 1.16011745, 1.18909052, 1.21806358, 1.24703664,\n",
       "        1.2760097 , 1.30498276, 1.33395582, 1.36292888, 1.39190194,\n",
       "        1.420875  , 1.44984806, 1.47882112, 1.50779418, 1.53676724,\n",
       "        1.5657403 , 1.59471336, 1.62368642, 1.65265948, 1.68163254,\n",
       "        1.7106056 , 1.73957867, 1.76855173, 1.79752479, 1.82649785,\n",
       "        1.85547091, 1.88444397, 1.91341703, 1.94239009, 1.97136315,\n",
       "        2.00033621, 2.02930927, 2.05828233, 2.08725539, 2.11622845,\n",
       "        2.14520151, 2.17417457, 2.20314763, 2.23212069, 2.26109376,\n",
       "        2.29006682, 2.31903988, 2.34801294, 2.376986  , 2.40595906,\n",
       "        2.43493212, 2.46390518, 2.49287824, 2.5218513 , 2.55082436,\n",
       "        2.57979742, 2.60877048, 2.63774354, 2.6667166 , 2.69568966,\n",
       "        2.72466272, 2.75363578, 2.78260885, 2.81158191, 2.84055497,\n",
       "        2.86952803, 2.89850109, 2.92747415, 2.95644721, 2.98542027,\n",
       "        3.01439333]),\n",
       " <a list of 1 Patch objects>)"
      ]
     },
     "execution_count": 197,
     "metadata": {},
     "output_type": "execute_result"
    },
    {
     "data": {
      "image/png": "[encoded data removed]",
      "text/plain": [
       "<Figure size 432x288 with 1 Axes>"
      ]
     },
     "metadata": {},
     "output_type": "display_data"
    }
   ],
   "source": [
    "#plt.hist(vec_pred[:,0], histtype='step')\n",
    "plt.hist(vec_pred1[:,1], histtype='step', bins=100)\n",
    "plt.hist(vec_pred5[:,1], histtype='step', bins=100)\n",
    "plt.hist(vec_pred9[:,1], histtype='step', bins=100)\n",
    "\n",
    "\n",
    "\n"
   ]
  },
  {
   "cell_type": "code",
   "execution_count": 188,
   "metadata": {},
   "outputs": [
    {
     "data": {
      "text/plain": [
       "(array([2.510e+02, 3.000e+00, 7.000e+00, 1.200e+01, 9.000e+00, 2.200e+01,\n",
       "        3.300e+01, 2.700e+01, 4.600e+01, 5.400e+01, 6.400e+01, 9.700e+01,\n",
       "        1.110e+02, 1.530e+02, 1.860e+02, 1.880e+02, 2.420e+02, 3.140e+02,\n",
       "        3.830e+02, 4.480e+02, 5.140e+02, 6.080e+02, 6.780e+02, 7.410e+02,\n",
       "        8.100e+02, 8.210e+02, 8.140e+02, 8.620e+02, 8.450e+02, 8.330e+02,\n",
       "        8.370e+02, 8.100e+02, 7.710e+02, 8.060e+02, 7.650e+02, 7.720e+02,\n",
       "        7.190e+02, 7.140e+02, 7.010e+02, 7.600e+02, 6.610e+02, 7.230e+02,\n",
       "        7.030e+02, 7.140e+02, 6.740e+02, 7.180e+02, 7.850e+02, 7.550e+02,\n",
       "        8.000e+02, 8.300e+02, 7.960e+02, 8.320e+02, 7.770e+02, 7.810e+02,\n",
       "        7.370e+02, 6.760e+02, 6.790e+02, 7.450e+02, 7.190e+02, 7.280e+02,\n",
       "        7.660e+02, 7.090e+02, 7.450e+02, 8.250e+02, 8.860e+02, 9.140e+02,\n",
       "        9.260e+02, 1.029e+03, 1.035e+03, 1.166e+03, 1.142e+03, 1.129e+03,\n",
       "        9.970e+02, 8.580e+02, 8.540e+02, 7.790e+02, 6.080e+02, 5.120e+02,\n",
       "        3.750e+02, 3.460e+02, 2.470e+02, 1.970e+02, 1.250e+02, 6.900e+01,\n",
       "        6.600e+01, 3.300e+01, 2.500e+01, 2.100e+01, 1.400e+01, 1.500e+01,\n",
       "        3.000e+00, 3.000e+00, 3.000e+00, 2.000e+00, 4.000e+00, 1.000e+00,\n",
       "        1.000e+00, 1.000e+00, 0.000e+00, 1.400e+01]),\n",
       " array([0.        , 0.03141593, 0.06283185, 0.09424778, 0.12566371,\n",
       "        0.15707964, 0.18849556, 0.21991149, 0.25132742, 0.28274335,\n",
       "        0.31415927, 0.3455752 , 0.37699113, 0.40840706, 0.43982298,\n",
       "        0.47123891, 0.50265484, 0.53407077, 0.56548669, 0.59690262,\n",
       "        0.62831855, 0.65973448, 0.6911504 , 0.72256633, 0.75398226,\n",
       "        0.78539819, 0.81681411, 0.84823004, 0.87964597, 0.91106189,\n",
       "        0.94247782, 0.97389375, 1.00530968, 1.0367256 , 1.06814153,\n",
       "        1.09955746, 1.13097339, 1.16238931, 1.19380524, 1.22522117,\n",
       "        1.2566371 , 1.28805302, 1.31946895, 1.35088488, 1.38230081,\n",
       "        1.41371673, 1.44513266, 1.47654859, 1.50796452, 1.53938044,\n",
       "        1.57079637, 1.6022123 , 1.63362823, 1.66504415, 1.69646008,\n",
       "        1.72787601, 1.75929193, 1.79070786, 1.82212379, 1.85353972,\n",
       "        1.88495564, 1.91637157, 1.9477875 , 1.97920343, 2.01061935,\n",
       "        2.04203528, 2.07345121, 2.10486714, 2.13628306, 2.16769899,\n",
       "        2.19911492, 2.23053085, 2.26194677, 2.2933627 , 2.32477863,\n",
       "        2.35619456, 2.38761048, 2.41902641, 2.45044234, 2.48185827,\n",
       "        2.51327419, 2.54469012, 2.57610605, 2.60752198, 2.6389379 ,\n",
       "        2.67035383, 2.70176976, 2.73318568, 2.76460161, 2.79601754,\n",
       "        2.82743347, 2.85884939, 2.89026532, 2.92168125, 2.95309718,\n",
       "        2.9845131 , 3.01592903, 3.04734496, 3.07876089, 3.11017681,\n",
       "        3.14159274]),\n",
       " <a list of 1 Patch objects>)"
      ]
     },
     "execution_count": 188,
     "metadata": {},
     "output_type": "execute_result"
    },
    {
     "data": {
      "image/png": "[encoded data removed]",
      "text/plain": [
       "<Figure size 432x288 with 1 Axes>"
      ]
     },
     "metadata": {},
     "output_type": "display_data"
    }
   ],
   "source": [
    "plt.hist(np.arccos(np.clip(vec_pred1[:,1],-1, 1)), histtype='step', bins=100)\n",
    "plt.hist(np.arccos(np.clip(vec_pred5[:,1],-1, 1)), histtype='step', bins=100)\n",
    "plt.hist(np.arccos(np.clip(vec_pred9[:,1],-1, 1)), histtype='step', bins=100)"
   ]
  },
  {
   "cell_type": "code",
   "execution_count": 189,
   "metadata": {},
   "outputs": [
    {
     "data": {
      "text/plain": [
       "(array([ 21.,   8.,  18.,  30.,  41.,  65., 101., 164., 250., 293., 359.,\n",
       "        459., 528., 647., 749., 767., 733., 829., 907., 947., 905., 877.,\n",
       "        800., 787., 694., 681., 663., 661., 598., 559., 543., 469., 487.,\n",
       "        520., 488., 496., 483., 494., 472., 448., 432., 439., 454., 485.,\n",
       "        485., 484., 536., 522., 547., 490., 540., 524., 499., 496., 481.,\n",
       "        487., 489., 459., 434., 462., 444., 475., 455., 475., 440., 456.,\n",
       "        530., 486., 490., 487., 500., 516., 560., 557., 586., 582., 574.,\n",
       "        625., 666., 671., 622., 714., 722., 717., 736., 712., 727., 678.,\n",
       "        638., 608., 517., 448., 392., 314., 263., 224., 185., 121.,  95.,\n",
       "        315.]),\n",
       " array([-1.  , -0.98, -0.96, -0.94, -0.92, -0.9 , -0.88, -0.86, -0.84,\n",
       "        -0.82, -0.8 , -0.78, -0.76, -0.74, -0.72, -0.7 , -0.68, -0.66,\n",
       "        -0.64, -0.62, -0.6 , -0.58, -0.56, -0.54, -0.52, -0.5 , -0.48,\n",
       "        -0.46, -0.44, -0.42, -0.4 , -0.38, -0.36, -0.34, -0.32, -0.3 ,\n",
       "        -0.28, -0.26, -0.24, -0.22, -0.2 , -0.18, -0.16, -0.14, -0.12,\n",
       "        -0.1 , -0.08, -0.06, -0.04, -0.02,  0.  ,  0.02,  0.04,  0.06,\n",
       "         0.08,  0.1 ,  0.12,  0.14,  0.16,  0.18,  0.2 ,  0.22,  0.24,\n",
       "         0.26,  0.28,  0.3 ,  0.32,  0.34,  0.36,  0.38,  0.4 ,  0.42,\n",
       "         0.44,  0.46,  0.48,  0.5 ,  0.52,  0.54,  0.56,  0.58,  0.6 ,\n",
       "         0.62,  0.64,  0.66,  0.68,  0.7 ,  0.72,  0.74,  0.76,  0.78,\n",
       "         0.8 ,  0.82,  0.84,  0.86,  0.88,  0.9 ,  0.92,  0.94,  0.96,\n",
       "         0.98,  1.  ]),\n",
       " <a list of 1 Patch objects>)"
      ]
     },
     "execution_count": 189,
     "metadata": {},
     "output_type": "execute_result"
    },
    {
     "data": {
      "image/png": "[encoded data removed]",
      "text/plain": [
       "<Figure size 432x288 with 1 Axes>"
      ]
     },
     "metadata": {},
     "output_type": "display_data"
    }
   ],
   "source": [
    "#plt.hist(vec_pred[:,1], histtype='step')\n",
    "plt.hist(vec_pred3[:,0], histtype='step', bins=100)\n",
    "plt.hist(vec_pred5[:,0], histtype='step', bins=100)\n",
    "plt.hist(vec_pred9[:,0], histtype='step', bins=100)"
   ]
  },
  {
   "cell_type": "code",
   "execution_count": 171,
   "metadata": {},
   "outputs": [
    {
     "data": {
      "text/plain": [
       "(array([  3.,   4.,   7.,  14.,  41.,  71.,  92., 133., 188., 234., 350.,\n",
       "        414., 497., 576., 640., 774., 690., 720., 787., 736., 701., 638.,\n",
       "        673., 628., 637., 616., 562., 571., 565., 550., 505., 501., 519.,\n",
       "        482., 549., 505., 508., 502., 539., 508., 560., 500., 483., 503.,\n",
       "        529., 510., 503., 532., 536., 539., 518., 587., 540., 556., 557.,\n",
       "        526., 530., 516., 561., 545., 545., 590., 531., 539., 555., 563.,\n",
       "        632., 575., 566., 540., 600., 578., 586., 647., 687., 727., 766.,\n",
       "        792., 811., 846., 895., 890., 909., 872., 848., 792., 726., 631.,\n",
       "        518., 435., 316., 223., 161., 123.,  76.,  40.,  30.,  17.,   4.,\n",
       "          2.]),\n",
       " array([-1.42832613, -1.40067841, -1.37303069, -1.34538296, -1.31773524,\n",
       "        -1.29008752, -1.2624398 , -1.23479208, -1.20714436, -1.17949663,\n",
       "        -1.15184891, -1.12420119, -1.09655347, -1.06890575, -1.04125803,\n",
       "        -1.0136103 , -0.98596258, -0.95831486, -0.93066714, -0.90301942,\n",
       "        -0.87537169, -0.84772397, -0.82007625, -0.79242853, -0.76478081,\n",
       "        -0.73713309, -0.70948536, -0.68183764, -0.65418992, -0.6265422 ,\n",
       "        -0.59889448, -0.57124676, -0.54359903, -0.51595131, -0.48830359,\n",
       "        -0.46065587, -0.43300815, -0.40536042, -0.3777127 , -0.35006498,\n",
       "        -0.32241726, -0.29476954, -0.26712182, -0.23947409, -0.21182637,\n",
       "        -0.18417865, -0.15653093, -0.12888321, -0.10123549, -0.07358776,\n",
       "        -0.04594004, -0.01829232,  0.0093554 ,  0.03700312,  0.06465085,\n",
       "         0.09229857,  0.11994629,  0.14759401,  0.17524173,  0.20288945,\n",
       "         0.23053718,  0.2581849 ,  0.28583262,  0.31348034,  0.34112806,\n",
       "         0.36877578,  0.39642351,  0.42407123,  0.45171895,  0.47936667,\n",
       "         0.50701439,  0.53466212,  0.56230984,  0.58995756,  0.61760528,\n",
       "         0.645253  ,  0.67290072,  0.70054845,  0.72819617,  0.75584389,\n",
       "         0.78349161,  0.81113933,  0.83878706,  0.86643478,  0.8940825 ,\n",
       "         0.92173022,  0.94937794,  0.97702566,  1.00467339,  1.03232111,\n",
       "         1.05996883,  1.08761655,  1.11526427,  1.14291199,  1.17055972,\n",
       "         1.19820744,  1.22585516,  1.25350288,  1.2811506 ,  1.30879833,\n",
       "         1.33644605]),\n",
       " <a list of 1 Patch objects>)"
      ]
     },
     "execution_count": 171,
     "metadata": {},
     "output_type": "execute_result"
    },
    {
     "data": {
      "image/png": "[encoded data removed]",
      "text/plain": [
       "<Figure size 432x288 with 1 Axes>"
      ]
     },
     "metadata": {},
     "output_type": "display_data"
    }
   ],
   "source": [
    "plt.hist(np.arcsin(np.clip(vec_pred1[:,0],-1, 1)), histtype='step', bins=100)\n",
    "plt.hist(np.arcsin(np.clip(vec_pred5[:,0],-1, 1)), histtype='step', bins=100)\n",
    "plt.hist(np.arcsin(np.clip(vec_pred9[:,0],-1, 1)), histtype='step', bins=100)"
   ]
  },
  {
   "cell_type": "markdown",
   "metadata": {},
   "source": [
    "### Compare labels sin-cos"
   ]
  },
  {
   "cell_type": "code",
   "execution_count": 172,
   "metadata": {},
   "outputs": [
    {
     "data": {
      "text/plain": [
       "(array([5022., 2051., 1553., 1359., 1189., 1065., 1011.,  848.,  853.,\n",
       "         814.,  768.,  754.,  684.,  695.,  642.,  640.,  578.,  571.,\n",
       "         619.,  547.,  490.,  513.,  509.,  522.,  496.,  465.,  477.,\n",
       "         509.,  417.,  457.,  430.,  426.,  428.,  371.,  409.,  376.,\n",
       "         397.,  402.,  330.,  389.,  359.,  357.,  340.,  365.,  342.,\n",
       "         300.,  316.,  339.,  318.,  332.,  327.,  291.,  307.,  313.,\n",
       "         288.,  318.,  295.,  311.,  272.,  272.,  264.,  262.,  269.,\n",
       "         304.,  305.,  273.,  248.,  273.,  259.,  261.,  265.,  239.,\n",
       "         273.,  247.,  265.,  265.,  273.,  241.,  270.,  272.,  241.,\n",
       "         212.,  244.,  271.,  257.,  274.,  273.,  262.,  300.,  295.,\n",
       "         259.,  302.,  289.,  327.,  338.,  367.,  431.,  421.,  565.,\n",
       "        1351.]),\n",
       " array([-9.99999999e-01, -9.80000000e-01, -9.60000000e-01, -9.40000001e-01,\n",
       "        -9.20000001e-01, -9.00000002e-01, -8.80000002e-01, -8.60000002e-01,\n",
       "        -8.40000003e-01, -8.20000003e-01, -8.00000004e-01, -7.80000004e-01,\n",
       "        -7.60000005e-01, -7.40000005e-01, -7.20000005e-01, -7.00000006e-01,\n",
       "        -6.80000006e-01, -6.60000007e-01, -6.40000007e-01, -6.20000007e-01,\n",
       "        -6.00000008e-01, -5.80000008e-01, -5.60000009e-01, -5.40000009e-01,\n",
       "        -5.20000010e-01, -5.00000010e-01, -4.80000010e-01, -4.60000011e-01,\n",
       "        -4.40000011e-01, -4.20000012e-01, -4.00000012e-01, -3.80000012e-01,\n",
       "        -3.60000013e-01, -3.40000013e-01, -3.20000014e-01, -3.00000014e-01,\n",
       "        -2.80000015e-01, -2.60000015e-01, -2.40000015e-01, -2.20000016e-01,\n",
       "        -2.00000016e-01, -1.80000017e-01, -1.60000017e-01, -1.40000017e-01,\n",
       "        -1.20000018e-01, -1.00000018e-01, -8.00000187e-02, -6.00000191e-02,\n",
       "        -4.00000195e-02, -2.00000200e-02, -2.03714208e-08,  1.99999792e-02,\n",
       "         3.99999788e-02,  5.99999784e-02,  7.99999780e-02,  9.99999775e-02,\n",
       "         1.19999977e-01,  1.39999977e-01,  1.59999976e-01,  1.79999976e-01,\n",
       "         1.99999975e-01,  2.19999975e-01,  2.39999975e-01,  2.59999974e-01,\n",
       "         2.79999974e-01,  2.99999973e-01,  3.19999973e-01,  3.39999973e-01,\n",
       "         3.59999972e-01,  3.79999972e-01,  3.99999971e-01,  4.19999971e-01,\n",
       "         4.39999970e-01,  4.59999970e-01,  4.79999970e-01,  4.99999969e-01,\n",
       "         5.19999969e-01,  5.39999968e-01,  5.59999968e-01,  5.79999968e-01,\n",
       "         5.99999967e-01,  6.19999967e-01,  6.39999966e-01,  6.59999966e-01,\n",
       "         6.79999965e-01,  6.99999965e-01,  7.19999965e-01,  7.39999964e-01,\n",
       "         7.59999964e-01,  7.79999963e-01,  7.99999963e-01,  8.19999963e-01,\n",
       "         8.39999962e-01,  8.59999962e-01,  8.79999961e-01,  8.99999961e-01,\n",
       "         9.19999960e-01,  9.39999960e-01,  9.59999960e-01,  9.79999959e-01,\n",
       "         9.99999959e-01]),\n",
       " <a list of 1 Patch objects>)"
      ]
     },
     "execution_count": 172,
     "metadata": {},
     "output_type": "execute_result"
    },
    {
     "data": {
      "image/png": "[encoded data removed]",
      "text/plain": [
       "<Figure size 432x288 with 1 Axes>"
      ]
     },
     "metadata": {},
     "output_type": "display_data"
    }
   ],
   "source": [
    "plt.hist(np.cos(vec_labels1), histtype='step', bins=100)\n",
    "#plt.hist(np.cos(vec_labels3), histtype='step', bins=100)\n",
    "plt.hist(np.cos(vec_labels5), histtype='step', bins=100)\n",
    "#plt.hist(np.cos(vec_labels7), histtype='step', bins=100)\n",
    "plt.hist(np.cos(vec_labels9), histtype='step', bins=100)\n"
   ]
  },
  {
   "cell_type": "code",
   "execution_count": 111,
   "metadata": {},
   "outputs": [
    {
     "data": {
      "text/plain": [
       "(array([766., 797., 806., 795., 769., 801., 786., 723., 762., 717., 763.,\n",
       "        756., 818., 759., 728., 791., 763., 687., 714., 774., 740., 704.,\n",
       "        722., 745., 729., 729., 705., 675., 728., 663., 642., 673., 712.,\n",
       "        623., 659., 656., 586., 630., 561., 581., 591., 560., 526., 581.,\n",
       "        554., 559., 523., 494., 476., 520., 498., 467., 458., 459., 453.,\n",
       "        431., 434., 427., 460., 449., 370., 385., 392., 378., 361., 380.,\n",
       "        365., 348., 365., 315., 337., 320., 316., 293., 322., 302., 314.,\n",
       "        253., 288., 249., 278., 230., 265., 249., 233., 254., 237., 240.,\n",
       "        194., 227., 240., 221., 225., 214., 219., 211., 179., 225., 204.,\n",
       "        201.]),\n",
       " array([1.92966021e-04, 3.16047199e-02, 6.30164738e-02, 9.44282277e-02,\n",
       "        1.25839982e-01, 1.57251735e-01, 1.88663489e-01, 2.20075243e-01,\n",
       "        2.51486997e-01, 2.82898751e-01, 3.14310505e-01, 3.45722259e-01,\n",
       "        3.77134013e-01, 4.08545767e-01, 4.39957521e-01, 4.71369274e-01,\n",
       "        5.02781028e-01, 5.34192782e-01, 5.65604536e-01, 5.97016290e-01,\n",
       "        6.28428044e-01, 6.59839798e-01, 6.91251552e-01, 7.22663306e-01,\n",
       "        7.54075060e-01, 7.85486813e-01, 8.16898567e-01, 8.48310321e-01,\n",
       "        8.79722075e-01, 9.11133829e-01, 9.42545583e-01, 9.73957337e-01,\n",
       "        1.00536909e+00, 1.03678084e+00, 1.06819260e+00, 1.09960435e+00,\n",
       "        1.13101611e+00, 1.16242786e+00, 1.19383961e+00, 1.22525137e+00,\n",
       "        1.25666312e+00, 1.28807488e+00, 1.31948663e+00, 1.35089838e+00,\n",
       "        1.38231014e+00, 1.41372189e+00, 1.44513365e+00, 1.47654540e+00,\n",
       "        1.50795715e+00, 1.53936891e+00, 1.57078066e+00, 1.60219241e+00,\n",
       "        1.63360417e+00, 1.66501592e+00, 1.69642768e+00, 1.72783943e+00,\n",
       "        1.75925118e+00, 1.79066294e+00, 1.82207469e+00, 1.85348645e+00,\n",
       "        1.88489820e+00, 1.91630995e+00, 1.94772171e+00, 1.97913346e+00,\n",
       "        2.01054522e+00, 2.04195697e+00, 2.07336872e+00, 2.10478048e+00,\n",
       "        2.13619223e+00, 2.16760398e+00, 2.19901574e+00, 2.23042749e+00,\n",
       "        2.26183925e+00, 2.29325100e+00, 2.32466275e+00, 2.35607451e+00,\n",
       "        2.38748626e+00, 2.41889802e+00, 2.45030977e+00, 2.48172152e+00,\n",
       "        2.51313328e+00, 2.54454503e+00, 2.57595679e+00, 2.60736854e+00,\n",
       "        2.63878029e+00, 2.67019205e+00, 2.70160380e+00, 2.73301555e+00,\n",
       "        2.76442731e+00, 2.79583906e+00, 2.82725082e+00, 2.85866257e+00,\n",
       "        2.89007432e+00, 2.92148608e+00, 2.95289783e+00, 2.98430959e+00,\n",
       "        3.01572134e+00, 3.04713309e+00, 3.07854485e+00, 3.10995660e+00,\n",
       "        3.14136836e+00]),\n",
       " <a list of 1 Patch objects>)"
      ]
     },
     "execution_count": 111,
     "metadata": {},
     "output_type": "execute_result"
    },
    {
     "data": {
      "image/png": "[encoded data removed]",
      "text/plain": [
       "<Figure size 432x288 with 1 Axes>"
      ]
     },
     "metadata": {},
     "output_type": "display_data"
    }
   ],
   "source": [
    "plt.hist(np.arccos(np.cos(vec_labels1)), histtype='step', bins=100)\n",
    "plt.hist(np.arccos(np.cos(vec_labels3)), histtype='step', bins=100)\n",
    "plt.hist(np.arccos(np.cos(vec_labels5)), histtype='step', bins=100)\n",
    "plt.hist(np.arccos(np.cos(vec_labels7)), histtype='step', bins=100)\n",
    "plt.hist(np.arccos(np.cos(vec_labels9)), histtype='step', bins=100)"
   ]
  },
  {
   "cell_type": "code",
   "execution_count": 47,
   "metadata": {},
   "outputs": [
    {
     "data": {
      "text/plain": [
       "(array([20334.,  9198.,  7401.,  6657.,  6381.,  6304.,  6735.,  7349.,\n",
       "         9182., 20459.]),\n",
       " array([-9.99999999e-01, -8.00000000e-01, -6.00000000e-01, -4.00000001e-01,\n",
       "        -2.00000001e-01, -1.95558203e-09,  1.99999998e-01,  3.99999997e-01,\n",
       "         5.99999997e-01,  7.99999996e-01,  9.99999996e-01]),\n",
       " <a list of 1 Patch objects>)"
      ]
     },
     "execution_count": 47,
     "metadata": {},
     "output_type": "execute_result"
    },
    {
     "data": {
      "image/png": "[encoded data removed]",
      "text/plain": [
       "<Figure size 432x288 with 1 Axes>"
      ]
     },
     "metadata": {},
     "output_type": "display_data"
    }
   ],
   "source": [
    "plt.hist(np.cos(vec_labels), histtype='step')"
   ]
  },
  {
   "cell_type": "code",
   "execution_count": 125,
   "metadata": {},
   "outputs": [
    {
     "data": {
      "text/plain": [
       "(array([2557., 1055.,  826.,  710.,  587.,  617.,  535.,  520.,  468.,\n",
       "         437.,  441.,  437.,  399.,  407.,  452.,  389.,  428.,  395.,\n",
       "         369.,  365.,  333.,  362.,  358.,  304.,  325.,  321.,  312.,\n",
       "         287.,  339.,  307.,  317.,  343.,  325.,  312.,  326.,  277.,\n",
       "         297.,  304.,  306.,  311.,  305.,  324.,  306.,  303.,  335.,\n",
       "         318.,  322.,  302.,  292.,  318.,  311.,  310.,  338.,  323.,\n",
       "         318.,  314.,  341.,  312.,  306.,  332.,  333.,  338.,  341.,\n",
       "         358.,  327.,  349.,  351.,  358.,  360.,  409.,  373.,  392.,\n",
       "         387.,  396.,  387.,  378.,  400.,  414.,  433.,  437.,  459.,\n",
       "         496.,  465.,  490.,  488.,  550.,  522.,  539.,  590.,  592.,\n",
       "         610.,  676.,  711.,  745.,  895.,  884., 1074., 1176., 1562.,\n",
       "        3704.]),\n",
       " array([-9.99999999e-01, -9.79999999e-01, -9.60000000e-01, -9.40000000e-01,\n",
       "        -9.20000000e-01, -9.00000000e-01, -8.80000000e-01, -8.60000000e-01,\n",
       "        -8.40000000e-01, -8.20000000e-01, -8.00000000e-01, -7.80000000e-01,\n",
       "        -7.60000000e-01, -7.40000000e-01, -7.20000000e-01, -7.00000000e-01,\n",
       "        -6.80000000e-01, -6.60000001e-01, -6.40000001e-01, -6.20000001e-01,\n",
       "        -6.00000001e-01, -5.80000001e-01, -5.60000001e-01, -5.40000001e-01,\n",
       "        -5.20000001e-01, -5.00000001e-01, -4.80000001e-01, -4.60000001e-01,\n",
       "        -4.40000001e-01, -4.20000001e-01, -4.00000001e-01, -3.80000001e-01,\n",
       "        -3.60000002e-01, -3.40000002e-01, -3.20000002e-01, -3.00000002e-01,\n",
       "        -2.80000002e-01, -2.60000002e-01, -2.40000002e-01, -2.20000002e-01,\n",
       "        -2.00000002e-01, -1.80000002e-01, -1.60000002e-01, -1.40000002e-01,\n",
       "        -1.20000002e-01, -1.00000002e-01, -8.00000025e-02, -6.00000026e-02,\n",
       "        -4.00000027e-02, -2.00000027e-02, -2.78855605e-09,  1.99999971e-02,\n",
       "         3.99999971e-02,  5.99999970e-02,  7.99999969e-02,  9.99999969e-02,\n",
       "         1.19999997e-01,  1.39999997e-01,  1.59999997e-01,  1.79999997e-01,\n",
       "         1.99999997e-01,  2.19999996e-01,  2.39999996e-01,  2.59999996e-01,\n",
       "         2.79999996e-01,  2.99999996e-01,  3.19999996e-01,  3.39999996e-01,\n",
       "         3.59999996e-01,  3.79999996e-01,  3.99999996e-01,  4.19999996e-01,\n",
       "         4.39999996e-01,  4.59999996e-01,  4.79999996e-01,  4.99999996e-01,\n",
       "         5.19999995e-01,  5.39999995e-01,  5.59999995e-01,  5.79999995e-01,\n",
       "         5.99999995e-01,  6.19999995e-01,  6.39999995e-01,  6.59999995e-01,\n",
       "         6.79999995e-01,  6.99999995e-01,  7.19999995e-01,  7.39999995e-01,\n",
       "         7.59999995e-01,  7.79999995e-01,  7.99999994e-01,  8.19999994e-01,\n",
       "         8.39999994e-01,  8.59999994e-01,  8.79999994e-01,  8.99999994e-01,\n",
       "         9.19999994e-01,  9.39999994e-01,  9.59999994e-01,  9.79999994e-01,\n",
       "         9.99999994e-01]),\n",
       " <a list of 1 Patch objects>)"
      ]
     },
     "execution_count": 125,
     "metadata": {},
     "output_type": "execute_result"
    },
    {
     "data": {
      "image/png": "[encoded data removed]",
      "text/plain": [
       "<Figure size 432x288 with 1 Axes>"
      ]
     },
     "metadata": {},
     "output_type": "display_data"
    }
   ],
   "source": [
    "plt.hist(np.sin(vec_labels1), histtype='step', bins=100)\n",
    "#plt.hist(np.sin(vec_labels3), histtype='step', bins=100)\n",
    "plt.hist(np.sin(vec_labels5), histtype='step', bins=100)\n",
    "#plt.hist(np.sin(vec_labels7), histtype='step', bins=100)\n",
    "plt.hist(np.sin(vec_labels9), histtype='step', bins=100)"
   ]
  },
  {
   "cell_type": "code",
   "execution_count": 49,
   "metadata": {},
   "outputs": [
    {
     "data": {
      "text/plain": [
       "(array([20430.,  9253.,  7266.,  6729.,  6379.,  6366.,  6653.,  7400.,\n",
       "         9127., 20397.]),\n",
       " array([-9.99999999e-01, -7.99999999e-01, -6.00000000e-01, -4.00000000e-01,\n",
       "        -2.00000000e-01,  3.00935499e-10,  2.00000000e-01,  4.00000000e-01,\n",
       "         6.00000000e-01,  8.00000000e-01,  1.00000000e+00]),\n",
       " <a list of 1 Patch objects>)"
      ]
     },
     "execution_count": 49,
     "metadata": {},
     "output_type": "execute_result"
    },
    {
     "data": {
      "image/png": "[encoded data removed]",
      "text/plain": [
       "<Figure size 432x288 with 1 Axes>"
      ]
     },
     "metadata": {},
     "output_type": "display_data"
    }
   ],
   "source": [
    "plt.hist(np.sin(vec_labels), histtype='step')\n"
   ]
  },
  {
   "cell_type": "code",
   "execution_count": null,
   "metadata": {},
   "outputs": [],
   "source": []
  },
  {
   "cell_type": "markdown",
   "metadata": {},
   "source": [
    "### Compare preds sin-cos\n",
    "\n"
   ]
  },
  {
   "cell_type": "code",
   "execution_count": 50,
   "metadata": {},
   "outputs": [
    {
     "data": {
      "text/plain": [
       "(array([3722., 6119., 5245., 4650., 4312., 4448., 4767., 5193., 6542.,\n",
       "        5171.]),\n",
       " array([-0.84147096, -0.67317677, -0.50488257, -0.33658838, -0.16829419,\n",
       "         0.        ,  0.16829419,  0.33658838,  0.50488257,  0.67317677,\n",
       "         0.84147096]),\n",
       " <a list of 1 Patch objects>)"
      ]
     },
     "execution_count": 50,
     "metadata": {},
     "output_type": "execute_result"
    },
    {
     "data": {
      "image/png": "[encoded data removed]",
      "text/plain": [
       "<Figure size 432x288 with 1 Axes>"
      ]
     },
     "metadata": {},
     "output_type": "display_data"
    }
   ],
   "source": [
    "plt.hist(np.sin(vec_pred3[:,0]), histtype='step')\n",
    "plt.hist(np.sin(vec_pred10[:,0]), histtype='step')"
   ]
  },
  {
   "cell_type": "code",
   "execution_count": 51,
   "metadata": {},
   "outputs": [
    {
     "data": {
      "text/plain": [
       "(array([ 7526., 13942., 10260.,  8039.,  7016.,  6730.,  7295.,  8949.,\n",
       "        12778., 17465.]),\n",
       " array([-0.84147096, -0.67317677, -0.50488257, -0.33658838, -0.16829419,\n",
       "         0.        ,  0.16829419,  0.33658838,  0.50488257,  0.67317677,\n",
       "         0.84147096]),\n",
       " <a list of 1 Patch objects>)"
      ]
     },
     "execution_count": 51,
     "metadata": {},
     "output_type": "execute_result"
    },
    {
     "data": {
      "image/png": "[encoded data removed]",
      "text/plain": [
       "<Figure size 432x288 with 1 Axes>"
      ]
     },
     "metadata": {},
     "output_type": "display_data"
    }
   ],
   "source": [
    "plt.hist(np.sin(vec_pred[:,0]), histtype='step')"
   ]
  },
  {
   "cell_type": "code",
   "execution_count": 52,
   "metadata": {},
   "outputs": [
    {
     "data": {
      "text/plain": [
       "(array([ 1920.,  1412.,  2143.,  2973.,  3785.,  4539.,  4898.,  5691.,\n",
       "         7020., 15788.]),\n",
       " array([0.54030228, 0.58627205, 0.63224182, 0.67821159, 0.72418137,\n",
       "        0.77015114, 0.81612091, 0.86209068, 0.90806046, 0.95403023,\n",
       "        1.        ]),\n",
       " <a list of 1 Patch objects>)"
      ]
     },
     "execution_count": 52,
     "metadata": {},
     "output_type": "execute_result"
    },
    {
     "data": {
      "image/png": "[encoded data removed]",
      "text/plain": [
       "<Figure size 432x288 with 1 Axes>"
      ]
     },
     "metadata": {},
     "output_type": "display_data"
    }
   ],
   "source": [
    "plt.hist(np.cos(vec_pred3[:,1]), histtype='step')\n",
    "plt.hist(np.cos(vec_pred10[:,1]), histtype='step')"
   ]
  },
  {
   "cell_type": "code",
   "execution_count": 53,
   "metadata": {},
   "outputs": [
    {
     "data": {
      "text/plain": [
       "(array([ 3269.,  4084.,  6684.,  8949.,  9951., 10086.,  9809.,  9979.,\n",
       "        11611., 25578.]),\n",
       " array([0.54030228, 0.58627205, 0.63224182, 0.67821159, 0.72418137,\n",
       "        0.77015114, 0.81612091, 0.86209068, 0.90806046, 0.95403023,\n",
       "        1.        ]),\n",
       " <a list of 1 Patch objects>)"
      ]
     },
     "execution_count": 53,
     "metadata": {},
     "output_type": "execute_result"
    },
    {
     "data": {
      "image/png": "[encoded data removed]",
      "text/plain": [
       "<Figure size 432x288 with 1 Axes>"
      ]
     },
     "metadata": {},
     "output_type": "display_data"
    }
   ],
   "source": [
    "plt.hist(np.cos(vec_pred[:,1]), histtype='step')"
   ]
  },
  {
   "cell_type": "code",
   "execution_count": null,
   "metadata": {},
   "outputs": [],
   "source": [
    "\n"
   ]
  },
  {
   "cell_type": "code",
   "execution_count": null,
   "metadata": {},
   "outputs": [],
   "source": []
  },
  {
   "cell_type": "code",
   "execution_count": null,
   "metadata": {},
   "outputs": [],
   "source": [
    "\n"
   ]
  },
  {
   "cell_type": "markdown",
   "metadata": {},
   "source": [
    "# Check weights"
   ]
  },
  {
   "cell_type": "code",
   "execution_count": 27,
   "metadata": {},
   "outputs": [],
   "source": [
    "aco =np.load('../results/acoplanar.npy')"
   ]
  },
  {
   "cell_type": "code",
   "execution_count": 28,
   "metadata": {},
   "outputs": [
    {
     "data": {
      "text/plain": [
       "(array([10039., 10003.,  9885.,  9862.,  9742., 10014.,  9903.,  9908.,\n",
       "        10076., 10128.,  9918.,  9950., 10102., 10045., 10033.,  9927.,\n",
       "         9950., 10049., 10007.,  9900., 10225.,  9932., 10132., 10021.,\n",
       "        10240.,  9859.,  9955.,  9801., 10073.,  9986.,  9985.,  9885.,\n",
       "        10009., 10043.,  9803., 10108., 10043., 10031., 10101., 10049.,\n",
       "         9900., 10023.,  9990., 10013.,  9975., 10009., 10057.,  9973.,\n",
       "         9770., 10051., 10117., 10039.,  9923., 10072.,  9942.,  9898.,\n",
       "        10115.,  9914., 10020., 10067., 10079., 10164., 10094.,  9866.,\n",
       "         9896., 10129., 10095.,  9928.,  9937.,  9964.,  9912., 10088.,\n",
       "        10106., 10163.,  9876., 10051., 10022., 10005., 10148., 10205.,\n",
       "         9970.,  9831.,  9980.,  9896.,  9880.,  9997., 10049.,  9878.,\n",
       "        10115., 10124., 10146., 10221., 10137., 10054.,  9867.,  9836.,\n",
       "         9863.,  9985., 10059.,  9794.]),\n",
       " array([9.50409098e-07, 6.28327845e-02, 1.25664619e-01, 1.88496453e-01,\n",
       "        2.51328287e-01, 3.14160121e-01, 3.76991955e-01, 4.39823789e-01,\n",
       "        5.02655623e-01, 5.65487457e-01, 6.28319291e-01, 6.91151125e-01,\n",
       "        7.53982959e-01, 8.16814793e-01, 8.79646627e-01, 9.42478461e-01,\n",
       "        1.00531030e+00, 1.06814213e+00, 1.13097396e+00, 1.19380580e+00,\n",
       "        1.25663763e+00, 1.31946947e+00, 1.38230130e+00, 1.44513313e+00,\n",
       "        1.50796497e+00, 1.57079680e+00, 1.63362864e+00, 1.69646047e+00,\n",
       "        1.75929230e+00, 1.82212414e+00, 1.88495597e+00, 1.94778781e+00,\n",
       "        2.01061964e+00, 2.07345147e+00, 2.13628331e+00, 2.19911514e+00,\n",
       "        2.26194698e+00, 2.32477881e+00, 2.38761064e+00, 2.45044248e+00,\n",
       "        2.51327431e+00, 2.57610615e+00, 2.63893798e+00, 2.70176981e+00,\n",
       "        2.76460165e+00, 2.82743348e+00, 2.89026532e+00, 2.95309715e+00,\n",
       "        3.01592898e+00, 3.07876082e+00, 3.14159265e+00, 3.20442449e+00,\n",
       "        3.26725632e+00, 3.33008815e+00, 3.39291999e+00, 3.45575182e+00,\n",
       "        3.51858366e+00, 3.58141549e+00, 3.64424733e+00, 3.70707916e+00,\n",
       "        3.76991099e+00, 3.83274283e+00, 3.89557466e+00, 3.95840650e+00,\n",
       "        4.02123833e+00, 4.08407016e+00, 4.14690200e+00, 4.20973383e+00,\n",
       "        4.27256567e+00, 4.33539750e+00, 4.39822933e+00, 4.46106117e+00,\n",
       "        4.52389300e+00, 4.58672484e+00, 4.64955667e+00, 4.71238850e+00,\n",
       "        4.77522034e+00, 4.83805217e+00, 4.90088401e+00, 4.96371584e+00,\n",
       "        5.02654767e+00, 5.08937951e+00, 5.15221134e+00, 5.21504318e+00,\n",
       "        5.27787501e+00, 5.34070684e+00, 5.40353868e+00, 5.46637051e+00,\n",
       "        5.52920235e+00, 5.59203418e+00, 5.65486601e+00, 5.71769785e+00,\n",
       "        5.78052968e+00, 5.84336152e+00, 5.90619335e+00, 5.96902518e+00,\n",
       "        6.03185702e+00, 6.09468885e+00, 6.15752069e+00, 6.22035252e+00,\n",
       "        6.28318436e+00]),\n",
       " <a list of 100 Patch objects>)"
      ]
     },
     "execution_count": 28,
     "metadata": {},
     "output_type": "execute_result"
    },
    {
     "data": {
      "image/png": "[encoded data removed]",
      "text/plain": [
       "<Figure size 432x288 with 1 Axes>"
      ]
     },
     "metadata": {},
     "output_type": "display_data"
    }
   ],
   "source": [
    "plt.hist(aco, bins=100)"
   ]
  },
  {
   "cell_type": "code",
   "execution_count": 30,
   "metadata": {},
   "outputs": [],
   "source": [
    "w = np.load('../data/weigths.npy')"
   ]
  },
  {
   "cell_type": "code",
   "execution_count": 33,
   "metadata": {},
   "outputs": [],
   "source": [
    "y1 = np.load('../results/y1.npy')\n",
    "y2 = np.load('../results/y2.npy')"
   ]
  },
  {
   "cell_type": "code",
   "execution_count": 34,
   "metadata": {},
   "outputs": [],
   "source": [
    "wi = w[:,3]"
   ]
  },
  {
   "cell_type": "code",
   "execution_count": 35,
   "metadata": {},
   "outputs": [],
   "source": [
    "wj = w[:,8]"
   ]
  },
  {
   "cell_type": "code",
   "execution_count": 39,
   "metadata": {},
   "outputs": [],
   "source": [
    "def unweight(x):\n",
    "    return 0 if x < random.random() * 2 else 1"
   ]
  },
  {
   "cell_type": "code",
   "execution_count": 40,
   "metadata": {},
   "outputs": [],
   "source": [
    "mask = np.array(list(map(unweight, wi)))\n",
    "mask = mask > 0"
   ]
  },
  {
   "cell_type": "code",
   "execution_count": 42,
   "metadata": {},
   "outputs": [
    {
     "data": {
      "text/plain": [
       "(array([5161., 4930., 4935., 4933., 4877., 4975., 5007., 4903., 5001.,\n",
       "        4998., 4875., 4937., 5022., 5014., 5071., 4901., 5030., 5039.,\n",
       "        4967., 4992., 5071., 4939., 5061., 5067., 5176., 4938., 4999.,\n",
       "        4929., 5053., 5038., 5039., 4966., 5000., 5115., 4854., 5057.,\n",
       "        4981., 5102., 5082., 5030., 5014., 5014., 4931., 5024., 4913.,\n",
       "        5023., 4927., 5001., 4897., 5036., 5027., 5037., 4892., 5056.,\n",
       "        5026., 4984., 5116., 4971., 5027., 5016., 5076., 5097., 5023.,\n",
       "        4983., 5008., 5070., 5089., 4996., 4994., 5001., 5073., 5015.,\n",
       "        5100., 5124., 4973., 4989., 5032., 5054., 5152., 5151., 4959.,\n",
       "        4960., 4972., 5029., 4903., 5038., 4987., 4963., 4972., 5125.,\n",
       "        5063., 5122., 5041., 5092., 4924., 4910., 4943., 4985., 5031.,\n",
       "        4807.]),\n",
       " array([9.50409098e-07, 6.28327348e-02, 1.25664519e-01, 1.88496304e-01,\n",
       "        2.51328088e-01, 3.14159872e-01, 3.76991657e-01, 4.39823441e-01,\n",
       "        5.02655226e-01, 5.65487010e-01, 6.28318794e-01, 6.91150579e-01,\n",
       "        7.53982363e-01, 8.16814148e-01, 8.79645932e-01, 9.42477716e-01,\n",
       "        1.00530950e+00, 1.06814129e+00, 1.13097307e+00, 1.19380485e+00,\n",
       "        1.25663664e+00, 1.31946842e+00, 1.38230021e+00, 1.44513199e+00,\n",
       "        1.50796378e+00, 1.57079556e+00, 1.63362734e+00, 1.69645913e+00,\n",
       "        1.75929091e+00, 1.82212270e+00, 1.88495448e+00, 1.94778627e+00,\n",
       "        2.01061805e+00, 2.07344984e+00, 2.13628162e+00, 2.19911340e+00,\n",
       "        2.26194519e+00, 2.32477697e+00, 2.38760876e+00, 2.45044054e+00,\n",
       "        2.51327233e+00, 2.57610411e+00, 2.63893589e+00, 2.70176768e+00,\n",
       "        2.76459946e+00, 2.82743125e+00, 2.89026303e+00, 2.95309482e+00,\n",
       "        3.01592660e+00, 3.07875839e+00, 3.14159017e+00, 3.20442195e+00,\n",
       "        3.26725374e+00, 3.33008552e+00, 3.39291731e+00, 3.45574909e+00,\n",
       "        3.51858088e+00, 3.58141266e+00, 3.64424445e+00, 3.70707623e+00,\n",
       "        3.76990801e+00, 3.83273980e+00, 3.89557158e+00, 3.95840337e+00,\n",
       "        4.02123515e+00, 4.08406694e+00, 4.14689872e+00, 4.20973050e+00,\n",
       "        4.27256229e+00, 4.33539407e+00, 4.39822586e+00, 4.46105764e+00,\n",
       "        4.52388943e+00, 4.58672121e+00, 4.64955300e+00, 4.71238478e+00,\n",
       "        4.77521656e+00, 4.83804835e+00, 4.90088013e+00, 4.96371192e+00,\n",
       "        5.02654370e+00, 5.08937549e+00, 5.15220727e+00, 5.21503905e+00,\n",
       "        5.27787084e+00, 5.34070262e+00, 5.40353441e+00, 5.46636619e+00,\n",
       "        5.52919798e+00, 5.59202976e+00, 5.65486155e+00, 5.71769333e+00,\n",
       "        5.78052511e+00, 5.84335690e+00, 5.90618868e+00, 5.96902047e+00,\n",
       "        6.03185225e+00, 6.09468404e+00, 6.15751582e+00, 6.22034761e+00,\n",
       "        6.28317939e+00]),\n",
       " <a list of 100 Patch objects>)"
      ]
     },
     "execution_count": 42,
     "metadata": {},
     "output_type": "execute_result"
    },
    {
     "data": {
      "image/png": "[encoded data removed]",
      "text/plain": [
       "<Figure size 432x288 with 1 Axes>"
      ]
     },
     "metadata": {},
     "output_type": "display_data"
    }
   ],
   "source": [
    "plt.hist(aco[mask], bins=100)"
   ]
  },
  {
   "cell_type": "code",
   "execution_count": 43,
   "metadata": {},
   "outputs": [
    {
     "data": {
      "text/plain": [
       "(500823,)"
      ]
     },
     "execution_count": 43,
     "metadata": {},
     "output_type": "execute_result"
    }
   ],
   "source": [
    "aco[mask].shape"
   ]
  },
  {
   "cell_type": "code",
   "execution_count": 44,
   "metadata": {},
   "outputs": [],
   "source": [
    "m = np.logical_and((y1*y2)>0, mask)\n"
   ]
  },
  {
   "cell_type": "code",
   "execution_count": 45,
   "metadata": {},
   "outputs": [
    {
     "data": {
      "text/plain": [
       "(array([2942., 2683., 2715., 2638., 2588., 2640., 2587., 2548., 2573.,\n",
       "        2513., 2417., 2451., 2472., 2370., 2394., 2188., 2362., 2292.,\n",
       "        2178., 2159., 2142., 2107., 2175., 2150., 2194., 1996., 2038.,\n",
       "        2005., 2039., 1973., 1988., 1971., 2011., 2071., 1916., 1950.,\n",
       "        1956., 1994., 1997., 2006., 1980., 1967., 2011., 1964., 2060.,\n",
       "        2082., 2030., 2174., 2113., 2174., 2198., 2227., 2202., 2278.,\n",
       "        2263., 2278., 2440., 2367., 2496., 2550., 2512., 2578., 2566.,\n",
       "        2610., 2649., 2753., 2779., 2787., 2724., 2827., 2830., 2854.,\n",
       "        2961., 2961., 2902., 2935., 3017., 3068., 3170., 3111., 3049.,\n",
       "        3020., 3030., 3090., 3006., 3003., 3036., 3043., 3010., 3134.,\n",
       "        2973., 3124., 3070., 3020., 2936., 2864., 2860., 2864., 2923.,\n",
       "        2707.]),\n",
       " array([9.50409098e-07, 6.28323553e-02, 1.25663760e-01, 1.88495165e-01,\n",
       "        2.51326570e-01, 3.14157975e-01, 3.76989380e-01, 4.39820785e-01,\n",
       "        5.02652190e-01, 5.65483595e-01, 6.28315000e-01, 6.91146405e-01,\n",
       "        7.53977809e-01, 8.16809214e-01, 8.79640619e-01, 9.42472024e-01,\n",
       "        1.00530343e+00, 1.06813483e+00, 1.13096624e+00, 1.19379764e+00,\n",
       "        1.25662905e+00, 1.31946045e+00, 1.38229186e+00, 1.44512326e+00,\n",
       "        1.50795467e+00, 1.57078607e+00, 1.63361748e+00, 1.69644888e+00,\n",
       "        1.75928029e+00, 1.82211169e+00, 1.88494310e+00, 1.94777450e+00,\n",
       "        2.01060591e+00, 2.07343731e+00, 2.13626872e+00, 2.19910012e+00,\n",
       "        2.26193153e+00, 2.32476293e+00, 2.38759434e+00, 2.45042574e+00,\n",
       "        2.51325715e+00, 2.57608855e+00, 2.63891996e+00, 2.70175136e+00,\n",
       "        2.76458277e+00, 2.82741417e+00, 2.89024558e+00, 2.95307698e+00,\n",
       "        3.01590839e+00, 3.07873979e+00, 3.14157120e+00, 3.20440260e+00,\n",
       "        3.26723401e+00, 3.33006541e+00, 3.39289682e+00, 3.45572822e+00,\n",
       "        3.51855963e+00, 3.58139103e+00, 3.64422244e+00, 3.70705384e+00,\n",
       "        3.76988525e+00, 3.83271665e+00, 3.89554806e+00, 3.95837946e+00,\n",
       "        4.02121087e+00, 4.08404227e+00, 4.14687368e+00, 4.20970508e+00,\n",
       "        4.27253649e+00, 4.33536789e+00, 4.39819930e+00, 4.46103070e+00,\n",
       "        4.52386210e+00, 4.58669351e+00, 4.64952491e+00, 4.71235632e+00,\n",
       "        4.77518772e+00, 4.83801913e+00, 4.90085053e+00, 4.96368194e+00,\n",
       "        5.02651334e+00, 5.08934475e+00, 5.15217615e+00, 5.21500756e+00,\n",
       "        5.27783896e+00, 5.34067037e+00, 5.40350177e+00, 5.46633318e+00,\n",
       "        5.52916458e+00, 5.59199599e+00, 5.65482739e+00, 5.71765880e+00,\n",
       "        5.78049020e+00, 5.84332161e+00, 5.90615301e+00, 5.96898442e+00,\n",
       "        6.03181582e+00, 6.09464723e+00, 6.15747863e+00, 6.22031004e+00,\n",
       "        6.28314144e+00]),\n",
       " <a list of 100 Patch objects>)"
      ]
     },
     "execution_count": 45,
     "metadata": {},
     "output_type": "execute_result"
    },
    {
     "data": {
      "image/png": "[encoded data removed]",
      "text/plain": [
       "<Figure size 432x288 with 1 Axes>"
      ]
     },
     "metadata": {},
     "output_type": "display_data"
    }
   ],
   "source": [
    "plt.hist(aco[m], bins=100)"
   ]
  },
  {
   "cell_type": "code",
   "execution_count": null,
   "metadata": {},
   "outputs": [],
   "source": []
  },
  {
   "cell_type": "code",
   "execution_count": 46,
   "metadata": {},
   "outputs": [],
   "source": [
    "mask = np.array(list(map(unweight, wj)))\n",
    "mask = mask > 0"
   ]
  },
  {
   "cell_type": "code",
   "execution_count": 47,
   "metadata": {},
   "outputs": [],
   "source": [
    "m = np.logical_and((y1*y2)>0, mask)\n",
    "\n"
   ]
  },
  {
   "cell_type": "code",
   "execution_count": 48,
   "metadata": {},
   "outputs": [
    {
     "data": {
      "text/plain": [
       "(array([2076., 1993., 2018., 1983., 1883., 2009., 1957., 1903., 1950.,\n",
       "        1951., 1920., 1965., 2027., 1957., 1936., 1921., 2087., 2083.,\n",
       "        1921., 2050., 2043., 2004., 2132., 2125., 2329., 2110., 2206.,\n",
       "        2303., 2322., 2314., 2280., 2355., 2415., 2518., 2471., 2522.,\n",
       "        2584., 2615., 2687., 2770., 2664., 2698., 2757., 2740., 2792.,\n",
       "        2863., 2950., 2944., 2802., 2977., 3015., 2909., 2938., 3020.,\n",
       "        2923., 3021., 3074., 3054., 3101., 3128., 3130., 3044., 3025.,\n",
       "        2971., 3005., 3126., 3082., 3046., 2874., 2945., 2949., 2941.,\n",
       "        2900., 2920., 2820., 2824., 2755., 2755., 2859., 2758., 2669.,\n",
       "        2557., 2577., 2568., 2468., 2456., 2395., 2370., 2433., 2388.,\n",
       "        2270., 2326., 2346., 2236., 2224., 2122., 2103., 2041., 2086.,\n",
       "        1984.]),\n",
       " array([8.05561791e-06, 6.28398186e-02, 1.25671582e-01, 1.88503345e-01,\n",
       "        2.51335108e-01, 3.14166871e-01, 3.76998634e-01, 4.39830397e-01,\n",
       "        5.02662160e-01, 5.65493923e-01, 6.28325686e-01, 6.91157449e-01,\n",
       "        7.53989212e-01, 8.16820975e-01, 8.79652738e-01, 9.42484501e-01,\n",
       "        1.00531626e+00, 1.06814803e+00, 1.13097979e+00, 1.19381155e+00,\n",
       "        1.25664332e+00, 1.31947508e+00, 1.38230684e+00, 1.44513860e+00,\n",
       "        1.50797037e+00, 1.57080213e+00, 1.63363389e+00, 1.69646566e+00,\n",
       "        1.75929742e+00, 1.82212918e+00, 1.88496095e+00, 1.94779271e+00,\n",
       "        2.01062447e+00, 2.07345623e+00, 2.13628800e+00, 2.19911976e+00,\n",
       "        2.26195152e+00, 2.32478329e+00, 2.38761505e+00, 2.45044681e+00,\n",
       "        2.51327858e+00, 2.57611034e+00, 2.63894210e+00, 2.70177386e+00,\n",
       "        2.76460563e+00, 2.82743739e+00, 2.89026915e+00, 2.95310092e+00,\n",
       "        3.01593268e+00, 3.07876444e+00, 3.14159621e+00, 3.20442797e+00,\n",
       "        3.26725973e+00, 3.33009149e+00, 3.39292326e+00, 3.45575502e+00,\n",
       "        3.51858678e+00, 3.58141855e+00, 3.64425031e+00, 3.70708207e+00,\n",
       "        3.76991384e+00, 3.83274560e+00, 3.89557736e+00, 3.95840912e+00,\n",
       "        4.02124089e+00, 4.08407265e+00, 4.14690441e+00, 4.20973618e+00,\n",
       "        4.27256794e+00, 4.33539970e+00, 4.39823147e+00, 4.46106323e+00,\n",
       "        4.52389499e+00, 4.58672675e+00, 4.64955852e+00, 4.71239028e+00,\n",
       "        4.77522204e+00, 4.83805381e+00, 4.90088557e+00, 4.96371733e+00,\n",
       "        5.02654910e+00, 5.08938086e+00, 5.15221262e+00, 5.21504438e+00,\n",
       "        5.27787615e+00, 5.34070791e+00, 5.40353967e+00, 5.46637144e+00,\n",
       "        5.52920320e+00, 5.59203496e+00, 5.65486673e+00, 5.71769849e+00,\n",
       "        5.78053025e+00, 5.84336201e+00, 5.90619378e+00, 5.96902554e+00,\n",
       "        6.03185730e+00, 6.09468907e+00, 6.15752083e+00, 6.22035259e+00,\n",
       "        6.28318436e+00]),\n",
       " <a list of 100 Patch objects>)"
      ]
     },
     "execution_count": 48,
     "metadata": {},
     "output_type": "execute_result"
    },
    {
     "data": {
      "image/png": "[encoded data removed]",
      "text/plain": [
       "<Figure size 432x288 with 1 Axes>"
      ]
     },
     "metadata": {},
     "output_type": "display_data"
    }
   ],
   "source": [
    "plt.hist(aco[m], bins=100)"
   ]
  },
  {
   "cell_type": "code",
   "execution_count": null,
   "metadata": {},
   "outputs": [],
   "source": []
  },
  {
   "cell_type": "code",
   "execution_count": null,
   "metadata": {},
   "outputs": [],
   "source": []
  },
  {
   "cell_type": "code",
   "execution_count": 64,
   "metadata": {},
   "outputs": [
    {
     "data": {
      "image/png": "[encoded data removed]",
      "text/plain": [
       "<Figure size 432x288 with 1 Axes>"
      ]
     },
     "metadata": {},
     "output_type": "display_data"
    },
    {
     "data": {
      "image/png": "[encoded data removed]",
      "text/plain": [
       "<Figure size 432x288 with 1 Axes>"
      ]
     },
     "metadata": {},
     "output_type": "display_data"
    },
    {
     "data": {
      "image/png": "[encoded data removed]",
      "text/plain": [
       "<Figure size 432x288 with 1 Axes>"
      ]
     },
     "metadata": {},
     "output_type": "display_data"
    },
    {
     "data": {
      "image/png": "[encoded data removed]",
      "text/plain": [
       "<Figure size 432x288 with 1 Axes>"
      ]
     },
     "metadata": {},
     "output_type": "display_data"
    },
    {
     "data": {
      "image/png": "[encoded data removed]",
      "text/plain": [
       "<Figure size 432x288 with 1 Axes>"
      ]
     },
     "metadata": {},
     "output_type": "display_data"
    },
    {
     "data": {
      "image/png": "[encoded data removed]",
      "text/plain": [
       "<Figure size 432x288 with 1 Axes>"
      ]
     },
     "metadata": {},
     "output_type": "display_data"
    },
    {
     "data": {
      "image/png": "[encoded data removed]",
      "text/plain": [
       "<Figure size 432x288 with 1 Axes>"
      ]
     },
     "metadata": {},
     "output_type": "display_data"
    },
    {
     "data": {
      "image/png": "[encoded data removed]",
      "text/plain": [
       "<Figure size 432x288 with 1 Axes>"
      ]
     },
     "metadata": {},
     "output_type": "display_data"
    },
    {
     "data": {
      "image/png": "[encoded data removed]",
      "text/plain": [
       "<Figure size 432x288 with 1 Axes>"
      ]
     },
     "metadata": {},
     "output_type": "display_data"
    },
    {
     "data": {
      "image/png": "[encoded data removed]",
      "text/plain": [
       "<Figure size 432x288 with 1 Axes>"
      ]
     },
     "metadata": {},
     "output_type": "display_data"
    },
    {
     "data": {
      "image/png": "[encoded data removed]",
      "text/plain": [
       "<Figure size 432x288 with 1 Axes>"
      ]
     },
     "metadata": {},
     "output_type": "display_data"
    }
   ],
   "source": [
    "for i in range(11):\n",
    "    mask = np.array(list(map(unweight, w[:, i])))\n",
    "    mask = mask > 0\n",
    "    m = np.logical_and((y1*y2)>0, mask)\n",
    "    plt.hist(aco[m], bins=100)\n",
    "    plt.show()\n"
   ]
  },
  {
   "cell_type": "code",
   "execution_count": null,
   "metadata": {},
   "outputs": [],
   "source": []
  }
 ],
 "metadata": {
  "kernelspec": {
   "display_name": "Python 3",
   "language": "python",
   "name": "python3"
  },
  "language_info": {
   "codemirror_mode": {
    "name": "ipython",
    "version": 3
   },
   "file_extension": ".py",
   "mimetype": "text/x-python",
   "name": "python",
   "nbconvert_exporter": "python",
   "pygments_lexer": "ipython3",
   "version": "3.6.5"
  }
 },
 "nbformat": 4,
 "nbformat_minor": 2
}
