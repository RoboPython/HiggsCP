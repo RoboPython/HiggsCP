{
 "cells": [
  {
   "cell_type": "code",
   "execution_count": null,
   "metadata": {},
   "outputs": [],
   "source": [
    "import numpy as np\n",
    "from glob import glob\n",
    "import os\n",
    "import matplotlib.pyplot as plt"
   ]
  },
  {
   "cell_type": "code",
   "execution_count": null,
   "metadata": {},
   "outputs": [],
   "source": [
    "import sys\n",
    "sys.path.append(\"..\") # Adds higher directory to python modules path.\n",
    "from cpmix_utils import weight_fun, calc_weights, calc_min_distances_discrete, calculate_metrics"
   ]
  },
  {
   "cell_type": "code",
   "execution_count": null,
   "metadata": {},
   "outputs": [],
   "source": [
    "from cpmix_utils import weight_fun, calc_weights, calc_min_distances_continuous,calc_min_distances_discrete, calculate_metrics"
   ]
  },
  {
   "cell_type": "markdown",
   "metadata": {},
   "source": [
    "# Load multiclass"
   ]
  },
  {
   "cell_type": "code",
   "execution_count": null,
   "metadata": {},
   "outputs": [],
   "source": [
    "def calculate_metrics_for_numclass(directory, num_class):\n",
    "    calc_w = np.load(os.path.join(directory, 'softmax_calc_w.npy'))\n",
    "    preds_w = np.load(os.path.join(directory, 'softmax_preds_w.npy'))\n",
    "    return calculate_metrics(num_class, calc_w, preds_w)\n",
    "\n",
    "def get_filename_for_class(class_num, subset=None):\n",
    "    d = f'../monit_npy/nn_rhorho_Variant-All_Unweighted_False_NO_NUM_CLASSES_{class_num}'\n",
    "    if subset:\n",
    "        d += \"_WEIGHTS_SUBS\" + str(subset)\n",
    "    return d"
   ]
  },
  {
   "cell_type": "code",
   "execution_count": null,
   "metadata": {},
   "outputs": [],
   "source": [
    "filenames = [f'../monit_npy/nn_rhorho_Variant-All_Unweighted_False_NO_NUM_CLASSES_{i}' for i in range(2,51)]\n",
    "multiclass_metrics = [calculate_metrics_for_numclass(filenames[i], i+2) for i in range(49)]\n",
    "multiclass_metrics = np.stack(multiclass_metrics)"
   ]
  },
  {
   "cell_type": "markdown",
   "metadata": {},
   "source": [
    "# Load regression"
   ]
  },
  {
   "cell_type": "code",
   "execution_count": null,
   "metadata": {},
   "outputs": [],
   "source": [
    "calc_popts = np.load('../monit_npy/nn_rhorho_Variant-All_Unweighted_False_NO_NUM_CLASSES_21/regression_calc_popts.npy')\n",
    "pred_popts = np.load('../monit_npy/nn_rhorho_Variant-All_Unweighted_False_NO_NUM_CLASSES_21/regression_preds_popts.npy')"
   ]
  },
  {
   "cell_type": "code",
   "execution_count": null,
   "metadata": {},
   "outputs": [],
   "source": [
    "def calculate_classes_weights(num_classes, popts):\n",
    "    classes = np.linspace(0, 2, num_classes) * np.pi\n",
    "    data_len = popts.shape[0]\n",
    "    return calc_weights(classes, popts, data_len, num_classes)"
   ]
  },
  {
   "cell_type": "code",
   "execution_count": null,
   "metadata": {},
   "outputs": [],
   "source": [
    "regression_metrics = [calculate_metrics(i+2, calculate_classes_weights(i+2, calc_popts), calculate_classes_weights(i+2, pred_popts)) for i in range(49)]"
   ]
  },
  {
   "cell_type": "code",
   "execution_count": null,
   "metadata": {},
   "outputs": [],
   "source": [
    "regression_metrics = np.stack(regression_metrics)"
   ]
  },
  {
   "cell_type": "markdown",
   "metadata": {},
   "source": [
    "# Plots"
   ]
  },
  {
   "cell_type": "code",
   "execution_count": null,
   "metadata": {},
   "outputs": [],
   "source": [
    "plt.plot(multiclass_metrics[:, 0],'+', label='Multiclass - Max distance 0')\n",
    "plt.plot(multiclass_metrics[:, 1],'+', label='Multiclass - Max distance 1')\n",
    "plt.plot(multiclass_metrics[:, 2],'+', label='Multiclass - Max distance 2')\n",
    "plt.plot(multiclass_metrics[:, 3],'+', label='Multiclass - Max distance 3')\n",
    "plt.plot(regression_metrics[:, 0],'+', label='Regression - Max distance 0')\n",
    "plt.plot(regression_metrics[:, 1],'+', label='Regression - Max distance 1')\n",
    "plt.plot(regression_metrics[:, 2],'+', label='Regression - Max distance 2')\n",
    "plt.plot(regression_metrics[:, 3],'+', label='Regression - Max distance 3')\n",
    "plt.legend(loc='upper right')\n",
    "plt.xlabel('Number of classes')\n",
    "plt.ylabel('Accuracy')"
   ]
  },
  {
   "cell_type": "code",
   "execution_count": null,
   "metadata": {},
   "outputs": [],
   "source": [
    "plt.plot(multiclass_metrics[1:, 5], '+', label='Multi-class')\n",
    "plt.plot(regression_metrics[1:, 5], '+', label='Regresion')\n",
    "plt.xlabel(\"Number of classes\")\n",
    "plt.ylabel('l1')\n",
    "plt.legend(loc='upper right')\n"
   ]
  }
 ],
 "metadata": {
  "kernelspec": {
   "display_name": "Python 3",
   "language": "python",
   "name": "python3"
  },
  "language_info": {
   "codemirror_mode": {
    "name": "ipython",
    "version": 3
   },
   "file_extension": ".py",
   "mimetype": "text/x-python",
   "name": "python",
   "nbconvert_exporter": "python",
   "pygments_lexer": "ipython3",
   "version": "3.7.4"
  }
 },
 "nbformat": 4,
 "nbformat_minor": 2
}
