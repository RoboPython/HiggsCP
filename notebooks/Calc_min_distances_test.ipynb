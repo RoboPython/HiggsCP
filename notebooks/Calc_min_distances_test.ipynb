{
 "cells": [
  {
   "cell_type": "code",
   "execution_count": 1,
   "metadata": {},
   "outputs": [],
   "source": [
    "import numpy as np\n",
    "from glob import glob\n",
    "import os\n",
    "import matplotlib.pyplot as plt\n",
    "\n",
    "\n",
    "def calc_argmaxs_distances1(pred_arg_maxs, calc_arg_maxs, num_class):\n",
    "    min_distances = np.zeros(len(calc_arg_maxs))\n",
    "    for i in range(len(calc_arg_maxs)):\n",
    "        dist = pred_arg_maxs[i] - calc_arg_maxs[i]\n",
    "        if np.abs((num_class - 1) + (pred_arg_maxs[i] - calc_arg_maxs[i]))<np.abs(dist):\n",
    "            dist =(num_class - 1) + (pred_arg_maxs[i] - calc_arg_maxs[i])\n",
    "        if np.abs(-(num_class - 1) + (pred_arg_maxs[i] - calc_arg_maxs[i]))<np.abs(dist):\n",
    "            dist = -(num_class - 1) + (pred_arg_maxs[i] - calc_arg_maxs[i])\n",
    "        min_distances[i] = dist\n",
    "    return min_distances\n",
    "\n",
    "def calc_argmaxs_distances2(pred_arg_maxs, calc_arg_maxs, num_class):\n",
    "    \n",
    "    calc_argmaxs_distances = np.min(\n",
    "         np.stack(\n",
    "            [np.abs(pred_arg_maxs-calc_arg_maxs), ((num_class - 1) - np.abs(pred_arg_maxs-calc_arg_maxs))]\n",
    "        ), axis=0)\n",
    "\n",
    "    return calc_argmaxs_distances\n",
    "\n",
    "\n"
   ]
  },
  {
   "cell_type": "code",
   "execution_count": 2,
   "metadata": {},
   "outputs": [],
   "source": [
    "import sys\n",
    "sys.path.append(\"..\") # Adds higher directory to python modules path.\n",
    "from cpmix_utils import weight_fun, calc_weights, calc_min_distances_discrete, calculate_metrics"
   ]
  },
  {
   "cell_type": "code",
   "execution_count": 3,
   "metadata": {},
   "outputs": [],
   "source": [
    "filenames = [f'../monit_npy/nn_rhorho_Variant-All_Unweighted_False_NO_NUM_CLASSES_{i}' for i in range(2,51)]"
   ]
  },
  {
   "cell_type": "code",
   "execution_count": 4,
   "metadata": {},
   "outputs": [],
   "source": [
    "def get_filename_for_class(class_num, subset=None):\n",
    "    d = f'../monit_npy/nn_rhorho_Variant-All_Unweighted_False_NO_NUM_CLASSES_{class_num}'\n",
    "    if subset:\n",
    "        d += \"_WEIGHTS_SUBS\" + str(subset)\n",
    "    return d"
   ]
  },
  {
   "cell_type": "code",
   "execution_count": null,
   "metadata": {},
   "outputs": [],
   "source": []
  },
  {
   "cell_type": "code",
   "execution_count": 5,
   "metadata": {},
   "outputs": [],
   "source": [
    "def load_data(num_class):\n",
    "    directory = get_filename_for_class(num_class)\n",
    "    calc_w = np.load(os.path.join(directory, 'softmax_calc_w.npy'))\n",
    "    preds_w = np.load(os.path.join(directory, 'softmax_preds_w.npy'))\n",
    "    pred_arg_maxs = np.argmax(preds_w, axis=1)\n",
    "    calc_arg_maxs = np.argmax(calc_w, axis=1)\n",
    "    return pred_arg_maxs, calc_arg_maxs"
   ]
  },
  {
   "cell_type": "markdown",
   "metadata": {},
   "source": [
    "# Check different num classes"
   ]
  },
  {
   "cell_type": "code",
   "execution_count": 15,
   "metadata": {},
   "outputs": [
    {
     "name": "stdout",
     "output_type": "stream",
     "text": [
      "Num classes: 2 Unique values: 1 min_value: 0.0 max_value 0.0 mean 0.0000 std 0.0000\n",
      "res1_vs_utils: True abs_res1_vs_res2: True\n",
      "Num classes: 3 Unique values: 3 min_value: -1.0 max_value 1.0 mean -0.0143 std 0.4656\n",
      "res1_vs_utils: True abs_res1_vs_res2: True\n",
      "Num classes: 4 Unique values: 3 min_value: -1.0 max_value 1.0 mean -0.0068 std 0.5296\n",
      "res1_vs_utils: True abs_res1_vs_res2: True\n",
      "Num classes: 5 Unique values: 5 min_value: -2.0 max_value 2.0 mean 0.0063 std 0.6740\n",
      "res1_vs_utils: True abs_res1_vs_res2: True\n",
      "Num classes: 6 Unique values: 5 min_value: -2.0 max_value 2.0 mean 0.0056 std 0.7879\n",
      "res1_vs_utils: True abs_res1_vs_res2: True\n",
      "Num classes: 7 Unique values: 7 min_value: -3.0 max_value 3.0 mean -0.0070 std 0.9345\n",
      "res1_vs_utils: True abs_res1_vs_res2: True\n",
      "Num classes: 8 Unique values: 7 min_value: -3.0 max_value 3.0 mean -0.0204 std 1.0540\n",
      "res1_vs_utils: True abs_res1_vs_res2: True\n",
      "Num classes: 9 Unique values: 9 min_value: -4.0 max_value 4.0 mean 0.0007 std 1.2017\n",
      "res1_vs_utils: True abs_res1_vs_res2: True\n",
      "Num classes: 10 Unique values: 9 min_value: -4.0 max_value 4.0 mean 0.0127 std 1.3034\n",
      "res1_vs_utils: True abs_res1_vs_res2: True\n",
      "Num classes: 11 Unique values: 11 min_value: -5.0 max_value 5.0 mean 0.0408 std 1.4543\n",
      "res1_vs_utils: True abs_res1_vs_res2: True\n",
      "Num classes: 12 Unique values: 11 min_value: -5.0 max_value 5.0 mean -0.0017 std 1.5945\n",
      "res1_vs_utils: True abs_res1_vs_res2: True\n",
      "Num classes: 13 Unique values: 13 min_value: -6.0 max_value 6.0 mean 0.0671 std 1.7167\n",
      "res1_vs_utils: True abs_res1_vs_res2: True\n",
      "Num classes: 14 Unique values: 13 min_value: -6.0 max_value 6.0 mean 0.0338 std 1.8929\n",
      "res1_vs_utils: True abs_res1_vs_res2: True\n",
      "Num classes: 15 Unique values: 15 min_value: -7.0 max_value 7.0 mean 0.0330 std 2.0418\n",
      "res1_vs_utils: True abs_res1_vs_res2: True\n",
      "Num classes: 16 Unique values: 15 min_value: -7.0 max_value 7.0 mean -0.0199 std 2.1562\n",
      "res1_vs_utils: True abs_res1_vs_res2: True\n",
      "Num classes: 17 Unique values: 17 min_value: -8.0 max_value 8.0 mean -0.0093 std 2.3056\n",
      "res1_vs_utils: True abs_res1_vs_res2: True\n",
      "Num classes: 18 Unique values: 17 min_value: -8.0 max_value 8.0 mean -0.0639 std 2.4251\n",
      "res1_vs_utils: True abs_res1_vs_res2: True\n",
      "Num classes: 19 Unique values: 19 min_value: -9.0 max_value 9.0 mean 0.0684 std 2.5712\n",
      "res1_vs_utils: True abs_res1_vs_res2: True\n",
      "Num classes: 20 Unique values: 19 min_value: -9.0 max_value 9.0 mean 0.0634 std 2.6336\n",
      "res1_vs_utils: True abs_res1_vs_res2: True\n",
      "Num classes: 21 Unique values: 21 min_value: -10.0 max_value 10.0 mean -0.0549 std 4.1592\n",
      "res1_vs_utils: True abs_res1_vs_res2: True\n",
      "Num classes: 22 Unique values: 21 min_value: -10.0 max_value 10.0 mean 0.1071 std 3.0681\n",
      "res1_vs_utils: True abs_res1_vs_res2: True\n",
      "Num classes: 23 Unique values: 23 min_value: -11.0 max_value 11.0 mean -0.0384 std 3.1834\n",
      "res1_vs_utils: True abs_res1_vs_res2: True\n",
      "Num classes: 24 Unique values: 23 min_value: -11.0 max_value 11.0 mean 0.0401 std 3.3067\n",
      "res1_vs_utils: True abs_res1_vs_res2: True\n",
      "Num classes: 25 Unique values: 25 min_value: -12.0 max_value 12.0 mean 0.0315 std 3.5641\n",
      "res1_vs_utils: True abs_res1_vs_res2: True\n",
      "Num classes: 26 Unique values: 25 min_value: -12.0 max_value 12.0 mean 0.0154 std 3.5544\n",
      "res1_vs_utils: True abs_res1_vs_res2: True\n",
      "Num classes: 27 Unique values: 27 min_value: -13.0 max_value 13.0 mean 0.0325 std 3.7779\n",
      "res1_vs_utils: True abs_res1_vs_res2: True\n",
      "Num classes: 28 Unique values: 27 min_value: -13.0 max_value 13.0 mean 0.0758 std 3.8699\n",
      "res1_vs_utils: True abs_res1_vs_res2: True\n",
      "Num classes: 29 Unique values: 29 min_value: -14.0 max_value 14.0 mean -0.0717 std 4.0561\n",
      "res1_vs_utils: True abs_res1_vs_res2: True\n",
      "Num classes: 30 Unique values: 29 min_value: -14.0 max_value 14.0 mean 0.0247 std 4.0658\n",
      "res1_vs_utils: True abs_res1_vs_res2: True\n",
      "Num classes: 31 Unique values: 31 min_value: -15.0 max_value 15.0 mean -0.1366 std 4.2179\n",
      "res1_vs_utils: True abs_res1_vs_res2: True\n",
      "Num classes: 32 Unique values: 31 min_value: -15.0 max_value 15.0 mean 0.3755 std 4.7636\n",
      "res1_vs_utils: True abs_res1_vs_res2: True\n",
      "Num classes: 33 Unique values: 33 min_value: -16.0 max_value 16.0 mean -0.1371 std 4.6462\n",
      "res1_vs_utils: True abs_res1_vs_res2: True\n",
      "Num classes: 34 Unique values: 33 min_value: -16.0 max_value 16.0 mean 0.1381 std 4.7428\n",
      "res1_vs_utils: True abs_res1_vs_res2: True\n",
      "Num classes: 35 Unique values: 35 min_value: -17.0 max_value 17.0 mean 0.3219 std 4.7360\n",
      "res1_vs_utils: True abs_res1_vs_res2: True\n",
      "Num classes: 36 Unique values: 35 min_value: -17.0 max_value 17.0 mean -0.0759 std 5.0825\n",
      "res1_vs_utils: True abs_res1_vs_res2: True\n",
      "Num classes: 37 Unique values: 37 min_value: -18.0 max_value 18.0 mean -0.1113 std 5.5900\n",
      "res1_vs_utils: True abs_res1_vs_res2: True\n",
      "Num classes: 38 Unique values: 37 min_value: -18.0 max_value 18.0 mean -0.0246 std 5.4078\n",
      "res1_vs_utils: True abs_res1_vs_res2: True\n",
      "Num classes: 39 Unique values: 39 min_value: -19.0 max_value 19.0 mean -0.0236 std 5.3839\n",
      "res1_vs_utils: True abs_res1_vs_res2: True\n"
     ]
    }
   ],
   "source": [
    "for num_class in range(2, 40):\n",
    "    pred_arg_maxs, calc_arg_maxs = load_data(num_class)\n",
    "    res1 = calc_argmaxs_distances1(pred_arg_maxs, calc_arg_maxs, num_class)\n",
    "    min_distances = calc_min_distances_discrete(pred_arg_maxs, calc_arg_maxs, num_class) # Function from cpmix_utils\n",
    "    res1_vs_utils = np.all(min_distances==res1)\n",
    "    print('Num classes: {} Unique values: {} min_value: {} max_value {} mean {:.4f} std {:.4f}'\n",
    "          .format(num_class, len(np.unique(res1)), np.min(res1), np.max(res1), \n",
    "                  np.mean(res1), np.std(res1)))\n",
    "    \n",
    "    res2 = calc_argmaxs_distances2(pred_arg_maxs, calc_arg_maxs, num_class)\n",
    "    # calc_argmaxs_distances1 is more general (it preserves direction) --> np.abs(res1) \n",
    "    abs_res1_vs_res2 = np.all(np.abs(res1)==res2)\n",
    "    print('res1_vs_utils: {} abs_res1_vs_res2: {}'.format(res1_vs_utils, abs_res1_vs_res2))"
   ]
  },
  {
   "cell_type": "markdown",
   "metadata": {},
   "source": [
    "# Num class 10"
   ]
  },
  {
   "cell_type": "code",
   "execution_count": 16,
   "metadata": {},
   "outputs": [],
   "source": [
    "num_class = 10\n",
    "pred_arg_maxs, calc_arg_maxs = load_data(num_class)"
   ]
  },
  {
   "cell_type": "code",
   "execution_count": 17,
   "metadata": {},
   "outputs": [],
   "source": [
    "res1 = calc_argmaxs_distances1(pred_arg_maxs, calc_arg_maxs, num_class)\n",
    "res2 = calc_argmaxs_distances2(pred_arg_maxs, calc_arg_maxs, num_class)"
   ]
  },
  {
   "cell_type": "code",
   "execution_count": 18,
   "metadata": {},
   "outputs": [],
   "source": [
    "#res1 = np.abs(res1) # calc_argmaxs_distances1 is more general (it preserves direction)"
   ]
  },
  {
   "cell_type": "code",
   "execution_count": 19,
   "metadata": {},
   "outputs": [
    {
     "data": {
      "image/png": "[encoded data removed]",
      "text/plain": [
       "<Figure size 432x288 with 1 Axes>"
      ]
     },
     "metadata": {},
     "output_type": "display_data"
    }
   ],
   "source": [
    "bins = np.array(list(range(int(np.min(res1)), int(np.max(res1)+2)))) -0.5\n",
    "_= plt.hist(res1, bins=bins)"
   ]
  },
  {
   "cell_type": "code",
   "execution_count": 20,
   "metadata": {},
   "outputs": [
    {
     "data": {
      "text/plain": [
       "0.0127"
      ]
     },
     "execution_count": 20,
     "metadata": {},
     "output_type": "execute_result"
    }
   ],
   "source": [
    "res1.mean()"
   ]
  },
  {
   "cell_type": "code",
   "execution_count": 21,
   "metadata": {},
   "outputs": [
    {
     "data": {
      "text/plain": [
       "(-4.0, 4.0)"
      ]
     },
     "execution_count": 21,
     "metadata": {},
     "output_type": "execute_result"
    }
   ],
   "source": [
    "min(res1), max(res1)"
   ]
  },
  {
   "cell_type": "code",
   "execution_count": 22,
   "metadata": {},
   "outputs": [
    {
     "data": {
      "image/png": "[encoded data removed]",
      "text/plain": [
       "<Figure size 432x288 with 1 Axes>"
      ]
     },
     "metadata": {},
     "output_type": "display_data"
    }
   ],
   "source": [
    "bins = np.array(list(range(int(np.min(res2)), int(np.max(res2)+2)))) -0.5\n",
    "_= plt.hist(res2, bins=bins)"
   ]
  },
  {
   "cell_type": "code",
   "execution_count": 23,
   "metadata": {},
   "outputs": [
    {
     "data": {
      "image/png": "[encoded data removed]",
      "text/plain": [
       "<Figure size 432x288 with 1 Axes>"
      ]
     },
     "metadata": {},
     "output_type": "display_data"
    }
   ],
   "source": [
    "min_distances = calc_min_distances_discrete(pred_arg_maxs, calc_arg_maxs, num_class)\n",
    "bins = np.array(list(range(int(np.min(min_distances)), int(np.max(min_distances)+2)))) -0.5\n",
    "_= plt.hist(min_distances, bins=bins)"
   ]
  },
  {
   "cell_type": "code",
   "execution_count": 24,
   "metadata": {},
   "outputs": [
    {
     "data": {
      "text/plain": [
       "False"
      ]
     },
     "execution_count": 24,
     "metadata": {},
     "output_type": "execute_result"
    }
   ],
   "source": [
    "np.all(res1==res2)"
   ]
  },
  {
   "cell_type": "markdown",
   "metadata": {},
   "source": []
  },
  {
   "cell_type": "markdown",
   "metadata": {},
   "source": [
    "# Num class 11"
   ]
  },
  {
   "cell_type": "code",
   "execution_count": 25,
   "metadata": {},
   "outputs": [],
   "source": [
    "num_class = 11\n",
    "pred_arg_maxs, calc_arg_maxs = load_data(num_class)\n",
    "res1 = calc_argmaxs_distances1(pred_arg_maxs, calc_arg_maxs, num_class)\n",
    "res2 = calc_argmaxs_distances2(pred_arg_maxs, calc_arg_maxs, num_class)\n"
   ]
  },
  {
   "cell_type": "code",
   "execution_count": 26,
   "metadata": {},
   "outputs": [
    {
     "data": {
      "image/png": "[encoded data removed]",
      "text/plain": [
       "<Figure size 432x288 with 1 Axes>"
      ]
     },
     "metadata": {},
     "output_type": "display_data"
    }
   ],
   "source": [
    "bins = np.array(list(range(int(np.min(res1)), int(np.max(res1)+2)))) -0.5\n",
    "_= plt.hist(res1, bins=bins)"
   ]
  },
  {
   "cell_type": "code",
   "execution_count": null,
   "metadata": {},
   "outputs": [],
   "source": []
  },
  {
   "cell_type": "code",
   "execution_count": 27,
   "metadata": {},
   "outputs": [
    {
     "data": {
      "image/png": "[encoded data removed]",
      "text/plain": [
       "<Figure size 432x288 with 1 Axes>"
      ]
     },
     "metadata": {},
     "output_type": "display_data"
    }
   ],
   "source": [
    "res1 = np.abs(res1) # calc_argmaxs_distances1 is more general (it preserves direction)\n",
    "bins1 = np.array(list(range(int(np.min(res1)), int(np.max(res1)+2)))) -0.5\n",
    "_= plt.hist(res1, bins1, histtype='step')\n",
    "bins2 = np.array(list(range(int(np.min(res2)), int(np.max(res2)+2)))) -0.5\n",
    "_= plt.hist(res2, bins=bins2, histtype='step')"
   ]
  },
  {
   "cell_type": "code",
   "execution_count": null,
   "metadata": {},
   "outputs": [],
   "source": []
  },
  {
   "cell_type": "markdown",
   "metadata": {},
   "source": [
    "# Num class 31"
   ]
  },
  {
   "cell_type": "code",
   "execution_count": 28,
   "metadata": {},
   "outputs": [],
   "source": [
    "num_class = 31\n",
    "pred_arg_maxs, calc_arg_maxs = load_data(num_class)\n",
    "res1 = calc_argmaxs_distances1(pred_arg_maxs, calc_arg_maxs, num_class)\n",
    "res2 = calc_argmaxs_distances2(pred_arg_maxs, calc_arg_maxs, num_class)\n"
   ]
  },
  {
   "cell_type": "code",
   "execution_count": 29,
   "metadata": {},
   "outputs": [
    {
     "data": {
      "image/png": "[encoded data removed]",
      "text/plain": [
       "<Figure size 432x288 with 1 Axes>"
      ]
     },
     "metadata": {},
     "output_type": "display_data"
    }
   ],
   "source": [
    "bins = np.array(list(range(int(np.min(res1)), int(np.max(res1)+2)))) -0.5\n",
    "_= plt.hist(res1, bins=bins)"
   ]
  },
  {
   "cell_type": "code",
   "execution_count": 30,
   "metadata": {},
   "outputs": [
    {
     "data": {
      "text/plain": [
       "(-15.0, 15.0)"
      ]
     },
     "execution_count": 30,
     "metadata": {},
     "output_type": "execute_result"
    }
   ],
   "source": [
    "min(res1), max(res1)"
   ]
  },
  {
   "cell_type": "code",
   "execution_count": null,
   "metadata": {},
   "outputs": [],
   "source": []
  },
  {
   "cell_type": "code",
   "execution_count": null,
   "metadata": {},
   "outputs": [],
   "source": []
  },
  {
   "cell_type": "code",
   "execution_count": 31,
   "metadata": {},
   "outputs": [
    {
     "data": {
      "image/png": "[encoded data removed]",
      "text/plain": [
       "<Figure size 432x288 with 1 Axes>"
      ]
     },
     "metadata": {},
     "output_type": "display_data"
    }
   ],
   "source": [
    "res1 = np.abs(res1) # calc_argmaxs_distances1 is more general (it preserves direction)\n",
    "bins1 = np.array(list(range(int(np.min(res1)), int(np.max(res1)+2)))) -0.5\n",
    "_= plt.hist(res1, bins1, histtype='step')\n",
    "bins2 = np.array(list(range(int(np.min(res2)), int(np.max(res2)+2)))) -0.5\n",
    "_= plt.hist(res2, bins=bins2, histtype='step')"
   ]
  },
  {
   "cell_type": "code",
   "execution_count": null,
   "metadata": {},
   "outputs": [],
   "source": []
  },
  {
   "cell_type": "code",
   "execution_count": null,
   "metadata": {},
   "outputs": [],
   "source": []
  }
 ],
 "metadata": {
  "kernelspec": {
   "display_name": "Python 3",
   "language": "python",
   "name": "python3"
  },
  "language_info": {
   "codemirror_mode": {
    "name": "ipython",
    "version": 3
   },
   "file_extension": ".py",
   "mimetype": "text/x-python",
   "name": "python",
   "nbconvert_exporter": "python",
   "pygments_lexer": "ipython3",
   "version": "3.6.5"
  }
 },
 "nbformat": 4,
 "nbformat_minor": 2
}
