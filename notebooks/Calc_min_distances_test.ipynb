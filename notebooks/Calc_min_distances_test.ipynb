{
 "cells": [
  {
   "cell_type": "code",
   "execution_count": 1,
   "metadata": {},
   "outputs": [],
   "source": [
    "import numpy as np\n",
    "from glob import glob\n",
    "import os\n",
    "import matplotlib.pyplot as plt\n",
    "\n",
    "\n",
    "def calc_argmaxs_distances1(pred_arg_maxs, calc_arg_maxs, num_class):\n",
    "    min_distances = np.zeros(len(calc_arg_maxs))\n",
    "    for i in range(len(calc_arg_maxs)):\n",
    "        dist = pred_arg_maxs[i] - calc_arg_maxs[i]\n",
    "        if np.abs((num_class - 1) + (pred_arg_maxs[i] - calc_arg_maxs[i]))<np.abs(dist):\n",
    "            dist =(num_class - 1) + (pred_arg_maxs[i] - calc_arg_maxs[i])\n",
    "        if np.abs(-(num_class - 1) + (pred_arg_maxs[i] - calc_arg_maxs[i]))<np.abs(dist):\n",
    "            dist = -(num_class - 1) + (pred_arg_maxs[i] - calc_arg_maxs[i])\n",
    "        min_distances[i] = dist\n",
    "    return min_distances\n",
    "\n",
    "def calc_argmaxs_distances2(pred_arg_maxs, calc_arg_maxs, num_class):\n",
    "    \n",
    "    calc_argmaxs_distances = np.min(\n",
    "         np.stack(\n",
    "            [np.abs(pred_arg_maxs-calc_arg_maxs), ((num_class - 1) - np.abs(pred_arg_maxs-calc_arg_maxs))]\n",
    "        ), axis=0)\n",
    "\n",
    "    return calc_argmaxs_distances\n",
    "\n",
    "\n"
   ]
  },
  {
   "cell_type": "code",
   "execution_count": 2,
   "metadata": {},
   "outputs": [],
   "source": [
    "import sys\n",
    "sys.path.append(\"..\") # Adds higher directory to python modules path.\n",
    "from cpmix_utils import weight_fun, calc_weights, calc_min_distances, calculate_metrics"
   ]
  },
  {
   "cell_type": "code",
   "execution_count": 3,
   "metadata": {},
   "outputs": [],
   "source": [
    "filenames = [f'../monit_npy/nn_rhorho_Variant-All_Unweighted_False_NO_NUM_CLASSES_{i}' for i in range(2,51)]"
   ]
  },
  {
   "cell_type": "code",
   "execution_count": 4,
   "metadata": {},
   "outputs": [],
   "source": [
    "def get_filename_for_class(class_num, subset=None):\n",
    "    d = f'../monit_npy/nn_rhorho_Variant-All_Unweighted_False_NO_NUM_CLASSES_{class_num}'\n",
    "    if subset:\n",
    "        d += \"_WEIGHTS_SUBS\" + str(subset)\n",
    "    return d"
   ]
  },
  {
   "cell_type": "code",
   "execution_count": null,
   "metadata": {},
   "outputs": [],
   "source": []
  },
  {
   "cell_type": "code",
   "execution_count": 5,
   "metadata": {},
   "outputs": [],
   "source": [
    "def load_data(num_class):\n",
    "    directory = get_filename_for_class(num_class)\n",
    "    calc_w = np.load(os.path.join(directory, 'softmax_calc_w.npy'))\n",
    "    preds_w = np.load(os.path.join(directory, 'softmax_preds_w.npy'))\n",
    "    pred_arg_maxs = np.argmax(preds_w, axis=1)\n",
    "    calc_arg_maxs = np.argmax(calc_w, axis=1)\n",
    "    return pred_arg_maxs, calc_arg_maxs"
   ]
  },
  {
   "cell_type": "markdown",
   "metadata": {},
   "source": [
    "# Check different num classes"
   ]
  },
  {
   "cell_type": "code",
   "execution_count": 6,
   "metadata": {},
   "outputs": [
    {
     "name": "stdout",
     "output_type": "stream",
     "text": [
      "res1_vs_utils: True abs_res1_vs_res2: True\n",
      "res1_vs_utils: True abs_res1_vs_res2: True\n",
      "res1_vs_utils: True abs_res1_vs_res2: True\n",
      "res1_vs_utils: True abs_res1_vs_res2: True\n",
      "res1_vs_utils: True abs_res1_vs_res2: True\n",
      "res1_vs_utils: True abs_res1_vs_res2: True\n",
      "res1_vs_utils: True abs_res1_vs_res2: True\n",
      "res1_vs_utils: True abs_res1_vs_res2: True\n",
      "res1_vs_utils: True abs_res1_vs_res2: True\n",
      "res1_vs_utils: True abs_res1_vs_res2: True\n",
      "res1_vs_utils: True abs_res1_vs_res2: True\n",
      "res1_vs_utils: True abs_res1_vs_res2: True\n",
      "res1_vs_utils: True abs_res1_vs_res2: True\n",
      "res1_vs_utils: True abs_res1_vs_res2: True\n",
      "res1_vs_utils: True abs_res1_vs_res2: True\n",
      "res1_vs_utils: True abs_res1_vs_res2: True\n",
      "res1_vs_utils: True abs_res1_vs_res2: True\n",
      "res1_vs_utils: True abs_res1_vs_res2: True\n",
      "res1_vs_utils: True abs_res1_vs_res2: True\n",
      "res1_vs_utils: True abs_res1_vs_res2: True\n",
      "res1_vs_utils: True abs_res1_vs_res2: True\n",
      "res1_vs_utils: True abs_res1_vs_res2: True\n",
      "res1_vs_utils: True abs_res1_vs_res2: True\n",
      "res1_vs_utils: True abs_res1_vs_res2: True\n",
      "res1_vs_utils: True abs_res1_vs_res2: True\n",
      "res1_vs_utils: True abs_res1_vs_res2: True\n",
      "res1_vs_utils: True abs_res1_vs_res2: True\n",
      "res1_vs_utils: True abs_res1_vs_res2: True\n",
      "res1_vs_utils: True abs_res1_vs_res2: True\n",
      "res1_vs_utils: True abs_res1_vs_res2: True\n",
      "res1_vs_utils: True abs_res1_vs_res2: True\n",
      "res1_vs_utils: True abs_res1_vs_res2: True\n",
      "res1_vs_utils: True abs_res1_vs_res2: True\n",
      "res1_vs_utils: True abs_res1_vs_res2: True\n",
      "res1_vs_utils: True abs_res1_vs_res2: True\n",
      "res1_vs_utils: True abs_res1_vs_res2: True\n",
      "res1_vs_utils: True abs_res1_vs_res2: True\n",
      "res1_vs_utils: True abs_res1_vs_res2: True\n"
     ]
    }
   ],
   "source": [
    "for num_class in range(2, 40):\n",
    "    pred_arg_maxs, calc_arg_maxs = load_data(num_class)\n",
    "    res1 = calc_argmaxs_distances1(pred_arg_maxs, calc_arg_maxs, num_class)\n",
    "    min_distances = calc_min_distances(pred_arg_maxs, calc_arg_maxs, num_class) # Function from cpmix_utils\n",
    "    res1_vs_utils = np.all(min_distances==res1)\n",
    "    \n",
    "    res2 = calc_argmaxs_distances2(pred_arg_maxs, calc_arg_maxs, num_class)\n",
    "    # calc_argmaxs_distances1 is more general (it preserves direction) --> np.abs(res1) \n",
    "    abs_res1_vs_res2 = np.all(np.abs(res1)==res2)\n",
    "    print('res1_vs_utils: {} abs_res1_vs_res2: {}'.format(res1_vs_utils, abs_res1_vs_res2))"
   ]
  },
  {
   "cell_type": "markdown",
   "metadata": {},
   "source": [
    "# Num class 10"
   ]
  },
  {
   "cell_type": "code",
   "execution_count": 7,
   "metadata": {},
   "outputs": [],
   "source": [
    "num_class = 10\n",
    "pred_arg_maxs, calc_arg_maxs = load_data(num_class)"
   ]
  },
  {
   "cell_type": "code",
   "execution_count": 8,
   "metadata": {},
   "outputs": [],
   "source": [
    "res1 = calc_argmaxs_distances1(pred_arg_maxs, calc_arg_maxs, num_class)\n",
    "res2 = calc_argmaxs_distances2(pred_arg_maxs, calc_arg_maxs, num_class)"
   ]
  },
  {
   "cell_type": "code",
   "execution_count": 9,
   "metadata": {},
   "outputs": [],
   "source": [
    "#res1 = np.abs(res1) # calc_argmaxs_distances1 is more general (it preserves direction)"
   ]
  },
  {
   "cell_type": "code",
   "execution_count": 10,
   "metadata": {},
   "outputs": [
    {
     "data": {
      "image/png": "[encoded data removed]",
      "text/plain": [
       "<Figure size 432x288 with 1 Axes>"
      ]
     },
     "metadata": {},
     "output_type": "display_data"
    }
   ],
   "source": [
    "bins = list(range(int(np.min(res1)), int(np.max(res1)+2)))\n",
    "_= plt.hist(res1, bins=bins)"
   ]
  },
  {
   "cell_type": "code",
   "execution_count": 11,
   "metadata": {},
   "outputs": [
    {
     "data": {
      "image/png": "[encoded data removed]",
      "text/plain": [
       "<Figure size 432x288 with 1 Axes>"
      ]
     },
     "metadata": {},
     "output_type": "display_data"
    }
   ],
   "source": [
    "bins = list(range(int(np.min(res2)), int(np.max(res2)+2)))\n",
    "_= plt.hist(res2, bins=bins)"
   ]
  },
  {
   "cell_type": "code",
   "execution_count": 12,
   "metadata": {},
   "outputs": [
    {
     "data": {
      "image/png": "[encoded data removed]",
      "text/plain": [
       "<Figure size 432x288 with 1 Axes>"
      ]
     },
     "metadata": {},
     "output_type": "display_data"
    }
   ],
   "source": [
    "min_distances = calc_min_distances(pred_arg_maxs, calc_arg_maxs, num_class)\n",
    "bins = list(range(int(np.min(min_distances)), int(np.max(min_distances)+2)))\n",
    "_= plt.hist(min_distances, bins=bins)"
   ]
  },
  {
   "cell_type": "code",
   "execution_count": 13,
   "metadata": {},
   "outputs": [
    {
     "data": {
      "text/plain": [
       "False"
      ]
     },
     "execution_count": 13,
     "metadata": {},
     "output_type": "execute_result"
    }
   ],
   "source": [
    "np.all(res1==res2)"
   ]
  },
  {
   "cell_type": "markdown",
   "metadata": {},
   "source": []
  },
  {
   "cell_type": "code",
   "execution_count": null,
   "metadata": {},
   "outputs": [],
   "source": []
  },
  {
   "cell_type": "markdown",
   "metadata": {},
   "source": [
    "# Num class 31"
   ]
  },
  {
   "cell_type": "code",
   "execution_count": 15,
   "metadata": {},
   "outputs": [
    {
     "data": {
      "image/png": "[encoded data removed]",
      "text/plain": [
       "<Figure size 432x288 with 1 Axes>"
      ]
     },
     "metadata": {},
     "output_type": "display_data"
    }
   ],
   "source": [
    "num_class = 31\n",
    "pred_arg_maxs, calc_arg_maxs = load_data(num_class)\n",
    "res1 = calc_argmaxs_distances1(pred_arg_maxs, calc_arg_maxs, num_class)\n",
    "res2 = calc_argmaxs_distances2(pred_arg_maxs, calc_arg_maxs, num_class)\n",
    "res1 = np.abs(res1) # calc_argmaxs_distances1 is more general (it preserves direction)\n",
    "bins1 = list(range(int(np.min(res1)), int(np.max(res1)+2)))\n",
    "_= plt.hist(res1, bins1, histtype='step')\n",
    "bins2 = list(range(int(np.min(res2)), int(np.max(res2)+2)))\n",
    "_= plt.hist(res2, bins=bins2, histtype='step')"
   ]
  },
  {
   "cell_type": "code",
   "execution_count": null,
   "metadata": {},
   "outputs": [],
   "source": []
  },
  {
   "cell_type": "code",
   "execution_count": null,
   "metadata": {},
   "outputs": [],
   "source": []
  }
 ],
 "metadata": {
  "kernelspec": {
   "display_name": "Python 3",
   "language": "python",
   "name": "python3"
  },
  "language_info": {
   "codemirror_mode": {
    "name": "ipython",
    "version": 3
   },
   "file_extension": ".py",
   "mimetype": "text/x-python",
   "name": "python",
   "nbconvert_exporter": "python",
   "pygments_lexer": "ipython3",
   "version": "3.6.5"
  }
 },
 "nbformat": 4,
 "nbformat_minor": 2
}
