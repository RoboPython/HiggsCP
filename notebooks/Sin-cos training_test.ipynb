{
 "cells": [
  {
   "cell_type": "code",
   "execution_count": 42,
   "metadata": {},
   "outputs": [],
   "source": [
    "import tensorflow as tf\n",
    "import matplotlib.pyplot as plt\n",
    "import numpy as np\n",
    "from tensorflow import keras"
   ]
  },
  {
   "cell_type": "code",
   "execution_count": 98,
   "metadata": {},
   "outputs": [],
   "source": [
    "def data_sample(feat_num=100):\n",
    "    arg_max = np.random.uniform(0, np.pi)\n",
    "    return np.array([np.cos(np.linspace(0, np.pi, feat_num)-arg_max)+1, np.array(arg_max)])"
   ]
  },
  {
   "cell_type": "code",
   "execution_count": 99,
   "metadata": {},
   "outputs": [
    {
     "data": {
      "text/plain": [
       "[<matplotlib.lines.Line2D at 0xb2ae34828>]"
      ]
     },
     "execution_count": 99,
     "metadata": {},
     "output_type": "execute_result"
    },
    {
     "data": {
      "image/png": "[encoded data removed]",
      "text/plain": [
       "<Figure size 432x288 with 1 Axes>"
      ]
     },
     "metadata": {},
     "output_type": "display_data"
    }
   ],
   "source": [
    "plt.plot(data_sample()[0])"
   ]
  },
  {
   "cell_type": "code",
   "execution_count": 101,
   "metadata": {},
   "outputs": [
    {
     "data": {
      "text/plain": [
       "array([array([0.27188742, 0.29400215, 0.31682776, 0.34034126, 0.36451898,\n",
       "       0.38933658, 0.41476906, 0.44079083, 0.46737567, 0.49449681,\n",
       "       0.52212696, 0.55023828, 0.57880248, 0.60779078, 0.63717401,\n",
       "       0.66692257, 0.69700651, 0.72739554, 0.75805906, 0.7889662 ,\n",
       "       0.82008583, 0.85138661, 0.88283704, 0.91440544, 0.94606003,\n",
       "       0.97776893, 1.00950021, 1.04122193, 1.07290214, 1.10450895,\n",
       "       1.13601052, 1.16737514, 1.19857123, 1.22956738, 1.26033237,\n",
       "       1.29083523, 1.32104524, 1.35093199, 1.38046537, 1.40961567,\n",
       "       1.43835351, 1.46664997, 1.49447655, 1.52180523, 1.5486085 ,\n",
       "       1.57485937, 1.60053141, 1.62559876, 1.65003619, 1.67381908,\n",
       "       1.6969235 , 1.71932617, 1.74100454, 1.76193678, 1.78210182,\n",
       "       1.80147935, 1.82004985, 1.83779464, 1.85469584, 1.87073643,\n",
       "       1.88590026, 1.90017207, 1.91353748, 1.92598303, 1.9374962 ,\n",
       "       1.94806539, 1.95767995, 1.96633022, 1.97400747, 1.98070398,\n",
       "       1.986413  , 1.99112879, 1.9948466 , 1.99756268, 1.9992743 ,\n",
       "       1.99997974, 1.99967828, 1.99837022, 1.9960569 , 1.99274063,\n",
       "       1.98842475, 1.98311362, 1.97681257, 1.96952795, 1.96126711,\n",
       "       1.95203834, 1.94185096, 1.93071521, 1.91864231, 1.90564442,\n",
       "       1.89173461, 1.87692691, 1.86123622, 1.84467833, 1.82726993,\n",
       "       1.80902853, 1.78997251, 1.77012106, 1.74949415, 1.72811258]),\n",
       "       array(2.38636071)], dtype=object)"
      ]
     },
     "execution_count": 101,
     "metadata": {},
     "output_type": "execute_result"
    }
   ],
   "source": [
    "data_sample()"
   ]
  },
  {
   "cell_type": "code",
   "execution_count": 116,
   "metadata": {},
   "outputs": [],
   "source": [
    "dataset = np.stack(list(data_sample() for i in range(10000)))"
   ]
  },
  {
   "cell_type": "code",
   "execution_count": 117,
   "metadata": {},
   "outputs": [],
   "source": [
    "X_train = dataset[:, 0]"
   ]
  },
  {
   "cell_type": "code",
   "execution_count": 118,
   "metadata": {},
   "outputs": [],
   "source": [
    "y_train = dataset[:, 1]"
   ]
  },
  {
   "cell_type": "code",
   "execution_count": 119,
   "metadata": {},
   "outputs": [],
   "source": [
    "X_train = np.stack(X_train)"
   ]
  },
  {
   "cell_type": "code",
   "execution_count": 121,
   "metadata": {},
   "outputs": [],
   "source": [
    "y_train = np.stack(y_train)"
   ]
  },
  {
   "cell_type": "code",
   "execution_count": 123,
   "metadata": {},
   "outputs": [
    {
     "data": {
      "text/plain": [
       "(10000, 100)"
      ]
     },
     "execution_count": 123,
     "metadata": {},
     "output_type": "execute_result"
    }
   ],
   "source": [
    "X_train.shape"
   ]
  },
  {
   "cell_type": "code",
   "execution_count": 124,
   "metadata": {},
   "outputs": [
    {
     "data": {
      "text/plain": [
       "(10000,)"
      ]
     },
     "execution_count": 124,
     "metadata": {},
     "output_type": "execute_result"
    }
   ],
   "source": [
    "y_train.shape"
   ]
  },
  {
   "cell_type": "code",
   "execution_count": 125,
   "metadata": {},
   "outputs": [],
   "source": [
    "model = keras.Sequential([\n",
    "    keras.layers.Dense(300, activation=tf.nn.relu),\n",
    "    keras.layers.Dense(300, activation=tf.nn.relu),\n",
    "    keras.layers.Dense(300, activation=tf.nn.relu),\n",
    "    keras.layers.Dense(1, activation=tf.nn.tanh)\n",
    "])"
   ]
  },
  {
   "cell_type": "code",
   "execution_count": 129,
   "metadata": {},
   "outputs": [],
   "source": [
    "model.compile(optimizer='adam', \n",
    "              loss='mean_squared_error',\n",
    "              metrics=['mse'])"
   ]
  },
  {
   "cell_type": "code",
   "execution_count": 130,
   "metadata": {},
   "outputs": [
    {
     "name": "stdout",
     "output_type": "stream",
     "text": [
      "Epoch 1/5\n",
      "10000/10000 [==============================] - 8s 808us/step - loss: 1.1535 - mean_squared_error: 1.1535\n",
      "Epoch 2/5\n",
      "10000/10000 [==============================] - 7s 725us/step - loss: 1.1501 - mean_squared_error: 1.1501\n",
      "Epoch 3/5\n",
      "10000/10000 [==============================] - 7s 735us/step - loss: 1.1501 - mean_squared_error: 1.1501\n",
      "Epoch 4/5\n",
      "10000/10000 [==============================] - 8s 777us/step - loss: 1.1499 - mean_squared_error: 1.1499\n",
      "Epoch 5/5\n",
      "10000/10000 [==============================] - 10s 1ms/step - loss: 1.1501 - mean_squared_error: 1.1501\n"
     ]
    },
    {
     "data": {
      "text/plain": [
       "<tensorflow.python.keras.callbacks.History at 0xb2b00c5f8>"
      ]
     },
     "execution_count": 130,
     "metadata": {},
     "output_type": "execute_result"
    }
   ],
   "source": [
    "model.fit(X_train, y_train, epochs=5)"
   ]
  },
  {
   "cell_type": "code",
   "execution_count": null,
   "metadata": {},
   "outputs": [],
   "source": []
  }
 ],
 "metadata": {
  "kernelspec": {
   "display_name": "Python 3",
   "language": "python",
   "name": "python3"
  },
  "language_info": {
   "codemirror_mode": {
    "name": "ipython",
    "version": 3
   },
   "file_extension": ".py",
   "mimetype": "text/x-python",
   "name": "python",
   "nbconvert_exporter": "python",
   "pygments_lexer": "ipython3",
   "version": "3.6.5"
  }
 },
 "nbformat": 4,
 "nbformat_minor": 2
}
