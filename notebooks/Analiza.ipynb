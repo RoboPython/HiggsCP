{
 "cells": [
  {
   "cell_type": "markdown",
   "metadata": {},
   "source": [
    "# Load data"
   ]
  },
  {
   "cell_type": "code",
   "execution_count": 2,
   "metadata": {},
   "outputs": [],
   "source": [
    "import sys\n",
    "import os\n",
    "import numpy as np\n",
    "import matplotlib.pyplot as plt\n",
    "from scipy import optimize\n",
    "\n",
    "\n",
    "sys.path.append(os.path.abspath('./ml_higgs-master/'))"
   ]
  },
  {
   "cell_type": "code",
   "execution_count": 277,
   "metadata": {},
   "outputs": [],
   "source": [
    "def find_first_line(lines, phrase):\n",
    "    for i, line in enumerate(lines):\n",
    "        if phrase in line:\n",
    "            return i\n",
    "\n",
    "\n",
    "def read_raw_root(name, num_particles):\n",
    "    with open(name) as f:\n",
    "        lines = f.readlines()\n",
    "    # Filter out unnecessary lines.\n",
    "    # The interesting lines start with the first \"TUPLE\" and end at \"Analysed in total\".\n",
    "    lines = lines[find_first_line(lines, \"TUPLE\"):find_first_line(lines, \"Analysed in total:\")]\n",
    "    # Ignore debug lines.\n",
    "    lines = [line for line in lines if not line.startswith(\"Analysed:\")]\n",
    "    # Find ids of lines that start descriptions of examples.\n",
    "    ids = [int(idx) for idx, line in enumerate(lines) if line.startswith(\"TUPLE\")]\n",
    "    # Ensure that there are `num_particles` particles for each example.\n",
    "    assert ids == list(range(0, num_particles * len(ids), num_particles))\n",
    "    print(len(lines), len(ids)*num_particles)\n",
    "    # If the numbers are not equal, check the last lines of pythia file \n",
    "    assert len(lines) == num_particles * len(ids)\n",
    "    lines = [line.strip() for line in lines]\n",
    "\n",
    "    num_examples = len(ids)\n",
    "\n",
    "    weights = [float(lines[num_particles * i].strip().split()[1]) for i in range(num_examples)]\n",
    "    weights = np.array(weights)\n",
    "\n",
    "    values = [list(map(float, \" \".join(lines[num_particles * i + 1: num_particles * (i + 1)]).split()))\n",
    "              for i in range(num_examples)]\n",
    "    values = np.array(values)\n",
    "\n",
    "    return values, weights"
   ]
  },
  {
   "cell_type": "code",
   "execution_count": 278,
   "metadata": {},
   "outputs": [
    {
     "name": "stdout",
     "output_type": "stream",
     "text": [
      "7000000 7000000\n"
     ]
    }
   ],
   "source": [
    "data, weights = read_raw_root('./pythia.H.rhorho.1M.a.scalar.outTUPLE_labFrame', num_particles=7)\n",
    "concat = np.concatenate((data, weights.reshape(-1, 1)), axis=1)\n",
    "np.save('rhorho.scalar.npy', concat)"
   ]
  },
  {
   "cell_type": "code",
   "execution_count": 279,
   "metadata": {},
   "outputs": [
    {
     "name": "stdout",
     "output_type": "stream",
     "text": [
      "7000000 7000000\n"
     ]
    },
    {
     "ename": "KeyboardInterrupt",
     "evalue": "",
     "output_type": "error",
     "traceback": [
      "\u001b[0;31m---------------------------------------------------------------------------\u001b[0m",
      "\u001b[0;31mKeyboardInterrupt\u001b[0m                         Traceback (most recent call last)",
      "\u001b[0;32m<ipython-input-279-4e705e1341a5>\u001b[0m in \u001b[0;36m<module>\u001b[0;34m()\u001b[0m\n\u001b[1;32m      1\u001b[0m \u001b[0mdata\u001b[0m\u001b[0;34m,\u001b[0m \u001b[0mweights\u001b[0m \u001b[0;34m=\u001b[0m \u001b[0mread_raw_root\u001b[0m\u001b[0;34m(\u001b[0m\u001b[0;34m'./pythia.H.rhorho.1M.a.pseudoscalar.outTUPLE_labFrame'\u001b[0m\u001b[0;34m,\u001b[0m \u001b[0mnum_particles\u001b[0m\u001b[0;34m=\u001b[0m\u001b[0;36m7\u001b[0m\u001b[0;34m)\u001b[0m\u001b[0;34m\u001b[0m\u001b[0m\n\u001b[0;32m----> 2\u001b[0;31m \u001b[0mconcat\u001b[0m \u001b[0;34m=\u001b[0m \u001b[0mnp\u001b[0m\u001b[0;34m.\u001b[0m\u001b[0mconcatenate\u001b[0m\u001b[0;34m(\u001b[0m\u001b[0;34m(\u001b[0m\u001b[0mdata\u001b[0m\u001b[0;34m,\u001b[0m \u001b[0mweights\u001b[0m\u001b[0;34m.\u001b[0m\u001b[0mreshape\u001b[0m\u001b[0;34m(\u001b[0m\u001b[0;34m-\u001b[0m\u001b[0;36m1\u001b[0m\u001b[0;34m,\u001b[0m \u001b[0;36m1\u001b[0m\u001b[0;34m)\u001b[0m\u001b[0;34m)\u001b[0m\u001b[0;34m,\u001b[0m \u001b[0maxis\u001b[0m\u001b[0;34m=\u001b[0m\u001b[0;36m1\u001b[0m\u001b[0;34m)\u001b[0m\u001b[0;34m\u001b[0m\u001b[0m\n\u001b[0m\u001b[1;32m      3\u001b[0m \u001b[0mnp\u001b[0m\u001b[0;34m.\u001b[0m\u001b[0msave\u001b[0m\u001b[0;34m(\u001b[0m\u001b[0;34m'rhorho.pseudoscalar.npy'\u001b[0m\u001b[0;34m,\u001b[0m \u001b[0mconcat\u001b[0m\u001b[0;34m)\u001b[0m\u001b[0;34m\u001b[0m\u001b[0m\n",
      "\u001b[0;31mKeyboardInterrupt\u001b[0m: "
     ]
    }
   ],
   "source": [
    "data, weights = read_raw_root('./pythia.H.rhorho.1M.a.pseudoscalar.outTUPLE_labFrame', num_particles=7)\n",
    "concat = np.concatenate((data, weights.reshape(-1, 1)), axis=1)\n",
    "np.save('rhorho.pseudoscalar.npy', concat)"
   ]
  },
  {
   "cell_type": "code",
   "execution_count": null,
   "metadata": {},
   "outputs": [],
   "source": [
    "data, weights = read_raw_root('./pythia.H.rhorho.1M.a.CPmix_02.outTUPLE_labFrame', num_particles=7)\n",
    "concat = np.concatenate((data, weights.reshape(-1, 1)), axis=1)\n",
    "np.save('rhorho.CPmix_02.npy', concat)"
   ]
  },
  {
   "cell_type": "code",
   "execution_count": null,
   "metadata": {},
   "outputs": [],
   "source": [
    "data, weights = read_raw_root('./pythia.H.rhorho.1M.a.CPmix_03.outTUPLE_labFrame', num_particles=7)\n",
    "concat = np.concatenate((data, weights.reshape(-1, 1)), axis=1)\n",
    "np.save('rhorho.CPmix_03.npy', concat)"
   ]
  },
  {
   "cell_type": "code",
   "execution_count": null,
   "metadata": {},
   "outputs": [],
   "source": [
    "data, weights = read_raw_root('./pythia.H.rhorho.1M.a.CPmix_04.outTUPLE_labFrame', num_particles=7)\n",
    "concat = np.concatenate((data, weights.reshape(-1, 1)), axis=1)\n",
    "np.save('rhorho.CPmix_04.npy', concat)"
   ]
  },
  {
   "cell_type": "markdown",
   "metadata": {},
   "source": [
    "# Prepare"
   ]
  },
  {
   "cell_type": "code",
   "execution_count": 280,
   "metadata": {},
   "outputs": [],
   "source": [
    "concat = np.load('rhorho.scalar.npy')"
   ]
  },
  {
   "cell_type": "code",
   "execution_count": 281,
   "metadata": {},
   "outputs": [],
   "source": [
    "data, weights = concat[:, :30], concat[:, 30]"
   ]
  },
  {
   "cell_type": "code",
   "execution_count": 282,
   "metadata": {},
   "outputs": [],
   "source": [
    "from particle import Particle\n",
    "\n",
    "p = [Particle(data[:, 5 * i:5 * i + 4]) for i in range(6)]"
   ]
  },
  {
   "cell_type": "code",
   "execution_count": 283,
   "metadata": {},
   "outputs": [
    {
     "data": {
      "text/plain": [
       "(1000000,)"
      ]
     },
     "execution_count": 283,
     "metadata": {},
     "output_type": "execute_result"
    }
   ],
   "source": [
    "p[0].x.shape"
   ]
  },
  {
   "cell_type": "code",
   "execution_count": 284,
   "metadata": {},
   "outputs": [
    {
     "data": {
      "text/plain": [
       "(array([  2.,   4.,  10.,  26., 119., 564., 199.,  50.,  20.,   6.]),\n",
       " array([-89.282576 , -73.5378398, -57.7931036, -42.0483674, -26.3036312,\n",
       "        -10.558895 ,   5.1858412,  20.9305774,  36.6753136,  52.4200498,\n",
       "         68.164786 ]),\n",
       " <a list of 10 Patch objects>)"
      ]
     },
     "execution_count": 284,
     "metadata": {},
     "output_type": "execute_result"
    },
    {
     "data": {
      "image/png": "[encoded data removed]",
      "text/plain": [
       "<Figure size 432x288 with 1 Axes>"
      ]
     },
     "metadata": {},
     "output_type": "display_data"
    }
   ],
   "source": [
    "plt.hist(np.random.choice(p[1].x,1000))"
   ]
  },
  {
   "cell_type": "code",
   "execution_count": 285,
   "metadata": {},
   "outputs": [
    {
     "data": {
      "text/plain": [
       "(array([101.,  88., 113.,  99., 117., 107.,  83., 113.,  94.,  85.]),\n",
       " array([0.00866289, 0.63560366, 1.26254442, 1.88948519, 2.51642596,\n",
       "        3.14336672, 3.77030749, 4.39724826, 5.02418903, 5.65112979,\n",
       "        6.27807056]),\n",
       " <a list of 10 Patch objects>)"
      ]
     },
     "execution_count": 285,
     "metadata": {},
     "output_type": "execute_result"
    },
    {
     "data": {
      "image/png": "[encoded data removed]",
      "text/plain": [
       "<Figure size 432x288 with 1 Axes>"
      ]
     },
     "metadata": {},
     "output_type": "display_data"
    }
   ],
   "source": [
    "plt.hist(np.random.choice(p[1].angle_phi,1000))"
   ]
  },
  {
   "cell_type": "code",
   "execution_count": 286,
   "metadata": {},
   "outputs": [
    {
     "data": {
      "text/plain": [
       "(array([756.,   0.,   0.,   0.,   0.,   0.,   0.,   0.,   0., 244.]),\n",
       " array([0.        , 0.62831853, 1.25663706, 1.88495559, 2.51327412,\n",
       "        3.14159265, 3.76991118, 4.39822972, 5.02654825, 5.65486678,\n",
       "        6.28318531]),\n",
       " <a list of 10 Patch objects>)"
      ]
     },
     "execution_count": 286,
     "metadata": {},
     "output_type": "execute_result"
    },
    {
     "data": {
      "image/png": "[encoded data removed]",
      "text/plain": [
       "<Figure size 432x288 with 1 Axes>"
      ]
     },
     "metadata": {},
     "output_type": "display_data"
    }
   ],
   "source": [
    "plt.hist(np.random.choice(p[1].rotate_xy(-p[1].angle_phi).angle_phi,1000))"
   ]
  },
  {
   "cell_type": "code",
   "execution_count": 287,
   "metadata": {},
   "outputs": [
    {
     "data": {
      "text/plain": [
       "(array([239., 104.,  59.,  51.,  40.,  49.,  42.,  69., 101., 246.]),\n",
       " array([6.89735627e-04, 3.14733762e-01, 6.28777789e-01, 9.42821815e-01,\n",
       "        1.25686584e+00, 1.57090987e+00, 1.88495390e+00, 2.19899792e+00,\n",
       "        2.51304195e+00, 2.82708598e+00, 3.14113000e+00]),\n",
       " <a list of 10 Patch objects>)"
      ]
     },
     "execution_count": 287,
     "metadata": {},
     "output_type": "execute_result"
    },
    {
     "data": {
      "image/png": "[encoded data removed]",
      "text/plain": [
       "<Figure size 432x288 with 1 Axes>"
      ]
     },
     "metadata": {},
     "output_type": "display_data"
    }
   ],
   "source": [
    "plt.hist(np.random.choice(p[1].angle_theta,1000))"
   ]
  },
  {
   "cell_type": "code",
   "execution_count": 288,
   "metadata": {},
   "outputs": [
    {
     "data": {
      "text/plain": [
       "(array([638., 137.,  84.,  61.,  34.,  17.,  13.,   5.,   7.,   4.]),\n",
       " array([1.80663384e-06, 1.30374308e-01, 2.60746810e-01, 3.91119311e-01,\n",
       "        5.21491813e-01, 6.51864315e-01, 7.82236816e-01, 9.12609318e-01,\n",
       "        1.04298182e+00, 1.17335432e+00, 1.30372682e+00]),\n",
       " <a list of 10 Patch objects>)"
      ]
     },
     "execution_count": 288,
     "metadata": {},
     "output_type": "execute_result"
    },
    {
     "data": {
      "image/png": "[encoded data removed]",
      "text/plain": [
       "<Figure size 432x288 with 1 Axes>"
      ]
     },
     "metadata": {},
     "output_type": "display_data"
    }
   ],
   "source": [
    "plt.hist(np.random.choice(p[1].rotate_xy(-p[1].angle_phi).rotate_xz(-p[1].angle_theta).angle_theta,1000))"
   ]
  },
  {
   "cell_type": "code",
   "execution_count": 289,
   "metadata": {},
   "outputs": [
    {
     "data": {
      "text/plain": [
       "(array([  2.,   1.,   4.,  20., 243., 682.,  34.,   7.,   3.,   4.]),\n",
       " array([-858.478746 , -689.3495262, -520.2203064, -351.0910866,\n",
       "        -181.9618668,  -12.832647 ,  156.2965728,  325.4257926,\n",
       "         494.5550124,  663.6842322,  832.813452 ]),\n",
       " <a list of 10 Patch objects>)"
      ]
     },
     "execution_count": 289,
     "metadata": {},
     "output_type": "execute_result"
    },
    {
     "data": {
      "image/png": "[encoded data removed]",
      "text/plain": [
       "<Figure size 432x288 with 1 Axes>"
      ]
     },
     "metadata": {},
     "output_type": "display_data"
    }
   ],
   "source": [
    "plt.hist(np.random.choice(p[1].z,1000))"
   ]
  },
  {
   "cell_type": "code",
   "execution_count": 290,
   "metadata": {},
   "outputs": [
    {
     "data": {
      "text/plain": [
       "(array([  1.,   3.,  13.,  56., 815.,  77.,  24.,   7.,   2.,   2.]),\n",
       " array([-779.52599106, -602.96989598, -426.4138009 , -249.85770581,\n",
       "         -73.30161073,  103.25448436,  279.81057944,  456.36667453,\n",
       "         632.92276961,  809.47886469,  986.03495978]),\n",
       " <a list of 10 Patch objects>)"
      ]
     },
     "execution_count": 290,
     "metadata": {},
     "output_type": "execute_result"
    },
    {
     "data": {
      "image/png": "[encoded data removed]",
      "text/plain": [
       "<Figure size 432x288 with 1 Axes>"
      ]
     },
     "metadata": {},
     "output_type": "display_data"
    }
   ],
   "source": [
    "plt.hist(np.random.choice(p[1].boost_along_z(30, 100).z,1000))"
   ]
  },
  {
   "cell_type": "code",
   "execution_count": null,
   "metadata": {},
   "outputs": [],
   "source": []
  },
  {
   "cell_type": "code",
   "execution_count": null,
   "metadata": {},
   "outputs": [],
   "source": []
  },
  {
   "cell_type": "code",
   "execution_count": null,
   "metadata": {},
   "outputs": [],
   "source": []
  },
  {
   "cell_type": "code",
   "execution_count": null,
   "metadata": {},
   "outputs": [],
   "source": []
  },
  {
   "cell_type": "code",
   "execution_count": null,
   "metadata": {},
   "outputs": [],
   "source": []
  },
  {
   "cell_type": "code",
   "execution_count": null,
   "metadata": {},
   "outputs": [],
   "source": []
  },
  {
   "cell_type": "code",
   "execution_count": null,
   "metadata": {},
   "outputs": [],
   "source": []
  },
  {
   "cell_type": "code",
   "execution_count": 291,
   "metadata": {},
   "outputs": [
    {
     "data": {
      "text/plain": [
       "(array([809., 109.,  34.,  23.,   6.,  10.,   3.,   0.,   3.,   3.]),\n",
       " array([4.48458000e-01, 9.08259388e+01, 1.81203420e+02, 2.71580900e+02,\n",
       "        3.61958381e+02, 4.52335862e+02, 5.42713343e+02, 6.33090824e+02,\n",
       "        7.23468304e+02, 8.13845785e+02, 9.04223266e+02]),\n",
       " <a list of 10 Patch objects>)"
      ]
     },
     "execution_count": 291,
     "metadata": {},
     "output_type": "execute_result"
    },
    {
     "data": {
      "image/png": "[encoded data removed]",
      "text/plain": [
       "<Figure size 432x288 with 1 Axes>"
      ]
     },
     "metadata": {},
     "output_type": "display_data"
    }
   ],
   "source": [
    "plt.hist(np.random.choice(p[1].e, 1000))"
   ]
  },
  {
   "cell_type": "code",
   "execution_count": null,
   "metadata": {},
   "outputs": [],
   "source": []
  },
  {
   "cell_type": "code",
   "execution_count": null,
   "metadata": {},
   "outputs": [],
   "source": []
  },
  {
   "cell_type": "code",
   "execution_count": null,
   "metadata": {},
   "outputs": [],
   "source": []
  },
  {
   "cell_type": "code",
   "execution_count": null,
   "metadata": {},
   "outputs": [],
   "source": []
  },
  {
   "cell_type": "code",
   "execution_count": null,
   "metadata": {},
   "outputs": [],
   "source": []
  },
  {
   "cell_type": "code",
   "execution_count": null,
   "metadata": {},
   "outputs": [],
   "source": []
  },
  {
   "cell_type": "code",
   "execution_count": null,
   "metadata": {},
   "outputs": [],
   "source": []
  },
  {
   "cell_type": "code",
   "execution_count": null,
   "metadata": {},
   "outputs": [],
   "source": []
  },
  {
   "cell_type": "code",
   "execution_count": null,
   "metadata": {},
   "outputs": [],
   "source": []
  },
  {
   "cell_type": "markdown",
   "metadata": {},
   "source": [
    "# CP-mix dependencies"
   ]
  },
  {
   "cell_type": "code",
   "execution_count": 13,
   "metadata": {},
   "outputs": [
    {
     "data": {
      "text/plain": [
       "[(0, 'rhorho.scalar.npy'),\n",
       " (0.2, 'rhorho.CPmix_02.npy'),\n",
       " (0.3, 'rhorho.CPmix_03.npy'),\n",
       " (0.4, 'rhorho.CPmix_04.npy'),\n",
       " (1, 'rhorho.pseudoscalar.npy')]"
      ]
     },
     "execution_count": 13,
     "metadata": {},
     "output_type": "execute_result"
    }
   ],
   "source": [
    "data = [(0, 'rhorho.scalar.npy') , (0.2, 'rhorho.CPmix_02.npy'), (0.3, 'rhorho.CPmix_03.npy'), (0.4, 'rhorho.CPmix_04.npy'), (1, 'rhorho.pseudoscalar.npy')]\n",
    "data"
   ]
  },
  {
   "cell_type": "code",
   "execution_count": null,
   "metadata": {},
   "outputs": [],
   "source": []
  },
  {
   "cell_type": "code",
   "execution_count": 14,
   "metadata": {},
   "outputs": [],
   "source": [
    "def get_weigths(name):\n",
    "    concat = np.load(name)\n",
    "    weights = concat[:, 30]\n",
    "    return np.array(weights)"
   ]
  },
  {
   "cell_type": "code",
   "execution_count": 15,
   "metadata": {},
   "outputs": [],
   "source": [
    "w = np.vstack([get_weigths(name) for i, name in data])\n",
    "    "
   ]
  },
  {
   "cell_type": "code",
   "execution_count": 17,
   "metadata": {},
   "outputs": [
    {
     "data": {
      "text/plain": [
       "(5, 1000000)"
      ]
     },
     "execution_count": 17,
     "metadata": {},
     "output_type": "execute_result"
    }
   ],
   "source": [
    "w.shape"
   ]
  },
  {
   "cell_type": "code",
   "execution_count": 21,
   "metadata": {},
   "outputs": [
    {
     "data": {
      "text/plain": [
       "(array([281953.,      0.,  47797.,      0.,      0.,  32074.,      0.,\n",
       "        202587.,      0., 435589.]),\n",
       " array([0. , 0.4, 0.8, 1.2, 1.6, 2. , 2.4, 2.8, 3.2, 3.6, 4. ]),\n",
       " <a list of 10 Patch objects>)"
      ]
     },
     "execution_count": 21,
     "metadata": {},
     "output_type": "execute_result"
    },
    {
     "data": {
      "image/png": "[encoded data removed]",
      "text/plain": [
       "<Figure size 432x288 with 1 Axes>"
      ]
     },
     "metadata": {},
     "output_type": "display_data"
    }
   ],
   "source": [
    "plt.hist(np.argmax(w, axis=0))"
   ]
  },
  {
   "cell_type": "code",
   "execution_count": null,
   "metadata": {},
   "outputs": [],
   "source": [
    "data = ['/Users/msadowski/Downloads/rhorho_raw.w_00.npy', '/Users/msadowski/Downloads/rhorho_raw.w_01.npy', '/Users/msadowski/Downloads/rhorho_raw.w_00.npy']"
   ]
  },
  {
   "cell_type": "code",
   "execution_count": 6,
   "metadata": {},
   "outputs": [],
   "source": [
    "x = np.array([0, 0.2, 0.3, 0.4, 1]) "
   ]
  },
  {
   "cell_type": "code",
   "execution_count": 7,
   "metadata": {},
   "outputs": [],
   "source": [
    "i = 209"
   ]
  },
  {
   "cell_type": "code",
   "execution_count": 8,
   "metadata": {},
   "outputs": [],
   "source": [
    "def weight_fun(x, a, b, c):\n",
    "    x = x*np.pi/2\n",
    "    return a + b*np.cos(2*x) + c*np.sin(2*x)"
   ]
  },
  {
   "cell_type": "code",
   "execution_count": 9,
   "metadata": {},
   "outputs": [],
   "source": [
    "popt, pcov = optimize.curve_fit(weight_fun, x, w[:, i], p0=[1, 1, 1])"
   ]
  },
  {
   "cell_type": "code",
   "execution_count": 13,
   "metadata": {},
   "outputs": [
    {
     "name": "stdout",
     "output_type": "stream",
     "text": [
      "[ 0.68201258 -0.28323763  0.10515595]\n"
     ]
    },
    {
     "data": {
      "image/png": "[encoded data removed]",
      "text/plain": [
       "<Figure size 432x288 with 1 Axes>"
      ]
     },
     "metadata": {},
     "output_type": "display_data"
    }
   ],
   "source": [
    "plt.plot(x, w[:, i], 'bo')\n",
    "xw = np.array([0.1, 0.5, 0.6, 0.7, 0.8, 0.9])\n",
    "plt.plot(xw, weight_fun(xw, *popt), 'bo')\n",
    "x_ = np.linspace(0, 1)\n",
    "plt.plot(x_, weight_fun(x_, *popt), 'g')\n",
    "plt.ylabel('w')\n",
    "plt.xlabel('2\\u03A6/\\u03C0')\n",
    "print(popt)"
   ]
  },
  {
   "cell_type": "code",
   "execution_count": null,
   "metadata": {},
   "outputs": [],
   "source": [
    "maxi = np.arctan(-0.12981862/-0.49801906)\n",
    "maxi + np.pi"
   ]
  },
  {
   "cell_type": "code",
   "execution_count": 302,
   "metadata": {},
   "outputs": [
    {
     "name": "stdout",
     "output_type": "stream",
     "text": [
      "160000\r"
     ]
    },
    {
     "ename": "KeyboardInterrupt",
     "evalue": "",
     "output_type": "error",
     "traceback": [
      "\u001b[0;31m---------------------------------------------------------------------------\u001b[0m",
      "\u001b[0;31mKeyboardInterrupt\u001b[0m                         Traceback (most recent call last)",
      "\u001b[0;32m<ipython-input-302-83792e3da995>\u001b[0m in \u001b[0;36m<module>\u001b[0;34m()\u001b[0m\n\u001b[1;32m      2\u001b[0m \u001b[0mw8\u001b[0m \u001b[0;34m=\u001b[0m \u001b[0;34m[\u001b[0m\u001b[0;34m]\u001b[0m\u001b[0;34m\u001b[0m\u001b[0m\n\u001b[1;32m      3\u001b[0m \u001b[0;32mfor\u001b[0m \u001b[0mi\u001b[0m \u001b[0;32min\u001b[0m \u001b[0mrange\u001b[0m\u001b[0;34m(\u001b[0m\u001b[0mw\u001b[0m\u001b[0;34m.\u001b[0m\u001b[0mshape\u001b[0m\u001b[0;34m[\u001b[0m\u001b[0;36m1\u001b[0m\u001b[0;34m]\u001b[0m\u001b[0;34m)\u001b[0m\u001b[0;34m:\u001b[0m\u001b[0;34m\u001b[0m\u001b[0m\n\u001b[0;32m----> 4\u001b[0;31m     \u001b[0mpopt\u001b[0m\u001b[0;34m,\u001b[0m \u001b[0mpcov\u001b[0m \u001b[0;34m=\u001b[0m \u001b[0moptimize\u001b[0m\u001b[0;34m.\u001b[0m\u001b[0mcurve_fit\u001b[0m\u001b[0;34m(\u001b[0m\u001b[0mweight_fun\u001b[0m\u001b[0;34m,\u001b[0m \u001b[0mx\u001b[0m\u001b[0;34m,\u001b[0m \u001b[0mw\u001b[0m\u001b[0;34m[\u001b[0m\u001b[0;34m:\u001b[0m\u001b[0;34m,\u001b[0m \u001b[0mi\u001b[0m\u001b[0;34m]\u001b[0m\u001b[0;34m,\u001b[0m \u001b[0mp0\u001b[0m\u001b[0;34m=\u001b[0m\u001b[0;34m[\u001b[0m\u001b[0;36m1\u001b[0m\u001b[0;34m,\u001b[0m \u001b[0;36m1\u001b[0m\u001b[0;34m,\u001b[0m \u001b[0;36m1\u001b[0m\u001b[0;34m]\u001b[0m\u001b[0;34m)\u001b[0m\u001b[0;34m\u001b[0m\u001b[0m\n\u001b[0m\u001b[1;32m      5\u001b[0m     \u001b[0mw6\u001b[0m\u001b[0;34m.\u001b[0m\u001b[0mappend\u001b[0m\u001b[0;34m(\u001b[0m\u001b[0mweight_fun\u001b[0m\u001b[0;34m(\u001b[0m\u001b[0;36m0.6\u001b[0m\u001b[0;34m*\u001b[0m\u001b[0mnp\u001b[0m\u001b[0;34m.\u001b[0m\u001b[0mpi\u001b[0m\u001b[0;34m/\u001b[0m\u001b[0;36m2\u001b[0m\u001b[0;34m,\u001b[0m \u001b[0;34m*\u001b[0m\u001b[0mpopt\u001b[0m\u001b[0;34m)\u001b[0m\u001b[0;34m)\u001b[0m\u001b[0;34m\u001b[0m\u001b[0m\n\u001b[1;32m      6\u001b[0m     \u001b[0mw8\u001b[0m\u001b[0;34m.\u001b[0m\u001b[0mappend\u001b[0m\u001b[0;34m(\u001b[0m\u001b[0mweight_fun\u001b[0m\u001b[0;34m(\u001b[0m\u001b[0;36m0.6\u001b[0m\u001b[0;34m*\u001b[0m\u001b[0mnp\u001b[0m\u001b[0;34m.\u001b[0m\u001b[0mpi\u001b[0m\u001b[0;34m/\u001b[0m\u001b[0;36m2\u001b[0m\u001b[0;34m,\u001b[0m \u001b[0;34m*\u001b[0m\u001b[0mpopt\u001b[0m\u001b[0;34m)\u001b[0m\u001b[0;34m)\u001b[0m\u001b[0;34m\u001b[0m\u001b[0m\n",
      "\u001b[0;32m/anaconda3/lib/python3.6/site-packages/scipy/optimize/minpack.py\u001b[0m in \u001b[0;36mcurve_fit\u001b[0;34m(f, xdata, ydata, p0, sigma, absolute_sigma, check_finite, bounds, method, jac, **kwargs)\u001b[0m\n\u001b[1;32m    749\u001b[0m         \u001b[0;31m# Remove full_output from kwargs, otherwise we're passing it in twice.\u001b[0m\u001b[0;34m\u001b[0m\u001b[0;34m\u001b[0m\u001b[0m\n\u001b[1;32m    750\u001b[0m         \u001b[0mreturn_full\u001b[0m \u001b[0;34m=\u001b[0m \u001b[0mkwargs\u001b[0m\u001b[0;34m.\u001b[0m\u001b[0mpop\u001b[0m\u001b[0;34m(\u001b[0m\u001b[0;34m'full_output'\u001b[0m\u001b[0;34m,\u001b[0m \u001b[0;32mFalse\u001b[0m\u001b[0;34m)\u001b[0m\u001b[0;34m\u001b[0m\u001b[0m\n\u001b[0;32m--> 751\u001b[0;31m         \u001b[0mres\u001b[0m \u001b[0;34m=\u001b[0m \u001b[0mleastsq\u001b[0m\u001b[0;34m(\u001b[0m\u001b[0mfunc\u001b[0m\u001b[0;34m,\u001b[0m \u001b[0mp0\u001b[0m\u001b[0;34m,\u001b[0m \u001b[0mDfun\u001b[0m\u001b[0;34m=\u001b[0m\u001b[0mjac\u001b[0m\u001b[0;34m,\u001b[0m \u001b[0mfull_output\u001b[0m\u001b[0;34m=\u001b[0m\u001b[0;36m1\u001b[0m\u001b[0;34m,\u001b[0m \u001b[0;34m**\u001b[0m\u001b[0mkwargs\u001b[0m\u001b[0;34m)\u001b[0m\u001b[0;34m\u001b[0m\u001b[0m\n\u001b[0m\u001b[1;32m    752\u001b[0m         \u001b[0mpopt\u001b[0m\u001b[0;34m,\u001b[0m \u001b[0mpcov\u001b[0m\u001b[0;34m,\u001b[0m \u001b[0minfodict\u001b[0m\u001b[0;34m,\u001b[0m \u001b[0merrmsg\u001b[0m\u001b[0;34m,\u001b[0m \u001b[0mier\u001b[0m \u001b[0;34m=\u001b[0m \u001b[0mres\u001b[0m\u001b[0;34m\u001b[0m\u001b[0m\n\u001b[1;32m    753\u001b[0m         \u001b[0mcost\u001b[0m \u001b[0;34m=\u001b[0m \u001b[0mnp\u001b[0m\u001b[0;34m.\u001b[0m\u001b[0msum\u001b[0m\u001b[0;34m(\u001b[0m\u001b[0minfodict\u001b[0m\u001b[0;34m[\u001b[0m\u001b[0;34m'fvec'\u001b[0m\u001b[0;34m]\u001b[0m \u001b[0;34m**\u001b[0m \u001b[0;36m2\u001b[0m\u001b[0;34m)\u001b[0m\u001b[0;34m\u001b[0m\u001b[0m\n",
      "\u001b[0;32m/anaconda3/lib/python3.6/site-packages/scipy/optimize/minpack.py\u001b[0m in \u001b[0;36mleastsq\u001b[0;34m(func, x0, args, Dfun, full_output, col_deriv, ftol, xtol, gtol, maxfev, epsfcn, factor, diag)\u001b[0m\n\u001b[1;32m    450\u001b[0m             \u001b[0mR\u001b[0m \u001b[0;34m=\u001b[0m \u001b[0mdot\u001b[0m\u001b[0;34m(\u001b[0m\u001b[0mr\u001b[0m\u001b[0;34m,\u001b[0m \u001b[0mperm\u001b[0m\u001b[0;34m)\u001b[0m\u001b[0;34m\u001b[0m\u001b[0m\n\u001b[1;32m    451\u001b[0m             \u001b[0;32mtry\u001b[0m\u001b[0;34m:\u001b[0m\u001b[0;34m\u001b[0m\u001b[0m\n\u001b[0;32m--> 452\u001b[0;31m                 \u001b[0mcov_x\u001b[0m \u001b[0;34m=\u001b[0m \u001b[0minv\u001b[0m\u001b[0;34m(\u001b[0m\u001b[0mdot\u001b[0m\u001b[0;34m(\u001b[0m\u001b[0mtranspose\u001b[0m\u001b[0;34m(\u001b[0m\u001b[0mR\u001b[0m\u001b[0;34m)\u001b[0m\u001b[0;34m,\u001b[0m \u001b[0mR\u001b[0m\u001b[0;34m)\u001b[0m\u001b[0;34m)\u001b[0m\u001b[0;34m\u001b[0m\u001b[0m\n\u001b[0m\u001b[1;32m    453\u001b[0m             \u001b[0;32mexcept\u001b[0m \u001b[0;34m(\u001b[0m\u001b[0mLinAlgError\u001b[0m\u001b[0;34m,\u001b[0m \u001b[0mValueError\u001b[0m\u001b[0;34m)\u001b[0m\u001b[0;34m:\u001b[0m\u001b[0;34m\u001b[0m\u001b[0m\n\u001b[1;32m    454\u001b[0m                 \u001b[0;32mpass\u001b[0m\u001b[0;34m\u001b[0m\u001b[0m\n",
      "\u001b[0;32m/anaconda3/lib/python3.6/site-packages/scipy/linalg/basic.py\u001b[0m in \u001b[0;36minv\u001b[0;34m(a, overwrite_a, check_finite)\u001b[0m\n\u001b[1;32m    959\u001b[0m     getrf, getri, getri_lwork = get_lapack_funcs(('getrf', 'getri',\n\u001b[1;32m    960\u001b[0m                                                   'getri_lwork'),\n\u001b[0;32m--> 961\u001b[0;31m                                                  (a1,))\n\u001b[0m\u001b[1;32m    962\u001b[0m     \u001b[0mlu\u001b[0m\u001b[0;34m,\u001b[0m \u001b[0mpiv\u001b[0m\u001b[0;34m,\u001b[0m \u001b[0minfo\u001b[0m \u001b[0;34m=\u001b[0m \u001b[0mgetrf\u001b[0m\u001b[0;34m(\u001b[0m\u001b[0ma1\u001b[0m\u001b[0;34m,\u001b[0m \u001b[0moverwrite_a\u001b[0m\u001b[0;34m=\u001b[0m\u001b[0moverwrite_a\u001b[0m\u001b[0;34m)\u001b[0m\u001b[0;34m\u001b[0m\u001b[0m\n\u001b[1;32m    963\u001b[0m     \u001b[0;32mif\u001b[0m \u001b[0minfo\u001b[0m \u001b[0;34m==\u001b[0m \u001b[0;36m0\u001b[0m\u001b[0;34m:\u001b[0m\u001b[0;34m\u001b[0m\u001b[0m\n",
      "\u001b[0;32m/anaconda3/lib/python3.6/site-packages/scipy/linalg/lapack.py\u001b[0m in \u001b[0;36mget_lapack_funcs\u001b[0;34m(names, arrays, dtype)\u001b[0m\n\u001b[1;32m    585\u001b[0m     return _get_funcs(names, arrays, dtype,\n\u001b[1;32m    586\u001b[0m                       \u001b[0;34m\"LAPACK\"\u001b[0m\u001b[0;34m,\u001b[0m \u001b[0m_flapack\u001b[0m\u001b[0;34m,\u001b[0m \u001b[0m_clapack\u001b[0m\u001b[0;34m,\u001b[0m\u001b[0;34m\u001b[0m\u001b[0m\n\u001b[0;32m--> 587\u001b[0;31m                       \"flapack\", \"clapack\", _lapack_alias)\n\u001b[0m\u001b[1;32m    588\u001b[0m \u001b[0;34m\u001b[0m\u001b[0m\n\u001b[1;32m    589\u001b[0m \u001b[0;34m\u001b[0m\u001b[0m\n",
      "\u001b[0;32m/anaconda3/lib/python3.6/site-packages/scipy/linalg/blas.py\u001b[0m in \u001b[0;36m_get_funcs\u001b[0;34m(names, arrays, dtype, lib_name, fmodule, cmodule, fmodule_name, cmodule_name, alias)\u001b[0m\n\u001b[1;32m    330\u001b[0m             raise ValueError(\n\u001b[1;32m    331\u001b[0m                 '%s function %s could not be found' % (lib_name, func_name))\n\u001b[0;32m--> 332\u001b[0;31m         \u001b[0mfunc\u001b[0m\u001b[0;34m.\u001b[0m\u001b[0mmodule_name\u001b[0m\u001b[0;34m,\u001b[0m \u001b[0mfunc\u001b[0m\u001b[0;34m.\u001b[0m\u001b[0mtypecode\u001b[0m \u001b[0;34m=\u001b[0m \u001b[0mmodule_name\u001b[0m\u001b[0;34m,\u001b[0m \u001b[0mprefix\u001b[0m\u001b[0;34m\u001b[0m\u001b[0m\n\u001b[0m\u001b[1;32m    333\u001b[0m         \u001b[0mfunc\u001b[0m\u001b[0;34m.\u001b[0m\u001b[0mdtype\u001b[0m \u001b[0;34m=\u001b[0m \u001b[0mdtype\u001b[0m\u001b[0;34m\u001b[0m\u001b[0m\n\u001b[1;32m    334\u001b[0m         \u001b[0mfunc\u001b[0m\u001b[0;34m.\u001b[0m\u001b[0mprefix\u001b[0m \u001b[0;34m=\u001b[0m \u001b[0mprefix\u001b[0m  \u001b[0;31m# Backward compatibility\u001b[0m\u001b[0;34m\u001b[0m\u001b[0m\n",
      "\u001b[0;31mKeyboardInterrupt\u001b[0m: "
     ]
    }
   ],
   "source": [
    "w6 =[]\n",
    "w8 = []\n",
    "for i in range(w.shape[1]):\n",
    "    popt, pcov = optimize.curve_fit(weight_fun, x, w[:, i], p0=[1, 1, 1])\n",
    "    w6.append(weight_fun(0.6*np.pi/2, *popt))\n",
    "    w8.append(weight_fun(0.6*np.pi/2, *popt))\n",
    "    if i % 1000 == 0:\n",
    "        print(i, end='\\r')"
   ]
  },
  {
   "cell_type": "code",
   "execution_count": 31,
   "metadata": {},
   "outputs": [],
   "source": [
    "w6a = np.array(w6)"
   ]
  },
  {
   "cell_type": "code",
   "execution_count": 32,
   "metadata": {},
   "outputs": [],
   "source": [
    "w8a = np.array(w8)"
   ]
  },
  {
   "cell_type": "code",
   "execution_count": 34,
   "metadata": {},
   "outputs": [
    {
     "data": {
      "text/plain": [
       "(1000000,)"
      ]
     },
     "execution_count": 34,
     "metadata": {},
     "output_type": "execute_result"
    }
   ],
   "source": [
    "w6a.shape"
   ]
  },
  {
   "cell_type": "code",
   "execution_count": 20,
   "metadata": {},
   "outputs": [
    {
     "data": {
      "text/plain": [
       "array([1.569551, 1.626878, 0.800728, ..., 1.975514, 0.460329, 1.616711])"
      ]
     },
     "execution_count": 20,
     "metadata": {},
     "output_type": "execute_result"
    }
   ],
   "source": [
    "np.load('./ml_higgs-master/data/rhorho_raw.w_a.npy')"
   ]
  },
  {
   "cell_type": "code",
   "execution_count": 36,
   "metadata": {},
   "outputs": [],
   "source": [
    "np.save('./ml_higgs-master/data/rhorho_raw.w_a08.npy', w8a)"
   ]
  },
  {
   "cell_type": "markdown",
   "metadata": {},
   "source": [
    "# Plots"
   ]
  },
  {
   "cell_type": "markdown",
   "metadata": {},
   "source": [
    "## Model-Oracle \n",
    "python main.py -t nn_rhorho -i $RHORHO_DATA -e 50 -f Model-Oracle -d 0.2 -l 6 -s 300"
   ]
  },
  {
   "cell_type": "code",
   "execution_count": 26,
   "metadata": {},
   "outputs": [],
   "source": [
    "logs = \"\"\"EPOCH: 1 . 1.356 . 1.126 . 1.107 . 1.096 . 1.088 . 1.082 . 1.077 . 1.073 . 1.070 . 1.067 TRAIN LOSS: 1.064 AUC: 0.729 VALID AUC: 0.729\n",
    "EPOCH: 2 . 1.039 . 1.038 . 1.037 . 1.036 . 1.036 . 1.035 . 1.035 . 1.034 . 1.034 . 1.033 TRAIN LOSS: 1.033 AUC: 0.743 VALID AUC: 0.743\n",
    "EPOCH: 3 . 1.031 . 1.028 . 1.028 . 1.028 . 1.027 . 1.027 . 1.027 . 1.027 . 1.027 . 1.027 TRAIN LOSS: 1.026 AUC: 0.750 VALID AUC: 0.748\n",
    "EPOCH: 4 . 1.023 . 1.023 . 1.024 . 1.024 . 1.024 . 1.024 . 1.024 . 1.024 . 1.024 . 1.023 TRAIN LOSS: 1.023 AUC: 0.750 VALID AUC: 0.750\n",
    "EPOCH: 5 . 1.024 . 1.022 . 1.022 . 1.022 . 1.022 . 1.022 . 1.022 . 1.022 . 1.022 . 1.022 TRAIN LOSS: 1.022 AUC: 0.752 VALID AUC: 0.752\n",
    "EPOCH: 6 . 1.026 . 1.021 . 1.021 . 1.021 . 1.021 . 1.021 . 1.020 . 1.020 . 1.020 . 1.020 TRAIN LOSS: 1.020 AUC: 0.754 VALID AUC: 0.754\n",
    "EPOCH: 7 . 1.016 . 1.019 . 1.020 . 1.019 . 1.019 . 1.019 . 1.019 . 1.019 . 1.019 . 1.019 TRAIN LOSS: 1.019 AUC: 0.754 VALID AUC: 0.754\n",
    "EPOCH: 8 . 1.019 . 1.019 . 1.019 . 1.019 . 1.018 . 1.018 . 1.019 . 1.019 . 1.019 . 1.019 TRAIN LOSS: 1.019 AUC: 0.755 VALID AUC: 0.755\n",
    "EPOCH: 9 . 1.016 . 1.018 . 1.018 . 1.018 . 1.018 . 1.018 . 1.018 . 1.018 . 1.018 . 1.018 TRAIN LOSS: 1.018 AUC: 0.757 VALID AUC: 0.756\n",
    "EPOCH: 10 . 1.009 . 1.017 . 1.017 . 1.017 . 1.017 . 1.017 . 1.017 . 1.017 . 1.017 . 1.017 TRAIN LOSS: 1.017 AUC: 0.757 VALID AUC: 0.757\n",
    "EPOCH: 11 . 1.017 . 1.017 . 1.017 . 1.017 . 1.017 . 1.017 . 1.017 . 1.017 . 1.017 . 1.017 TRAIN LOSS: 1.017 AUC: 0.758 VALID AUC: 0.757\n",
    "EPOCH: 12 . 1.012 . 1.017 . 1.017 . 1.017 . 1.017 . 1.017 . 1.017 . 1.017 . 1.017 . 1.017 TRAIN LOSS: 1.016 AUC: 0.758 VALID AUC: 0.757\n",
    "EPOCH: 13 . 1.015 . 1.016 . 1.016 . 1.016 . 1.016 . 1.016 . 1.016 . 1.016 . 1.016 . 1.016 TRAIN LOSS: 1.016 AUC: 0.758 VALID AUC: 0.758\n",
    "EPOCH: 14 . 1.016 . 1.016 . 1.016 . 1.016 . 1.016 . 1.016 . 1.016 . 1.016 . 1.016 . 1.016 TRAIN LOSS: 1.016 AUC: 0.758 VALID AUC: 0.758\n",
    "EPOCH: 15 . 1.018 . 1.015 . 1.016 . 1.016 . 1.016 . 1.016 . 1.016 . 1.016 . 1.016 . 1.016 TRAIN LOSS: 1.016 AUC: 0.760 VALID AUC: 0.758\n",
    "EPOCH: 16 . 1.012 . 1.015 . 1.015 . 1.015 . 1.015 . 1.015 . 1.015 . 1.015 . 1.015 . 1.015 TRAIN LOSS: 1.015 AUC: 0.757 VALID AUC: 0.759\n",
    "EPOCH: 17 . 1.019 . 1.015 . 1.015 . 1.015 . 1.015 . 1.015 . 1.015 . 1.015 . 1.015 . 1.015 TRAIN LOSS: 1.015 AUC: 0.757 VALID AUC: 0.759\n",
    "EPOCH: 18 . 1.014 . 1.015 . 1.015 . 1.015 . 1.015 . 1.015 . 1.015 . 1.015 . 1.015 . 1.015 TRAIN LOSS: 1.015 AUC: 0.760 VALID AUC: 0.759\n",
    "EPOCH: 19 . 1.015 . 1.015 . 1.015 . 1.015 . 1.015 . 1.015 . 1.015 . 1.015 . 1.015 . 1.015 TRAIN LOSS: 1.015 AUC: 0.759 VALID AUC: 0.759\n",
    "EPOCH: 20 . 1.020 . 1.015 . 1.015 . 1.014 . 1.015 . 1.014 . 1.014 . 1.015 . 1.015 . 1.015 TRAIN LOSS: 1.015 AUC: 0.759 VALID AUC: 0.759\n",
    "EPOCH: 21 . 1.011 . 1.014 . 1.014 . 1.014 . 1.014 . 1.014 . 1.014 . 1.014 . 1.014 . 1.014 TRAIN LOSS: 1.014 AUC: 0.759 VALID AUC: 0.759\n",
    "EPOCH: 22 . 1.007 . 1.014 . 1.014 . 1.014 . 1.014 . 1.014 . 1.014 . 1.014 . 1.014 . 1.014 TRAIN LOSS: 1.014 AUC: 0.760 VALID AUC: 0.760\n",
    "EPOCH: 23 . 1.010 . 1.014 . 1.014 . 1.014 . 1.014 . 1.014 . 1.014 . 1.014 . 1.014 . 1.014 TRAIN LOSS: 1.014 AUC: 0.759 VALID AUC: 0.759\n",
    "EPOCH: 24 . 1.012 . 1.015 . 1.014 . 1.014 . 1.014 . 1.014 . 1.014 . 1.014 . 1.014 . 1.014 TRAIN LOSS: 1.014 AUC: 0.760 VALID AUC: 0.760\n",
    "EPOCH: 25 . 1.010 . 1.014 . 1.014 . 1.014 . 1.014 . 1.014 . 1.014 . 1.014 . 1.014 . 1.014 TRAIN LOSS: 1.014 AUC: 0.761 VALID AUC: 0.760\"\"\""
   ]
  },
  {
   "cell_type": "code",
   "execution_count": 27,
   "metadata": {},
   "outputs": [],
   "source": [
    "valid = []\n",
    "for l in logs.split('\\n'):\n",
    "    valid.append(float(l.split()[-1]))\n"
   ]
  },
  {
   "cell_type": "code",
   "execution_count": 28,
   "metadata": {},
   "outputs": [
    {
     "data": {
      "text/plain": [
       "[<matplotlib.lines.Line2D at 0x10a948550>]"
      ]
     },
     "execution_count": 28,
     "metadata": {},
     "output_type": "execute_result"
    },
    {
     "data": {
      "image/png": "[encoded data removed]",
      "text/plain": [
       "<Figure size 432x288 with 1 Axes>"
      ]
     },
     "metadata": {},
     "output_type": "display_data"
    }
   ],
   "source": [
    "plt.plot(valid, 'o')"
   ]
  },
  {
   "cell_type": "markdown",
   "metadata": {},
   "source": [
    "## Model-OnlyHad \n",
    "python main.py -t nn_rhorho -i $RHORHO_DATA -e 50 -f Model-OnlyHad -d 0.2 -l 6 -s 300"
   ]
  },
  {
   "cell_type": "code",
   "execution_count": 21,
   "metadata": {},
   "outputs": [],
   "source": [
    "logs=\"\"\"EPOCH: 1 . 1.343 . 1.126 . 1.112 . 1.105 . 1.100 . 1.096 . 1.093 . 1.091 . 1.089 . 1.088 TRAIN LOSS: 1.087 AUC: 0.628 VALID AUC: 0.631\n",
    "EPOCH: 2 . 1.078 . 1.077 . 1.077 . 1.077 . 1.076 . 1.076 . 1.076 . 1.076 . 1.076 . 1.076 TRAIN LOSS: 1.076 AUC: 0.633 VALID AUC: 0.633\n",
    "EPOCH: 3 . 1.075 . 1.075 . 1.075 . 1.075 . 1.075 . 1.075 . 1.075 . 1.075 . 1.075 . 1.075 TRAIN LOSS: 1.075 AUC: 0.636 VALID AUC: 0.635\n",
    "EPOCH: 4 . 1.075 . 1.074 . 1.074 . 1.074 . 1.074 . 1.074 . 1.074 . 1.074 . 1.074 . 1.074 TRAIN LOSS: 1.074 AUC: 0.633 VALID AUC: 0.636\n",
    "EPOCH: 5 . 1.077 . 1.074 . 1.074 . 1.074 . 1.074 . 1.074 . 1.074 . 1.074 . 1.074 . 1.074 TRAIN LOSS: 1.074 AUC: 0.634 VALID AUC: 0.635\n",
    "EPOCH: 6 . 1.072 . 1.074 . 1.074 . 1.074 . 1.074 . 1.074 . 1.074 . 1.074 . 1.074 . 1.074 TRAIN LOSS: 1.074 AUC: 0.637 VALID AUC: 0.636\n",
    "EPOCH: 7 . 1.072 . 1.073 . 1.074 . 1.074 . 1.073 . 1.073 . 1.073 . 1.073 . 1.073 . 1.073 TRAIN LOSS: 1.073 AUC: 0.635 VALID AUC: 0.637\n",
    "EPOCH: 8 . 1.074 . 1.073 . 1.073 . 1.073 . 1.073 . 1.073 . 1.073 . 1.073 . 1.073 . 1.073 TRAIN LOSS: 1.073 AUC: 0.637 VALID AUC: 0.637\n",
    "EPOCH: 9 . 1.074 . 1.073 . 1.073 . 1.073 . 1.073 . 1.073 . 1.073 . 1.073 . 1.073 . 1.073 TRAIN LOSS: 1.073 AUC: 0.635 VALID AUC: 0.637\n",
    "EPOCH: 10 . 1.073 . 1.074 . 1.073 . 1.073 . 1.073 . 1.073 . 1.073 . 1.073 . 1.073 . 1.073 TRAIN LOSS: 1.073 AUC: 0.635 VALID AUC: 0.637\n",
    "EPOCH: 11 . 1.078 . 1.073 . 1.073 . 1.073 . 1.073 . 1.073 . 1.073 . 1.073 . 1.073 . 1.073 TRAIN LOSS: 1.073 AUC: 0.636 VALID AUC: 0.638\n",
    "EPOCH: 12 . 1.070 . 1.073 . 1.073 . 1.073 . 1.073 . 1.073 . 1.073 . 1.073 . 1.073 . 1.073 TRAIN LOSS: 1.073 AUC: 0.638 VALID AUC: 0.638\n",
    "EPOCH: 13 . 1.073 . 1.073 . 1.073 . 1.073 . 1.073 . 1.073 . 1.073 . 1.073 . 1.073 . 1.073 TRAIN LOSS: 1.073 AUC: 0.637 VALID AUC: 0.638\n",
    "EPOCH: 14 . 1.072 . 1.073 . 1.073 . 1.073 . 1.073 . 1.073 . 1.073 . 1.073 . 1.073 . 1.073 TRAIN LOSS: 1.073 AUC: 0.637 VALID AUC: 0.638\n",
    "EPOCH: 15 . 1.072 . 1.073 . 1.073 . 1.073 . 1.073 . 1.073 . 1.073 . 1.073 . 1.073 . 1.073 TRAIN LOSS: 1.073 AUC: 0.637 VALID AUC: 0.638\n",
    "EPOCH: 16 . 1.072 . 1.073 . 1.073 . 1.073 . 1.073 . 1.073 . 1.073 . 1.073 . 1.073 . 1.073 TRAIN LOSS: 1.073 AUC: 0.637 VALID AUC: 0.638\n",
    "EPOCH: 17 . 1.076 . 1.073 . 1.073 . 1.073 . 1.073 . 1.073 . 1.073 . 1.073 . 1.073 . 1.073 TRAIN LOSS: 1.073 AUC: 0.636 VALID AUC: 0.638\n",
    "EPOCH: 18 . 1.073 . 1.073 . 1.073 . 1.073 . 1.073 . 1.073 . 1.073 . 1.073 . 1.073 . 1.073 TRAIN LOSS: 1.073 AUC: 0.637 VALID AUC: 0.638\n",
    "EPOCH: 19 . 1.073 . 1.072 . 1.072 . 1.072 . 1.072 . 1.072 . 1.072 . 1.073 . 1.073 . 1.072 TRAIN LOSS: 1.073 AUC: 0.637 VALID AUC: 0.638\n",
    "EPOCH: 20 . 1.070 . 1.073 . 1.072 . 1.072 . 1.073 . 1.072 . 1.072 . 1.072 . 1.072 . 1.072 TRAIN LOSS: 1.072 AUC: 0.638 VALID AUC: 0.638\n",
    "EPOCH: 21 . 1.070 . 1.072 . 1.072 . 1.072 . 1.072 . 1.072 . 1.072 . 1.072 . 1.073 . 1.073 TRAIN LOSS: 1.072 AUC: 0.639 VALID AUC: 0.638\n",
    "EPOCH: 22 . 1.068 . 1.072 . 1.072 . 1.072 . 1.072 . 1.072 . 1.072 . 1.072 . 1.072 . 1.072 TRAIN LOSS: 1.072 AUC: 0.636 VALID AUC: 0.638\n",
    "EPOCH: 23 . 1.071 . 1.073 . 1.073 . 1.072 . 1.072 . 1.073 . 1.072 . 1.072 . 1.072 . 1.072 TRAIN LOSS: 1.072 AUC: 0.638 VALID AUC: 0.638\n",
    "EPOCH: 24 . 1.072 . 1.072 . 1.072 . 1.072 . 1.072 . 1.072 . 1.072 . 1.072 . 1.072 . 1.072 TRAIN LOSS: 1.072 AUC: 0.638 VALID AUC: 0.639\"\"\""
   ]
  },
  {
   "cell_type": "code",
   "execution_count": 22,
   "metadata": {},
   "outputs": [],
   "source": [
    "valid = []\n",
    "for l in logs.split('\\n'):\n",
    "    valid.append(float(l.split()[-1]))\n",
    "\n"
   ]
  },
  {
   "cell_type": "code",
   "execution_count": 24,
   "metadata": {},
   "outputs": [
    {
     "data": {
      "text/plain": [
       "[<matplotlib.lines.Line2D at 0x10a7c7978>]"
      ]
     },
     "execution_count": 24,
     "metadata": {},
     "output_type": "execute_result"
    },
    {
     "data": {
      "image/png": "[encoded data removed]",
      "text/plain": [
       "<Figure size 432x288 with 1 Axes>"
      ]
     },
     "metadata": {},
     "output_type": "display_data"
    }
   ],
   "source": [
    "plt.plot(valid, 'o')"
   ]
  },
  {
   "cell_type": "code",
   "execution_count": null,
   "metadata": {},
   "outputs": [],
   "source": []
  },
  {
   "cell_type": "code",
   "execution_count": 1,
   "metadata": {},
   "outputs": [],
   "source": [
    "import numpy as np"
   ]
  },
  {
   "cell_type": "code",
   "execution_count": 7,
   "metadata": {},
   "outputs": [
    {
     "data": {
      "text/plain": [
       "(1000000,)"
      ]
     },
     "execution_count": 7,
     "metadata": {},
     "output_type": "execute_result"
    }
   ],
   "source": [
    "np.load('./ml_higgs-master/data/rhorho_raw.perm.npy').shape"
   ]
  },
  {
   "cell_type": "code",
   "execution_count": 58,
   "metadata": {},
   "outputs": [],
   "source": [
    "a = np.load('./ml_higgs-master/data/rhorho_raw.w_a.npy')\n",
    "wa02 = np.load(\"./ml_higgs-master/data/rhorho_raw.w_a02.npy\")\n",
    "wa04 = np.load(\"./ml_higgs-master/data/rhorho_raw.w_a04.npy\")\n",
    "wa06 = np.load(\"./ml_higgs-master/data/rhorho_raw.w_a06.npy\")\n",
    "wa08 = np.load(\"./ml_higgs-master/data/rhorho_raw.w_a08.npy\")"
   ]
  },
  {
   "cell_type": "code",
   "execution_count": 59,
   "metadata": {},
   "outputs": [],
   "source": [
    "b = np.load('./ml_higgs-master/data/rhorho_raw.w_b.npy')"
   ]
  },
  {
   "cell_type": "code",
   "execution_count": 64,
   "metadata": {},
   "outputs": [],
   "source": [
    "np.save(\"./ml_higgs-master/data/rhorho_raw.w.npy\", np.stack([a, wa02, wa04, wa06, wa08 , b], axis=1), )"
   ]
  },
  {
   "cell_type": "code",
   "execution_count": null,
   "metadata": {},
   "outputs": [],
   "source": []
  },
  {
   "cell_type": "code",
   "execution_count": 66,
   "metadata": {},
   "outputs": [
    {
     "data": {
      "text/plain": [
       "array([0. , 0.2, 0.4, 0.6, 0.8, 1. ])"
      ]
     },
     "execution_count": 66,
     "metadata": {},
     "output_type": "execute_result"
    }
   ],
   "source": [
    "np.linspace(0, 1, 6)"
   ]
  },
  {
   "cell_type": "code",
   "execution_count": 41,
   "metadata": {},
   "outputs": [],
   "source": [
    "ps = np.load('./ml_higgs-master/ps.npy')\n",
    "ps2 = np.load('./ml_higgs-master/ps2.npy')"
   ]
  },
  {
   "cell_type": "code",
   "execution_count": 80,
   "metadata": {},
   "outputs": [
    {
     "data": {
      "text/plain": [
       "Text(0.5,0,'2Φ/π')"
      ]
     },
     "execution_count": 80,
     "metadata": {},
     "output_type": "execute_result"
    },
    {
     "data": {
      "image/png": "[encoded data removed]",
      "text/plain": [
       "<Figure size 432x288 with 1 Axes>"
      ]
     },
     "metadata": {},
     "output_type": "display_data"
    }
   ],
   "source": [
    "i = 1800\n",
    "plt.scatter(np.linspace(0,1, 50), ps[i])\n",
    "plt.scatter(np.linspace(0,1, 50), ps2[i]/np.sum(ps2[i]))\n",
    "plt.ylabel('Normalized weight')\n",
    "plt.xlabel('2\\u03A6/\\u03C0')"
   ]
  },
  {
   "cell_type": "code",
   "execution_count": 81,
   "metadata": {},
   "outputs": [
    {
     "data": {
      "text/plain": [
       "array([False, False, False, ...,  True, False,  True])"
      ]
     },
     "execution_count": 81,
     "metadata": {},
     "output_type": "execute_result"
    }
   ],
   "source": [
    "np.argmax(ps, axis=1)==np.argmax(ps2, axis=1)"
   ]
  },
  {
   "cell_type": "code",
   "execution_count": 84,
   "metadata": {},
   "outputs": [],
   "source": [
    "def weight_fun(x, a, b, c):\n",
    "    return a + b * np.cos(x) + c * np.sin(x)"
   ]
  },
  {
   "cell_type": "code",
   "execution_count": 91,
   "metadata": {},
   "outputs": [],
   "source": [
    "ropts = np.load('./ml_higgs-master/ropts.npy')\n",
    "ropts2 = np.load('./ml_higgs-master/ropts2.npy')"
   ]
  },
  {
   "cell_type": "code",
   "execution_count": 115,
   "metadata": {},
   "outputs": [],
   "source": [
    "x = np.linspace(0, np.pi, 1000)"
   ]
  },
  {
   "cell_type": "code",
   "execution_count": 141,
   "metadata": {},
   "outputs": [
    {
     "data": {
      "text/plain": [
       "[<matplotlib.lines.Line2D at 0x102fba17b8>]"
      ]
     },
     "execution_count": 141,
     "metadata": {},
     "output_type": "execute_result"
    },
    {
     "data": {
      "image/png": "[encoded data removed]",
      "text/plain": [
       "<Figure size 432x288 with 1 Axes>"
      ]
     },
     "metadata": {},
     "output_type": "display_data"
    }
   ],
   "source": [
    "i = 1002\n",
    "plt.plot(x, weight_fun(x, *ropts[i]))\n",
    "plt.plot(x, weight_fun(x, *ropts2[i]))"
   ]
  },
  {
   "cell_type": "code",
   "execution_count": 129,
   "metadata": {},
   "outputs": [],
   "source": [
    "res = 0\n",
    "for i in range(1000):\n",
    "    res += np.sum((np.argmax(weight_fun(x, *ropts[i]))/1000 - np.argmax(weight_fun(x, *ropts2[i]))/1000)**2)"
   ]
  },
  {
   "cell_type": "code",
   "execution_count": 131,
   "metadata": {},
   "outputs": [
    {
     "data": {
      "text/plain": [
       "0.28511001099999966"
      ]
     },
     "execution_count": 131,
     "metadata": {},
     "output_type": "execute_result"
    }
   ],
   "source": [
    "res/1000"
   ]
  },
  {
   "cell_type": "code",
   "execution_count": null,
   "metadata": {},
   "outputs": [],
   "source": [
    "plt.scatter()"
   ]
  },
  {
   "cell_type": "code",
   "execution_count": 13,
   "metadata": {},
   "outputs": [],
   "source": [
    "popts = np.load('./ml_higgs-master/data/popts.npy')"
   ]
  },
  {
   "cell_type": "code",
   "execution_count": 270,
   "metadata": {},
   "outputs": [
    {
     "data": {
      "image/png": "[encoded data removed]",
      "text/plain": [
       "<Figure size 432x288 with 1 Axes>"
      ]
     },
     "metadata": {},
     "output_type": "display_data"
    }
   ],
   "source": [
    "plt.hist(popts[:,1], bins=100)\n",
    "plt.show()"
   ]
  },
  {
   "cell_type": "code",
   "execution_count": 261,
   "metadata": {},
   "outputs": [
    {
     "data": {
      "text/plain": [
       "array([0.86551671, 0.62738729, 0.33164053])"
      ]
     },
     "execution_count": 261,
     "metadata": {},
     "output_type": "execute_result"
    }
   ],
   "source": [
    "popts[0, :]"
   ]
  },
  {
   "cell_type": "code",
   "execution_count": null,
   "metadata": {},
   "outputs": [],
   "source": []
  },
  {
   "cell_type": "code",
   "execution_count": null,
   "metadata": {},
   "outputs": [],
   "source": []
  },
  {
   "cell_type": "markdown",
   "metadata": {},
   "source": [
    "# Analysis"
   ]
  },
  {
   "cell_type": "code",
   "execution_count": 225,
   "metadata": {},
   "outputs": [],
   "source": [
    "x=np.linspace(0,2*np.pi)\n",
    "y=np.cos(x)"
   ]
  },
  {
   "cell_type": "code",
   "execution_count": 226,
   "metadata": {},
   "outputs": [
    {
     "data": {
      "text/plain": [
       "[<matplotlib.lines.Line2D at 0x101dd84320>]"
      ]
     },
     "execution_count": 226,
     "metadata": {},
     "output_type": "execute_result"
    },
    {
     "data": {
      "image/png": "[encoded data removed]",
      "text/plain": [
       "<Figure size 432x288 with 1 Axes>"
      ]
     },
     "metadata": {},
     "output_type": "display_data"
    }
   ],
   "source": [
    "plt.plot(x, y)"
   ]
  },
  {
   "cell_type": "code",
   "execution_count": 227,
   "metadata": {},
   "outputs": [],
   "source": [
    "from scipy.stats import wasserstein_distance, energy_distance"
   ]
  },
  {
   "cell_type": "code",
   "execution_count": 229,
   "metadata": {},
   "outputs": [],
   "source": [
    "c =0\n",
    "alphas = np.linspace(0, 2*np.pi)\n",
    "y_orig =np.cos(x + 0.4*np.pi)\n",
    "\n",
    "kls = []\n",
    "for alpha in alphas:\n",
    "    kls.append(1/energy_distance(y_orig, np.cos(x+alpha)))\n"
   ]
  },
  {
   "cell_type": "code",
   "execution_count": 230,
   "metadata": {},
   "outputs": [
    {
     "data": {
      "text/plain": [
       "[<matplotlib.lines.Line2D at 0x101dde66a0>]"
      ]
     },
     "execution_count": 230,
     "metadata": {},
     "output_type": "execute_result"
    },
    {
     "data": {
      "image/png": "[encoded data removed]",
      "text/plain": [
       "<Figure size 432x288 with 1 Axes>"
      ]
     },
     "metadata": {},
     "output_type": "display_data"
    }
   ],
   "source": [
    "plt.plot(alphas, kls)"
   ]
  },
  {
   "cell_type": "code",
   "execution_count": 169,
   "metadata": {},
   "outputs": [
    {
     "data": {
      "text/plain": [
       "array([100.        , 100.12822827, 100.25645654, 100.38468481,\n",
       "       100.51291309, 100.64114136, 100.76936963, 100.8975979 ,\n",
       "       101.02582617, 101.15405444, 101.28228272, 101.41051099,\n",
       "       101.53873926, 101.66696753, 101.7951958 , 101.92342407,\n",
       "       102.05165235, 102.17988062, 102.30810889, 102.43633716,\n",
       "       102.56456543, 102.6927937 , 102.82102197, 102.94925025,\n",
       "       103.07747852, 103.20570679, 103.33393506, 103.46216333,\n",
       "       103.5903916 , 103.71861988, 103.84684815, 103.97507642,\n",
       "       104.10330469, 104.23153296, 104.35976123, 104.48798951,\n",
       "       104.61621778, 104.74444605, 104.87267432, 105.00090259,\n",
       "       105.12913086, 105.25735913, 105.38558741, 105.51381568,\n",
       "       105.64204395, 105.77027222, 105.89850049, 106.02672876,\n",
       "       106.15495704, 106.28318531])"
      ]
     },
     "execution_count": 169,
     "metadata": {},
     "output_type": "execute_result"
    }
   ],
   "source": []
  },
  {
   "cell_type": "code",
   "execution_count": 152,
   "metadata": {},
   "outputs": [
    {
     "data": {
      "text/plain": [
       "[<matplotlib.lines.Line2D at 0x101c3f1b70>]"
      ]
     },
     "execution_count": 152,
     "metadata": {},
     "output_type": "execute_result"
    },
    {
     "data": {
      "image/png": "[encoded data removed]",
      "text/plain": [
       "<Figure size 432x288 with 1 Axes>"
      ]
     },
     "metadata": {},
     "output_type": "display_data"
    }
   ],
   "source": [
    "plt.plot(x, np.cos(x + 0.1*np.pi))\n",
    "plt.plot(x, np.cos(x + 2.8))"
   ]
  },
  {
   "cell_type": "code",
   "execution_count": null,
   "metadata": {},
   "outputs": [],
   "source": []
  },
  {
   "cell_type": "code",
   "execution_count": null,
   "metadata": {},
   "outputs": [],
   "source": []
  },
  {
   "cell_type": "markdown",
   "metadata": {},
   "source": [
    "# TEST"
   ]
  },
  {
   "cell_type": "code",
   "execution_count": 234,
   "metadata": {},
   "outputs": [],
   "source": [
    "import numpy as np"
   ]
  },
  {
   "cell_type": "code",
   "execution_count": 238,
   "metadata": {},
   "outputs": [],
   "source": [
    "a00 = np.load('/Users/msadowski/Downloads/rhorho_raw.w_00.npy')\n",
    "a01 = np.load('/Users/msadowski/Downloads/rhorho_raw.w_01.npy')\n",
    "a02 = np.load('/Users/msadowski/Downloads/rhorho_raw.w_02.npy')\n",
    "a03 = np.load('/Users/msadowski/Downloads/rhorho_raw.w_03.npy')\n",
    "a04 = np.load('/Users/msadowski/Downloads/rhorho_raw.w_04.npy')\n",
    "a05 = np.load('/Users/msadowski/Downloads/rhorho_raw.w_05.npy')\n",
    "a06 = np.load('/Users/msadowski/Downloads/rhorho_raw.w_06.npy')\n",
    "a07 = np.load('/Users/msadowski/Downloads/rhorho_raw.w_07.npy')\n",
    "a08 = np.load('/Users/msadowski/Downloads/rhorho_raw.w_08.npy')\n",
    "a09 = np.load('/Users/msadowski/Downloads/rhorho_raw.w_09.npy')\n",
    "a10 = np.load('/Users/msadowski/Downloads/rhorho_raw.w_10.npy')"
   ]
  },
  {
   "cell_type": "code",
   "execution_count": 257,
   "metadata": {},
   "outputs": [
    {
     "data": {
      "image/png": "[encoded data removed]",
      "text/plain": [
       "<Figure size 432x288 with 1 Axes>"
      ]
     },
     "metadata": {},
     "output_type": "display_data"
    }
   ],
   "source": [
    "for i in [20, 60]:\n",
    "    b = [a00[i], a01[i],a02[i], a03[i],a04[i], a05[i],a06[i], a07[i], a08[i], a09[i],a10[i]]\n",
    "    plt.scatter(np.linspace(0, 2*np.pi, 11), b)"
   ]
  },
  {
   "cell_type": "markdown",
   "metadata": {},
   "source": [
    "# Test maxs"
   ]
  },
  {
   "cell_type": "code",
   "execution_count": 7,
   "metadata": {},
   "outputs": [],
   "source": [
    "maxs =np.load('./ml_higgs-master/results_20.npy')"
   ]
  },
  {
   "cell_type": "code",
   "execution_count": 8,
   "metadata": {},
   "outputs": [
    {
     "data": {
      "text/plain": [
       "(array([23744.,  6794.,  5047.,  2929.,  1290.,  1566.,  1636.,  1658.,\n",
       "         1858., 53478.]),\n",
       " array([ 0. ,  4.9,  9.8, 14.7, 19.6, 24.5, 29.4, 34.3, 39.2, 44.1, 49. ]),\n",
       " <a list of 10 Patch objects>)"
      ]
     },
     "execution_count": 8,
     "metadata": {},
     "output_type": "execute_result"
    },
    {
     "data": {
      "image/png": "[encoded data removed]",
      "text/plain": [
       "<Figure size 432x288 with 1 Axes>"
      ]
     },
     "metadata": {},
     "output_type": "display_data"
    }
   ],
   "source": [
    "plt.hist(maxs)"
   ]
  },
  {
   "cell_type": "code",
   "execution_count": 9,
   "metadata": {},
   "outputs": [],
   "source": [
    "maxs_all =np.load('./ml_higgs-master/results_20_all.npy')"
   ]
  },
  {
   "cell_type": "code",
   "execution_count": 10,
   "metadata": {},
   "outputs": [
    {
     "data": {
      "text/plain": [
       "(array([23768.,  5101.,  6022.,  5299.,  5169.,  2289.,   927.,  2108.,\n",
       "         2436., 46881.]),\n",
       " array([ 0. ,  4.9,  9.8, 14.7, 19.6, 24.5, 29.4, 34.3, 39.2, 44.1, 49. ]),\n",
       " <a list of 10 Patch objects>)"
      ]
     },
     "execution_count": 10,
     "metadata": {},
     "output_type": "execute_result"
    },
    {
     "data": {
      "image/png": "[encoded data removed]",
      "text/plain": [
       "<Figure size 432x288 with 1 Axes>"
      ]
     },
     "metadata": {},
     "output_type": "display_data"
    }
   ],
   "source": [
    "plt.hist(maxs_all)"
   ]
  },
  {
   "cell_type": "code",
   "execution_count": 11,
   "metadata": {},
   "outputs": [
    {
     "data": {
      "text/plain": [
       "(array([182420.,  53274.,  62605.,  57476.,  44741.,  34156.,  28539.,\n",
       "         26281.,  27979., 282529.]),\n",
       " array([ 0. ,  4.9,  9.8, 14.7, 19.6, 24.5, 29.4, 34.3, 39.2, 44.1, 49. ]),\n",
       " <a list of 10 Patch objects>)"
      ]
     },
     "execution_count": 11,
     "metadata": {},
     "output_type": "execute_result"
    },
    {
     "data": {
      "image/png": "[encoded data removed]",
      "text/plain": [
       "<Figure size 432x288 with 1 Axes>"
      ]
     },
     "metadata": {},
     "output_type": "display_data"
    }
   ],
   "source": [
    "plt.hist(np.load('./ml_higgs-master/maxW.npy'))"
   ]
  },
  {
   "cell_type": "code",
   "execution_count": 12,
   "metadata": {},
   "outputs": [
    {
     "data": {
      "text/plain": [
       "(array([ 91449.,  26459.,  31278.,  28801.,  22375.,  17084.,  14118.,\n",
       "         13205.,  14113., 141845.]),\n",
       " array([ 0. ,  4.9,  9.8, 14.7, 19.6, 24.5, 29.4, 34.3, 39.2, 44.1, 49. ]),\n",
       " <a list of 10 Patch objects>)"
      ]
     },
     "execution_count": 12,
     "metadata": {},
     "output_type": "execute_result"
    },
    {
     "data": {
      "image/png": "[encoded data removed]",
      "text/plain": [
       "<Figure size 432x288 with 1 Axes>"
      ]
     },
     "metadata": {},
     "output_type": "display_data"
    }
   ],
   "source": [
    "plt.hist(np.load('./ml_higgs-master/maxW_unw.npy'))"
   ]
  },
  {
   "cell_type": "code",
   "execution_count": null,
   "metadata": {},
   "outputs": [],
   "source": []
  }
 ],
 "metadata": {
  "kernelspec": {
   "display_name": "Python 3",
   "language": "python",
   "name": "python3"
  },
  "language_info": {
   "codemirror_mode": {
    "name": "ipython",
    "version": 3
   },
   "file_extension": ".py",
   "mimetype": "text/x-python",
   "name": "python",
   "nbconvert_exporter": "python",
   "pygments_lexer": "ipython3",
   "version": "3.6.5"
  }
 },
 "nbformat": 4,
 "nbformat_minor": 2
}
